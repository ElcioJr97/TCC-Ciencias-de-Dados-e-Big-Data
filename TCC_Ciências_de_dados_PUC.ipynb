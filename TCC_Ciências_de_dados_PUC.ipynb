{
  "nbformat": 4,
  "nbformat_minor": 0,
  "metadata": {
    "colab": {
      "provenance": []
    },
    "kernelspec": {
      "name": "python3",
      "display_name": "Python 3"
    },
    "language_info": {
      "name": "python"
    }
  },
  "cells": [
    {
      "cell_type": "markdown",
      "source": [
        "# **TCC - Ciências de dados e big data - PUC MG**\n",
        "## ***Modelagem Preditiva para Análise de Churn: Um Estudo de Caso na Indústria de Telecomunicações***\n",
        "###Aluno: Elcio Rezende Junior\n",
        "###Turma: 2022"
      ],
      "metadata": {
        "id": "0GlBIAp0MzbE"
      }
    },
    {
      "cell_type": "markdown",
      "source": [
        "## **Sumário**\n",
        "###**1 - Coleta de Dados**\n",
        "###**2 - Processamento/tratamendo de dados para análise e exploração**\n",
        "###**3 - Análise e Exploração dos Dados**\n",
        "####*3.1 - Churn*\n",
        "####*3.2 - City*\n",
        "####*3.3 - Ternune Months*\n",
        "####*3.4 - Contract type*\n",
        "####*3.5 - Gender*\n",
        "####*3.6 - Payment Method*\n",
        "####*3.7 - Internet Service*\n",
        "####*3.8 - Internet Service / Payment Method*\n",
        "###**4 - Processamento/tratamendo de dados para o modelo**\n",
        "###**5 - O Modelo**\n",
        "####*5.1 - Logistic Regression*\n",
        "####*5.2 - Decision Tree*\n",
        "####*5.3 - Random Forest*\n",
        "####*5.4 - Comparação Entre Modelos*\n",
        "###**6 - Cross Validation**\n",
        "####*6.1 - Logistic Regression*\n",
        "####*6.2 - Decision Tree*\n",
        "####*6.3 - Random Forest*\n",
        "####*6.4 - Comparação Entre Modelos Após o Tuning*\n",
        "###**7 - Refinamento do Modelo Escolhido**\n",
        "###**8 - Cadastro e Teste Para Novos Clientes**"
      ],
      "metadata": {
        "id": "9N4XWi1HVcH_"
      }
    },
    {
      "cell_type": "markdown",
      "source": [
        "## **1 - Coleta de Dados**\n",
        "\n",
        "\n",
        "### PySpark\n",
        "\n",
        "O PySpark, construído sobre o Apache Spark, é uma poderosa biblioteca que proporciona a flexibilidade do Python juntamente com a capacidade de processamento distribuído do Spark. Essa combinação única permite que manipulemos e analisemos grandes volumes de dados de maneira escalável e eficiente.\n",
        "\n",
        "\n",
        "No projeto em questão, optou-se por aproveitar a potência do PySpark para processar grandes conjuntos de dados de maneira distribuída. Uma peça fundamental nessa jornada é o conceito de SparkSession, uma interface única que lhes permite interagir e coordenar operações com o Apache Spark de forma eficiente e simplificada.\n",
        "\n",
        "Os dados serão coletados a partir do site kaggle.\n",
        "\n",
        "https://www.kaggle.com/datasets/yeanzc/telco-customer-churn-ibm-dataset\n",
        "\n",
        "O dataset consiste em dados de clientes de uma prestadora de serviços de telefonia e internet.\n",
        "\n",
        "Será feito o download pela plataforma no formato XLSX, o primeiro tratamento é transforma-lo em CSV utilizando Microsoft Excel.\n",
        "\n",
        "A partir disso, será feito o upload para um repositório do colab para então ler os dados utilizando o spark."
      ],
      "metadata": {
        "id": "2cFJ7zsfOByk"
      }
    },
    {
      "cell_type": "code",
      "source": [
        "!pip install pyspark"
      ],
      "metadata": {
        "colab": {
          "base_uri": "https://localhost:8080/"
        },
        "id": "txVo2JSKNCYq",
        "outputId": "740513ae-d57b-4d3b-caa1-a19e0df573dc"
      },
      "execution_count": null,
      "outputs": [
        {
          "output_type": "stream",
          "name": "stdout",
          "text": [
            "Collecting pyspark\n",
            "  Downloading pyspark-3.5.0.tar.gz (316.9 MB)\n",
            "\u001b[2K     \u001b[90m━━━━━━━━━━━━━━━━━━━━━━━━━━━━━━━━━━━━━━━━\u001b[0m \u001b[32m316.9/316.9 MB\u001b[0m \u001b[31m3.9 MB/s\u001b[0m eta \u001b[36m0:00:00\u001b[0m\n",
            "\u001b[?25h  Preparing metadata (setup.py) ... \u001b[?25l\u001b[?25hdone\n",
            "Requirement already satisfied: py4j==0.10.9.7 in /usr/local/lib/python3.10/dist-packages (from pyspark) (0.10.9.7)\n",
            "Building wheels for collected packages: pyspark\n",
            "  Building wheel for pyspark (setup.py) ... \u001b[?25l\u001b[?25hdone\n",
            "  Created wheel for pyspark: filename=pyspark-3.5.0-py2.py3-none-any.whl size=317425345 sha256=21f52fec78df5ab05c87e910e874b1e5a2fa55f6a7b7833b6ba2fa4662507c5c\n",
            "  Stored in directory: /root/.cache/pip/wheels/41/4e/10/c2cf2467f71c678cfc8a6b9ac9241e5e44a01940da8fbb17fc\n",
            "Successfully built pyspark\n",
            "Installing collected packages: pyspark\n",
            "Successfully installed pyspark-3.5.0\n"
          ]
        }
      ]
    },
    {
      "cell_type": "code",
      "source": [
        "from pyspark.sql import SparkSession\n",
        "from pyspark.sql import functions as f\n",
        "from pyspark.ml.feature import VectorAssembler\n",
        "from pyspark.ml.classification import LogisticRegression\n",
        "from pyspark.ml.classification import DecisionTreeClassifier\n",
        "from pyspark.ml.classification import RandomForestClassifier\n",
        "from pyspark.ml.evaluation import MulticlassClassificationEvaluator\n",
        "from pyspark.ml.tuning import CrossValidator, ParamGridBuilder\n",
        "import pandas as pd\n",
        "import numpy as np\n",
        "import matplotlib.pyplot as plt\n",
        "import seaborn as sns\n",
        "import plotly.express as px"
      ],
      "metadata": {
        "id": "yjrY4gWZO70B"
      },
      "execution_count": null,
      "outputs": []
    },
    {
      "cell_type": "code",
      "source": [
        "spark = SparkSession.builder.master('local[*]').appName(\"TCC Ciencias de Dados e Big Data - Elcio Junior\").getOrCreate()"
      ],
      "metadata": {
        "id": "Rkq3Oh98QYec"
      },
      "execution_count": null,
      "outputs": []
    },
    {
      "cell_type": "code",
      "source": [
        "spark"
      ],
      "metadata": {
        "colab": {
          "base_uri": "https://localhost:8080/",
          "height": 219
        },
        "id": "DsAwFauFQbrP",
        "outputId": "93ab34d8-262b-40cb-cd1d-e5bee58d1460"
      },
      "execution_count": null,
      "outputs": [
        {
          "output_type": "execute_result",
          "data": {
            "text/plain": [
              "<pyspark.sql.session.SparkSession at 0x7828f9e49db0>"
            ],
            "text/html": [
              "\n",
              "            <div>\n",
              "                <p><b>SparkSession - in-memory</b></p>\n",
              "                \n",
              "        <div>\n",
              "            <p><b>SparkContext</b></p>\n",
              "\n",
              "            <p><a href=\"http://b9528ad1f007:4040\">Spark UI</a></p>\n",
              "\n",
              "            <dl>\n",
              "              <dt>Version</dt>\n",
              "                <dd><code>v3.5.0</code></dd>\n",
              "              <dt>Master</dt>\n",
              "                <dd><code>local[*]</code></dd>\n",
              "              <dt>AppName</dt>\n",
              "                <dd><code>TCC Ciencias de Dados e Big Data - Elcio Junior</code></dd>\n",
              "            </dl>\n",
              "        </div>\n",
              "        \n",
              "            </div>\n",
              "        "
            ]
          },
          "metadata": {},
          "execution_count": 4
        }
      ]
    },
    {
      "cell_type": "code",
      "source": [
        "telco_customer = '/content/Telco_customer_churn.csv'"
      ],
      "metadata": {
        "id": "5LLkdNLvS4hQ"
      },
      "execution_count": null,
      "outputs": []
    },
    {
      "cell_type": "code",
      "source": [
        "df_telco_customer = spark.read.csv(telco_customer, sep=';', header=True, inferSchema=True)"
      ],
      "metadata": {
        "id": "6UGcgGSQQf4a"
      },
      "execution_count": null,
      "outputs": []
    },
    {
      "cell_type": "code",
      "source": [
        "df_telco_customer.show()"
      ],
      "metadata": {
        "colab": {
          "base_uri": "https://localhost:8080/"
        },
        "id": "zzlLgL2L8lKn",
        "outputId": "6f5c63e5-7050-411a-b1ed-a2be3c6f59ca"
      },
      "execution_count": null,
      "outputs": [
        {
          "output_type": "stream",
          "name": "stdout",
          "text": [
            "+----------+-----+-------------+----------+---------------+--------+--------------------+---------+-----------+------+--------------+-------+----------+-------------+-------------+----------------+----------------+-------------------+-------------------+-------------------+-------------------+-------------------+-------------------+--------------+-----------------+--------------------+---------------+-------------+-----------+-----------+-----------+----+--------------------+\n",
            "|CustomerID|Count|      Country|     State|           City|Zip Code|            Lat Long| Latitude|  Longitude|Gender|Senior Citizen|Partner|Dependents|Tenure Months|Phone Service|  Multiple Lines|Internet Service|    Online Security|      Online Backup|  Device Protection|       Tech Support|       Streaming TV|   Streaming Movies|      Contract|Paperless Billing|      Payment Method|Monthly Charges|Total Charges|Churn Label|Churn Value|Churn Score|CLTV|        Churn Reason|\n",
            "+----------+-----+-------------+----------+---------------+--------+--------------------+---------+-----------+------+--------------+-------+----------+-------------+-------------+----------------+----------------+-------------------+-------------------+-------------------+-------------------+-------------------+-------------------+--------------+-----------------+--------------------+---------------+-------------+-----------+-----------+-----------+----+--------------------+\n",
            "|3668-QPYBK|    1|United States|California|    Los Angeles|   90003|33.964131, -118.2...|33,964131|-118,272783|  Male|            No|     No|        No|            2|          Yes|              No|             DSL|                Yes|                Yes|                 No|                 No|                 No|                 No|Month-to-month|              Yes|        Mailed check|          53,85|       108,15|        Yes|          1|         86|3239|Competitor made b...|\n",
            "|9237-HQITU|    1|United States|California|    Los Angeles|   90005|34.059281, -118.3...|34,059281|-118,307420|Female|            No|     No|       Yes|            2|          Yes|              No|     Fiber optic|                 No|                 No|                 No|                 No|                 No|                 No|Month-to-month|              Yes|    Electronic check|           70,7|       151,65|        Yes|          1|         67|2701|               Moved|\n",
            "|9305-CDSKC|    1|United States|California|    Los Angeles|   90006|34.048013, -118.2...|34,048013|-118,293953|Female|            No|     No|       Yes|            8|          Yes|             Yes|     Fiber optic|                 No|                 No|                Yes|                 No|                Yes|                Yes|Month-to-month|              Yes|    Electronic check|          99,65|        820,5|        Yes|          1|         86|5372|               Moved|\n",
            "|7892-POOKP|    1|United States|California|    Los Angeles|   90010|34.062125, -118.3...|34,062125|-118,315709|Female|            No|    Yes|       Yes|           28|          Yes|             Yes|     Fiber optic|                 No|                 No|                Yes|                Yes|                Yes|                Yes|Month-to-month|              Yes|    Electronic check|          104,8|      3046,05|        Yes|          1|         84|5003|               Moved|\n",
            "|0280-XJGEX|    1|United States|California|    Los Angeles|   90015|34.039224, -118.2...|34,039224|-118,266293|  Male|            No|     No|       Yes|           49|          Yes|             Yes|     Fiber optic|                 No|                Yes|                Yes|                 No|                Yes|                Yes|Month-to-month|              Yes|Bank transfer (au...|          103,7|       5036,3|        Yes|          1|         89|5340|Competitor had be...|\n",
            "|4190-MFLUW|    1|United States|California|    Los Angeles|   90020|34.066367, -118.3...|34,066367|-118,309868|Female|            No|    Yes|        No|           10|          Yes|              No|             DSL|                 No|                 No|                Yes|                Yes|                 No|                 No|Month-to-month|               No|Credit card (auto...|           55,2|       528,35|        Yes|          1|         78|5925|Competitor offere...|\n",
            "|8779-QRDMV|    1|United States|California|    Los Angeles|   90022|34.02381, -118.15...|34,023810|-118,156582|  Male|           Yes|     No|        No|            1|           No|No phone service|             DSL|                 No|                 No|                Yes|                 No|                 No|                Yes|Month-to-month|              Yes|    Electronic check|          39,65|        39,65|        Yes|          1|        100|5433|Competitor offere...|\n",
            "|1066-JKSGK|    1|United States|California|    Los Angeles|   90024|34.066303, -118.4...|34,066303|-118,435479|  Male|            No|     No|        No|            1|          Yes|              No|              No|No internet service|No internet service|No internet service|No internet service|No internet service|No internet service|Month-to-month|               No|        Mailed check|          20,15|        20,15|        Yes|          1|         92|4832|Competitor made b...|\n",
            "|6467-CHFZW|    1|United States|California|    Los Angeles|   90028|34.099869, -118.3...|34,099869|-118,326843|  Male|            No|    Yes|       Yes|           47|          Yes|             Yes|     Fiber optic|                 No|                Yes|                 No|                 No|                Yes|                Yes|Month-to-month|              Yes|    Electronic check|          99,35|      4749,15|        Yes|          1|         77|5789|Competitor had be...|\n",
            "|8665-UTDHZ|    1|United States|California|    Los Angeles|   90029|34.089953, -118.2...|34,089953|-118,294824|  Male|            No|    Yes|        No|            1|           No|No phone service|             DSL|                 No|                Yes|                 No|                 No|                 No|                 No|Month-to-month|               No|    Electronic check|           30,2|         30,2|        Yes|          1|         97|2915|Competitor had be...|\n",
            "|8773-HHUOZ|    1|United States|California|    Los Angeles|   90032|34.078821, -118.1...|34,078821|-118,177576|Female|            No|     No|        No|           17|          Yes|              No|             DSL|                 No|                 No|                 No|                 No|                Yes|                Yes|Month-to-month|              Yes|        Mailed check|           64,7|       1093,1|        Yes|          1|         74|3022|Competitor offere...|\n",
            "|6047-YHPVI|    1|United States|California|    Los Angeles|   90039|34.110845, -118.2...|34,110845|-118,259595|  Male|            No|     No|       Yes|            5|          Yes|              No|     Fiber optic|                 No|                 No|                 No|                 No|                 No|                 No|Month-to-month|              Yes|    Electronic check|           69,7|        316,9|        Yes|          1|         66|2454|Competitor offere...|\n",
            "|5380-WJKOV|    1|United States|California|    Los Angeles|   90041|34.137412, -118.2...|34,137412|-118,207607|  Male|            No|     No|       Yes|           34|          Yes|             Yes|     Fiber optic|                 No|                Yes|                Yes|                 No|                Yes|                Yes|Month-to-month|              Yes|    Electronic check|         106,35|      3549,25|        Yes|          1|         65|2941|Competitor offere...|\n",
            "|8168-UQWWF|    1|United States|California|    Los Angeles|   90042|34.11572, -118.19...|34,115720|-118,192754|Female|            No|     No|       Yes|           11|          Yes|             Yes|     Fiber optic|                 No|                 No|                Yes|                 No|                Yes|                Yes|Month-to-month|              Yes|Bank transfer (au...|          97,85|       1105,4|        Yes|          1|         70|5674|Competitor offere...|\n",
            "|7760-OYPDY|    1|United States|California|    Los Angeles|   90056|33.987945, -118.3...|33,987945|-118,370442|Female|            No|     No|       Yes|            2|          Yes|              No|     Fiber optic|                 No|                 No|                 No|                 No|                Yes|                 No|Month-to-month|              Yes|    Electronic check|          80,65|       144,15|        Yes|          1|         90|5586|Competitor offere...|\n",
            "|9420-LOJKX|    1|United States|California|    Los Angeles|   90061|33.92128, -118.27...|33,921280|-118,274186|Female|            No|     No|       Yes|           15|          Yes|              No|     Fiber optic|                Yes|                Yes|                 No|                 No|                Yes|                Yes|Month-to-month|              Yes|Credit card (auto...|           99,1|       1426,4|        Yes|          1|         82|2966|Competitor offere...|\n",
            "|7495-OOKFY|    1|United States|California|    Los Angeles|   90063|34.044271, -118.1...|34,044271|-118,185237|Female|           Yes|    Yes|       Yes|            8|          Yes|             Yes|     Fiber optic|                 No|                Yes|                 No|                 No|                 No|                 No|Month-to-month|              Yes|Credit card (auto...|          80,65|        633,3|        Yes|          1|         69|5302|Competitor made b...|\n",
            "|1658-BYGOY|    1|United States|California|    Los Angeles|   90065|34.108833, -118.2...|34,108833|-118,229715|  Male|           Yes|     No|       Yes|           18|          Yes|             Yes|     Fiber optic|                 No|                 No|                 No|                 No|                Yes|                Yes|Month-to-month|              Yes|    Electronic check|          95,45|      1752,55|        Yes|          1|         81|3179|Competitor made b...|\n",
            "|5698-BQJOH|    1|United States|California|  Beverly Hills|   90211|34.063947, -118.3...|34,063947|-118,383001|Female|            No|     No|       Yes|            9|          Yes|             Yes|     Fiber optic|                 No|                 No|                 No|                 No|                Yes|                Yes|Month-to-month|               No|    Electronic check|           94,4|       857,25|        Yes|          1|         96|5571|      Price too high|\n",
            "|5919-TMRGD|    1|United States|California|Huntington Park|   90255|33.97803, -118.21...|33,978030|-118,217141|Female|            No|     No|       Yes|            1|          Yes|              No|     Fiber optic|                 No|                 No|                 No|                 No|                Yes|                 No|Month-to-month|              Yes|    Electronic check|          79,35|        79,35|        Yes|          1|         87|2483|Product dissatisf...|\n",
            "+----------+-----+-------------+----------+---------------+--------+--------------------+---------+-----------+------+--------------+-------+----------+-------------+-------------+----------------+----------------+-------------------+-------------------+-------------------+-------------------+-------------------+-------------------+--------------+-----------------+--------------------+---------------+-------------+-----------+-----------+-----------+----+--------------------+\n",
            "only showing top 20 rows\n",
            "\n"
          ]
        }
      ]
    },
    {
      "cell_type": "code",
      "source": [
        "df_telco_customer.printSchema()"
      ],
      "metadata": {
        "colab": {
          "base_uri": "https://localhost:8080/"
        },
        "id": "QByny0jD848t",
        "outputId": "eda8f509-f0bc-4ee0-a4ec-f05062af6159"
      },
      "execution_count": null,
      "outputs": [
        {
          "output_type": "stream",
          "name": "stdout",
          "text": [
            "root\n",
            " |-- CustomerID: string (nullable = true)\n",
            " |-- Count: integer (nullable = true)\n",
            " |-- Country: string (nullable = true)\n",
            " |-- State: string (nullable = true)\n",
            " |-- City: string (nullable = true)\n",
            " |-- Zip Code: integer (nullable = true)\n",
            " |-- Lat Long: string (nullable = true)\n",
            " |-- Latitude: string (nullable = true)\n",
            " |-- Longitude: string (nullable = true)\n",
            " |-- Gender: string (nullable = true)\n",
            " |-- Senior Citizen: string (nullable = true)\n",
            " |-- Partner: string (nullable = true)\n",
            " |-- Dependents: string (nullable = true)\n",
            " |-- Tenure Months: integer (nullable = true)\n",
            " |-- Phone Service: string (nullable = true)\n",
            " |-- Multiple Lines: string (nullable = true)\n",
            " |-- Internet Service: string (nullable = true)\n",
            " |-- Online Security: string (nullable = true)\n",
            " |-- Online Backup: string (nullable = true)\n",
            " |-- Device Protection: string (nullable = true)\n",
            " |-- Tech Support: string (nullable = true)\n",
            " |-- Streaming TV: string (nullable = true)\n",
            " |-- Streaming Movies: string (nullable = true)\n",
            " |-- Contract: string (nullable = true)\n",
            " |-- Paperless Billing: string (nullable = true)\n",
            " |-- Payment Method: string (nullable = true)\n",
            " |-- Monthly Charges: string (nullable = true)\n",
            " |-- Total Charges: string (nullable = true)\n",
            " |-- Churn Label: string (nullable = true)\n",
            " |-- Churn Value: integer (nullable = true)\n",
            " |-- Churn Score: integer (nullable = true)\n",
            " |-- CLTV: integer (nullable = true)\n",
            " |-- Churn Reason: string (nullable = true)\n",
            "\n"
          ]
        }
      ]
    },
    {
      "cell_type": "code",
      "source": [
        "df_telco_customer.count()"
      ],
      "metadata": {
        "colab": {
          "base_uri": "https://localhost:8080/"
        },
        "id": "CvQDJDdb88PU",
        "outputId": "38fe3bf6-0839-4a79-af19-f6c5ec02f383"
      },
      "execution_count": null,
      "outputs": [
        {
          "output_type": "execute_result",
          "data": {
            "text/plain": [
              "7043"
            ]
          },
          "metadata": {},
          "execution_count": 9
        }
      ]
    },
    {
      "cell_type": "code",
      "source": [
        "df_telco_customer.groupBy('Churn Label').count().show()"
      ],
      "metadata": {
        "colab": {
          "base_uri": "https://localhost:8080/"
        },
        "id": "JBNwj8E69DZf",
        "outputId": "bd23219c-c8e0-4fbd-be5c-cef2da436bf6"
      },
      "execution_count": null,
      "outputs": [
        {
          "output_type": "stream",
          "name": "stdout",
          "text": [
            "+-----------+-----+\n",
            "|Churn Label|count|\n",
            "+-----------+-----+\n",
            "|         No| 5174|\n",
            "|        Yes| 1869|\n",
            "+-----------+-----+\n",
            "\n"
          ]
        }
      ]
    },
    {
      "cell_type": "markdown",
      "source": [
        "## **2 - Processamento/tratamendo de dados para analise e exploração**"
      ],
      "metadata": {
        "id": "iya-0qeI8R_W"
      }
    },
    {
      "cell_type": "code",
      "source": [
        "contagem_nulos_por_coluna = df_telco_customer.select([f.sum(f.when(f.col(c).isNull(), 1).otherwise(0)).alias(c) for c in df_telco_customer.columns])"
      ],
      "metadata": {
        "id": "PMEINlMAodf6"
      },
      "execution_count": null,
      "outputs": []
    },
    {
      "cell_type": "code",
      "source": [
        "contagem_nulos_por_coluna.show()"
      ],
      "metadata": {
        "colab": {
          "base_uri": "https://localhost:8080/"
        },
        "id": "D0YD2M6mpFtV",
        "outputId": "6ae8f64a-e40e-4cfc-a415-1c6c378bf0a6"
      },
      "execution_count": null,
      "outputs": [
        {
          "output_type": "stream",
          "name": "stdout",
          "text": [
            "+----------+-----+-------+-----+----+--------+--------+--------+---------+------+--------------+-------+----------+-------------+-------------+--------------+----------------+---------------+-------------+-----------------+------------+------------+----------------+--------+-----------------+--------------+---------------+-------------+-----------+-----------+-----------+----+------------+\n",
            "|CustomerID|Count|Country|State|City|Zip Code|Lat Long|Latitude|Longitude|Gender|Senior Citizen|Partner|Dependents|Tenure Months|Phone Service|Multiple Lines|Internet Service|Online Security|Online Backup|Device Protection|Tech Support|Streaming TV|Streaming Movies|Contract|Paperless Billing|Payment Method|Monthly Charges|Total Charges|Churn Label|Churn Value|Churn Score|CLTV|Churn Reason|\n",
            "+----------+-----+-------+-----+----+--------+--------+--------+---------+------+--------------+-------+----------+-------------+-------------+--------------+----------------+---------------+-------------+-----------------+------------+------------+----------------+--------+-----------------+--------------+---------------+-------------+-----------+-----------+-----------+----+------------+\n",
            "|         0|    0|      0|    0|   0|       0|       0|       0|        0|     0|             0|      0|         0|            0|            0|             0|               0|              0|            0|                0|           0|           0|               0|       0|                0|             0|              0|            0|          0|          0|          0|   0|        5174|\n",
            "+----------+-----+-------+-----+----+--------+--------+--------+---------+------+--------------+-------+----------+-------------+-------------+--------------+----------------+---------------+-------------+-----------------+------------+------------+----------------+--------+-----------------+--------------+---------------+-------------+-----------+-----------+-----------+----+------------+\n",
            "\n"
          ]
        }
      ]
    },
    {
      "cell_type": "code",
      "source": [
        "media_nulos_churn_reason = df_telco_customer.select((1 - (f.col(\"Churn Reason\").isNotNull().cast(\"int\"))).alias(\"nulo\")).agg({\"nulo\": \"mean\"}).collect()[0][\"avg(nulo)\"]"
      ],
      "metadata": {
        "id": "o-Mv_OFFpPIm"
      },
      "execution_count": null,
      "outputs": []
    },
    {
      "cell_type": "code",
      "source": [
        "print(f\"Média de nulos em 'Churn Reason': {media_nulos_churn_reason:.2%}\")"
      ],
      "metadata": {
        "colab": {
          "base_uri": "https://localhost:8080/"
        },
        "id": "eF7BXPEkpVAK",
        "outputId": "fc8abfb1-c4f8-4fcb-b2b4-61cccacc47cd"
      },
      "execution_count": null,
      "outputs": [
        {
          "output_type": "stream",
          "name": "stdout",
          "text": [
            "Média de nulos em 'Churn Reason': 73.46%\n"
          ]
        }
      ]
    },
    {
      "cell_type": "code",
      "source": [
        "colunas_para_remover = ['CustomerID', 'Count','Country', 'State', 'Zip Code', 'Lat Long', 'Latitude', 'Longitude', 'Total Charges','Churn Score', 'CLTV','Churn Reason']"
      ],
      "metadata": {
        "id": "ZjtSxvrlVS5L"
      },
      "execution_count": null,
      "outputs": []
    },
    {
      "cell_type": "code",
      "source": [
        "df_telco_customer = df_telco_customer.drop(*colunas_para_remover)"
      ],
      "metadata": {
        "id": "qC5VVL31BW5C"
      },
      "execution_count": null,
      "outputs": []
    },
    {
      "cell_type": "code",
      "source": [
        "df_telco_customer = df_telco_customer.rdd.zipWithIndex().map(lambda x: (x[1], ) + x[0]).toDF([\"id\"] + df_telco_customer.columns)"
      ],
      "metadata": {
        "id": "jT70GncCB6Jo"
      },
      "execution_count": null,
      "outputs": []
    },
    {
      "cell_type": "code",
      "source": [
        "df_telco_customer.show()"
      ],
      "metadata": {
        "colab": {
          "base_uri": "https://localhost:8080/"
        },
        "id": "sSR3ZDIcP-rE",
        "outputId": "4ff3008e-c509-4f75-98fc-62da21119e03"
      },
      "execution_count": null,
      "outputs": [
        {
          "output_type": "stream",
          "name": "stdout",
          "text": [
            "+---+---------------+------+--------------+-------+----------+-------------+-------------+----------------+----------------+-------------------+-------------------+-------------------+-------------------+-------------------+-------------------+--------------+-----------------+--------------------+---------------+-----------+-----------+\n",
            "| id|           City|Gender|Senior Citizen|Partner|Dependents|Tenure Months|Phone Service|  Multiple Lines|Internet Service|    Online Security|      Online Backup|  Device Protection|       Tech Support|       Streaming TV|   Streaming Movies|      Contract|Paperless Billing|      Payment Method|Monthly Charges|Churn Label|Churn Value|\n",
            "+---+---------------+------+--------------+-------+----------+-------------+-------------+----------------+----------------+-------------------+-------------------+-------------------+-------------------+-------------------+-------------------+--------------+-----------------+--------------------+---------------+-----------+-----------+\n",
            "|  0|    Los Angeles|  Male|            No|     No|        No|            2|          Yes|              No|             DSL|                Yes|                Yes|                 No|                 No|                 No|                 No|Month-to-month|              Yes|        Mailed check|          53,85|        Yes|          1|\n",
            "|  1|    Los Angeles|Female|            No|     No|       Yes|            2|          Yes|              No|     Fiber optic|                 No|                 No|                 No|                 No|                 No|                 No|Month-to-month|              Yes|    Electronic check|           70,7|        Yes|          1|\n",
            "|  2|    Los Angeles|Female|            No|     No|       Yes|            8|          Yes|             Yes|     Fiber optic|                 No|                 No|                Yes|                 No|                Yes|                Yes|Month-to-month|              Yes|    Electronic check|          99,65|        Yes|          1|\n",
            "|  3|    Los Angeles|Female|            No|    Yes|       Yes|           28|          Yes|             Yes|     Fiber optic|                 No|                 No|                Yes|                Yes|                Yes|                Yes|Month-to-month|              Yes|    Electronic check|          104,8|        Yes|          1|\n",
            "|  4|    Los Angeles|  Male|            No|     No|       Yes|           49|          Yes|             Yes|     Fiber optic|                 No|                Yes|                Yes|                 No|                Yes|                Yes|Month-to-month|              Yes|Bank transfer (au...|          103,7|        Yes|          1|\n",
            "|  5|    Los Angeles|Female|            No|    Yes|        No|           10|          Yes|              No|             DSL|                 No|                 No|                Yes|                Yes|                 No|                 No|Month-to-month|               No|Credit card (auto...|           55,2|        Yes|          1|\n",
            "|  6|    Los Angeles|  Male|           Yes|     No|        No|            1|           No|No phone service|             DSL|                 No|                 No|                Yes|                 No|                 No|                Yes|Month-to-month|              Yes|    Electronic check|          39,65|        Yes|          1|\n",
            "|  7|    Los Angeles|  Male|            No|     No|        No|            1|          Yes|              No|              No|No internet service|No internet service|No internet service|No internet service|No internet service|No internet service|Month-to-month|               No|        Mailed check|          20,15|        Yes|          1|\n",
            "|  8|    Los Angeles|  Male|            No|    Yes|       Yes|           47|          Yes|             Yes|     Fiber optic|                 No|                Yes|                 No|                 No|                Yes|                Yes|Month-to-month|              Yes|    Electronic check|          99,35|        Yes|          1|\n",
            "|  9|    Los Angeles|  Male|            No|    Yes|        No|            1|           No|No phone service|             DSL|                 No|                Yes|                 No|                 No|                 No|                 No|Month-to-month|               No|    Electronic check|           30,2|        Yes|          1|\n",
            "| 10|    Los Angeles|Female|            No|     No|        No|           17|          Yes|              No|             DSL|                 No|                 No|                 No|                 No|                Yes|                Yes|Month-to-month|              Yes|        Mailed check|           64,7|        Yes|          1|\n",
            "| 11|    Los Angeles|  Male|            No|     No|       Yes|            5|          Yes|              No|     Fiber optic|                 No|                 No|                 No|                 No|                 No|                 No|Month-to-month|              Yes|    Electronic check|           69,7|        Yes|          1|\n",
            "| 12|    Los Angeles|  Male|            No|     No|       Yes|           34|          Yes|             Yes|     Fiber optic|                 No|                Yes|                Yes|                 No|                Yes|                Yes|Month-to-month|              Yes|    Electronic check|         106,35|        Yes|          1|\n",
            "| 13|    Los Angeles|Female|            No|     No|       Yes|           11|          Yes|             Yes|     Fiber optic|                 No|                 No|                Yes|                 No|                Yes|                Yes|Month-to-month|              Yes|Bank transfer (au...|          97,85|        Yes|          1|\n",
            "| 14|    Los Angeles|Female|            No|     No|       Yes|            2|          Yes|              No|     Fiber optic|                 No|                 No|                 No|                 No|                Yes|                 No|Month-to-month|              Yes|    Electronic check|          80,65|        Yes|          1|\n",
            "| 15|    Los Angeles|Female|            No|     No|       Yes|           15|          Yes|              No|     Fiber optic|                Yes|                Yes|                 No|                 No|                Yes|                Yes|Month-to-month|              Yes|Credit card (auto...|           99,1|        Yes|          1|\n",
            "| 16|    Los Angeles|Female|           Yes|    Yes|       Yes|            8|          Yes|             Yes|     Fiber optic|                 No|                Yes|                 No|                 No|                 No|                 No|Month-to-month|              Yes|Credit card (auto...|          80,65|        Yes|          1|\n",
            "| 17|    Los Angeles|  Male|           Yes|     No|       Yes|           18|          Yes|             Yes|     Fiber optic|                 No|                 No|                 No|                 No|                Yes|                Yes|Month-to-month|              Yes|    Electronic check|          95,45|        Yes|          1|\n",
            "| 18|  Beverly Hills|Female|            No|     No|       Yes|            9|          Yes|             Yes|     Fiber optic|                 No|                 No|                 No|                 No|                Yes|                Yes|Month-to-month|               No|    Electronic check|           94,4|        Yes|          1|\n",
            "| 19|Huntington Park|Female|            No|     No|       Yes|            1|          Yes|              No|     Fiber optic|                 No|                 No|                 No|                 No|                Yes|                 No|Month-to-month|              Yes|    Electronic check|          79,35|        Yes|          1|\n",
            "+---+---------------+------+--------------+-------+----------+-------------+-------------+----------------+----------------+-------------------+-------------------+-------------------+-------------------+-------------------+-------------------+--------------+-----------------+--------------------+---------------+-----------+-----------+\n",
            "only showing top 20 rows\n",
            "\n"
          ]
        }
      ]
    },
    {
      "cell_type": "markdown",
      "source": [
        "## **3 - Análise e Exploração dos Dados**"
      ],
      "metadata": {
        "id": "AlM4jAmHqfZ4"
      }
    },
    {
      "cell_type": "markdown",
      "source": [
        "#### 3.1 - Churn"
      ],
      "metadata": {
        "id": "PKxMr_Aaw9m0"
      }
    },
    {
      "cell_type": "code",
      "source": [
        "Churn_Label_counts = df_telco_customer.groupBy(\"Churn Label\").count().toPandas()"
      ],
      "metadata": {
        "id": "wNxkTfTnwAC3"
      },
      "execution_count": null,
      "outputs": []
    },
    {
      "cell_type": "code",
      "source": [
        "total = Churn_Label_counts[\"count\"].sum()\n",
        "Churn_Label_counts[\"percentage\"] = (Churn_Label_counts[\"count\"] / total) * 100\n",
        "\n",
        "colors = ['skyblue', 'lightcoral']\n",
        "plt.pie(Churn_Label_counts[\"count\"], labels=Churn_Label_counts[\"Churn Label\"], autopct='%1.1f%%', startangle=90, colors=colors)\n",
        "plt.title(\"Distribuição de Churn Label\")\n",
        "plt.show()"
      ],
      "metadata": {
        "colab": {
          "base_uri": "https://localhost:8080/",
          "height": 428
        },
        "id": "1ZGda9NHth6S",
        "outputId": "fb4f4bd1-c7c6-4e83-d914-fbbd80f9a329"
      },
      "execution_count": null,
      "outputs": [
        {
          "output_type": "display_data",
          "data": {
            "text/plain": [
              "<Figure size 640x480 with 1 Axes>"
            ],
            "image/png": "[encoded data removed]"
          },
          "metadata": {}
        }
      ]
    },
    {
      "cell_type": "markdown",
      "source": [
        "#### 3.2 - City"
      ],
      "metadata": {
        "id": "BeqovGG81FOX"
      }
    },
    {
      "cell_type": "code",
      "source": [
        "count_distinct_city = df_telco_customer.select(\"City\").distinct().count()\n",
        "print(f\"Contagem Distinta na Coluna 'City': {count_distinct_city}\")"
      ],
      "metadata": {
        "colab": {
          "base_uri": "https://localhost:8080/"
        },
        "id": "jc_wVxi0ubl_",
        "outputId": "bee46521-b77e-4c17-84cf-089fd928bc19"
      },
      "execution_count": null,
      "outputs": [
        {
          "output_type": "stream",
          "name": "stdout",
          "text": [
            "Contagem Distinta na Coluna 'City': 1129\n"
          ]
        }
      ]
    },
    {
      "cell_type": "code",
      "source": [
        "df_telco_customer_pd = df_telco_customer.toPandas()"
      ],
      "metadata": {
        "id": "pfiuWG-Cyf_Q"
      },
      "execution_count": null,
      "outputs": []
    },
    {
      "cell_type": "code",
      "source": [
        "resultados_cities = df_telco_customer_pd.groupby('City').agg(\n",
        "    Count=('Churn Value', 'count'),\n",
        "    Churn_Rate=('Churn Value', 'mean')\n",
        ").reset_index()\n",
        "resultados_cities = resultados_cities.sort_values(by='Count', ascending=False)\n",
        "resultados_cities.columns = ['City', 'Count', 'Churn Rate']\n",
        "resultados_cities['Churn Rate'] = resultados_cities['Churn Rate'].round(2)\n",
        "resultados_cities.head()"
      ],
      "metadata": {
        "colab": {
          "base_uri": "https://localhost:8080/",
          "height": 206
        },
        "id": "U7Mvx3Xxx78D",
        "outputId": "0cc8736f-d5fc-40c2-8d73-ed89f3638c61"
      },
      "execution_count": null,
      "outputs": [
        {
          "output_type": "execute_result",
          "data": {
            "text/plain": [
              "              City  Count  Churn Rate\n",
              "562    Los Angeles    305        0.30\n",
              "869      San Diego    150        0.33\n",
              "878       San Jose    112        0.26\n",
              "855     Sacramento    108        0.24\n",
              "872  San Francisco    104        0.30"
            ],
            "text/html": [
              "\n",
              "  <div id=\"df-c3d1f62e-3727-4bfa-9d21-202027c19e29\" class=\"colab-df-container\">\n",
              "    <div>\n",
              "<style scoped>\n",
              "    .dataframe tbody tr th:only-of-type {\n",
              "        vertical-align: middle;\n",
              "    }\n",
              "\n",
              "    .dataframe tbody tr th {\n",
              "        vertical-align: top;\n",
              "    }\n",
              "\n",
              "    .dataframe thead th {\n",
              "        text-align: right;\n",
              "    }\n",
              "</style>\n",
              "<table border=\"1\" class=\"dataframe\">\n",
              "  <thead>\n",
              "    <tr style=\"text-align: right;\">\n",
              "      <th></th>\n",
              "      <th>City</th>\n",
              "      <th>Count</th>\n",
              "      <th>Churn Rate</th>\n",
              "    </tr>\n",
              "  </thead>\n",
              "  <tbody>\n",
              "    <tr>\n",
              "      <th>562</th>\n",
              "      <td>Los Angeles</td>\n",
              "      <td>305</td>\n",
              "      <td>0.30</td>\n",
              "    </tr>\n",
              "    <tr>\n",
              "      <th>869</th>\n",
              "      <td>San Diego</td>\n",
              "      <td>150</td>\n",
              "      <td>0.33</td>\n",
              "    </tr>\n",
              "    <tr>\n",
              "      <th>878</th>\n",
              "      <td>San Jose</td>\n",
              "      <td>112</td>\n",
              "      <td>0.26</td>\n",
              "    </tr>\n",
              "    <tr>\n",
              "      <th>855</th>\n",
              "      <td>Sacramento</td>\n",
              "      <td>108</td>\n",
              "      <td>0.24</td>\n",
              "    </tr>\n",
              "    <tr>\n",
              "      <th>872</th>\n",
              "      <td>San Francisco</td>\n",
              "      <td>104</td>\n",
              "      <td>0.30</td>\n",
              "    </tr>\n",
              "  </tbody>\n",
              "</table>\n",
              "</div>\n",
              "    <div class=\"colab-df-buttons\">\n",
              "\n",
              "  <div class=\"colab-df-container\">\n",
              "    <button class=\"colab-df-convert\" onclick=\"convertToInteractive('df-c3d1f62e-3727-4bfa-9d21-202027c19e29')\"\n",
              "            title=\"Convert this dataframe to an interactive table.\"\n",
              "            style=\"display:none;\">\n",
              "\n",
              "  <svg xmlns=\"http://www.w3.org/2000/svg\" height=\"24px\" viewBox=\"0 -960 960 960\">\n",
              "    <path d=\"M120-120v-720h720v720H120Zm60-500h600v-160H180v160Zm220 220h160v-160H400v160Zm0 220h160v-160H400v160ZM180-400h160v-160H180v160Zm440 0h160v-160H620v160ZM180-180h160v-160H180v160Zm440 0h160v-160H620v160Z\"/>\n",
              "  </svg>\n",
              "    </button>\n",
              "\n",
              "  <style>\n",
              "    .colab-df-container {\n",
              "      display:flex;\n",
              "      gap: 12px;\n",
              "    }\n",
              "\n",
              "    .colab-df-convert {\n",
              "      background-color: #E8F0FE;\n",
              "      border: none;\n",
              "      border-radius: 50%;\n",
              "      cursor: pointer;\n",
              "      display: none;\n",
              "      fill: #1967D2;\n",
              "      height: 32px;\n",
              "      padding: 0 0 0 0;\n",
              "      width: 32px;\n",
              "    }\n",
              "\n",
              "    .colab-df-convert:hover {\n",
              "      background-color: #E2EBFA;\n",
              "      box-shadow: 0px 1px 2px rgba(60, 64, 67, 0.3), 0px 1px 3px 1px rgba(60, 64, 67, 0.15);\n",
              "      fill: #174EA6;\n",
              "    }\n",
              "\n",
              "    .colab-df-buttons div {\n",
              "      margin-bottom: 4px;\n",
              "    }\n",
              "\n",
              "    [theme=dark] .colab-df-convert {\n",
              "      background-color: #3B4455;\n",
              "      fill: #D2E3FC;\n",
              "    }\n",
              "\n",
              "    [theme=dark] .colab-df-convert:hover {\n",
              "      background-color: #434B5C;\n",
              "      box-shadow: 0px 1px 3px 1px rgba(0, 0, 0, 0.15);\n",
              "      filter: drop-shadow(0px 1px 2px rgba(0, 0, 0, 0.3));\n",
              "      fill: #FFFFFF;\n",
              "    }\n",
              "  </style>\n",
              "\n",
              "    <script>\n",
              "      const buttonEl =\n",
              "        document.querySelector('#df-c3d1f62e-3727-4bfa-9d21-202027c19e29 button.colab-df-convert');\n",
              "      buttonEl.style.display =\n",
              "        google.colab.kernel.accessAllowed ? 'block' : 'none';\n",
              "\n",
              "      async function convertToInteractive(key) {\n",
              "        const element = document.querySelector('#df-c3d1f62e-3727-4bfa-9d21-202027c19e29');\n",
              "        const dataTable =\n",
              "          await google.colab.kernel.invokeFunction('convertToInteractive',\n",
              "                                                    [key], {});\n",
              "        if (!dataTable) return;\n",
              "\n",
              "        const docLinkHtml = 'Like what you see? Visit the ' +\n",
              "          '<a target=\"_blank\" href=https://colab.research.google.com/notebooks/data_table.ipynb>data table notebook</a>'\n",
              "          + ' to learn more about interactive tables.';\n",
              "        element.innerHTML = '';\n",
              "        dataTable['output_type'] = 'display_data';\n",
              "        await google.colab.output.renderOutput(dataTable, element);\n",
              "        const docLink = document.createElement('div');\n",
              "        docLink.innerHTML = docLinkHtml;\n",
              "        element.appendChild(docLink);\n",
              "      }\n",
              "    </script>\n",
              "  </div>\n",
              "\n",
              "\n",
              "<div id=\"df-8b2b3961-7075-4cb9-8612-4f6250d1318c\">\n",
              "  <button class=\"colab-df-quickchart\" onclick=\"quickchart('df-8b2b3961-7075-4cb9-8612-4f6250d1318c')\"\n",
              "            title=\"Suggest charts\"\n",
              "            style=\"display:none;\">\n",
              "\n",
              "<svg xmlns=\"http://www.w3.org/2000/svg\" height=\"24px\"viewBox=\"0 0 24 24\"\n",
              "     width=\"24px\">\n",
              "    <g>\n",
              "        <path d=\"M19 3H5c-1.1 0-2 .9-2 2v14c0 1.1.9 2 2 2h14c1.1 0 2-.9 2-2V5c0-1.1-.9-2-2-2zM9 17H7v-7h2v7zm4 0h-2V7h2v10zm4 0h-2v-4h2v4z\"/>\n",
              "    </g>\n",
              "</svg>\n",
              "  </button>\n",
              "\n",
              "<style>\n",
              "  .colab-df-quickchart {\n",
              "      --bg-color: #E8F0FE;\n",
              "      --fill-color: #1967D2;\n",
              "      --hover-bg-color: #E2EBFA;\n",
              "      --hover-fill-color: #174EA6;\n",
              "      --disabled-fill-color: #AAA;\n",
              "      --disabled-bg-color: #DDD;\n",
              "  }\n",
              "\n",
              "  [theme=dark] .colab-df-quickchart {\n",
              "      --bg-color: #3B4455;\n",
              "      --fill-color: #D2E3FC;\n",
              "      --hover-bg-color: #434B5C;\n",
              "      --hover-fill-color: #FFFFFF;\n",
              "      --disabled-bg-color: #3B4455;\n",
              "      --disabled-fill-color: #666;\n",
              "  }\n",
              "\n",
              "  .colab-df-quickchart {\n",
              "    background-color: var(--bg-color);\n",
              "    border: none;\n",
              "    border-radius: 50%;\n",
              "    cursor: pointer;\n",
              "    display: none;\n",
              "    fill: var(--fill-color);\n",
              "    height: 32px;\n",
              "    padding: 0;\n",
              "    width: 32px;\n",
              "  }\n",
              "\n",
              "  .colab-df-quickchart:hover {\n",
              "    background-color: var(--hover-bg-color);\n",
              "    box-shadow: 0 1px 2px rgba(60, 64, 67, 0.3), 0 1px 3px 1px rgba(60, 64, 67, 0.15);\n",
              "    fill: var(--button-hover-fill-color);\n",
              "  }\n",
              "\n",
              "  .colab-df-quickchart-complete:disabled,\n",
              "  .colab-df-quickchart-complete:disabled:hover {\n",
              "    background-color: var(--disabled-bg-color);\n",
              "    fill: var(--disabled-fill-color);\n",
              "    box-shadow: none;\n",
              "  }\n",
              "\n",
              "  .colab-df-spinner {\n",
              "    border: 2px solid var(--fill-color);\n",
              "    border-color: transparent;\n",
              "    border-bottom-color: var(--fill-color);\n",
              "    animation:\n",
              "      spin 1s steps(1) infinite;\n",
              "  }\n",
              "\n",
              "  @keyframes spin {\n",
              "    0% {\n",
              "      border-color: transparent;\n",
              "      border-bottom-color: var(--fill-color);\n",
              "      border-left-color: var(--fill-color);\n",
              "    }\n",
              "    20% {\n",
              "      border-color: transparent;\n",
              "      border-left-color: var(--fill-color);\n",
              "      border-top-color: var(--fill-color);\n",
              "    }\n",
              "    30% {\n",
              "      border-color: transparent;\n",
              "      border-left-color: var(--fill-color);\n",
              "      border-top-color: var(--fill-color);\n",
              "      border-right-color: var(--fill-color);\n",
              "    }\n",
              "    40% {\n",
              "      border-color: transparent;\n",
              "      border-right-color: var(--fill-color);\n",
              "      border-top-color: var(--fill-color);\n",
              "    }\n",
              "    60% {\n",
              "      border-color: transparent;\n",
              "      border-right-color: var(--fill-color);\n",
              "    }\n",
              "    80% {\n",
              "      border-color: transparent;\n",
              "      border-right-color: var(--fill-color);\n",
              "      border-bottom-color: var(--fill-color);\n",
              "    }\n",
              "    90% {\n",
              "      border-color: transparent;\n",
              "      border-bottom-color: var(--fill-color);\n",
              "    }\n",
              "  }\n",
              "</style>\n",
              "\n",
              "  <script>\n",
              "    async function quickchart(key) {\n",
              "      const quickchartButtonEl =\n",
              "        document.querySelector('#' + key + ' button');\n",
              "      quickchartButtonEl.disabled = true;  // To prevent multiple clicks.\n",
              "      quickchartButtonEl.classList.add('colab-df-spinner');\n",
              "      try {\n",
              "        const charts = await google.colab.kernel.invokeFunction(\n",
              "            'suggestCharts', [key], {});\n",
              "      } catch (error) {\n",
              "        console.error('Error during call to suggestCharts:', error);\n",
              "      }\n",
              "      quickchartButtonEl.classList.remove('colab-df-spinner');\n",
              "      quickchartButtonEl.classList.add('colab-df-quickchart-complete');\n",
              "    }\n",
              "    (() => {\n",
              "      let quickchartButtonEl =\n",
              "        document.querySelector('#df-8b2b3961-7075-4cb9-8612-4f6250d1318c button');\n",
              "      quickchartButtonEl.style.display =\n",
              "        google.colab.kernel.accessAllowed ? 'block' : 'none';\n",
              "    })();\n",
              "  </script>\n",
              "</div>\n",
              "\n",
              "    </div>\n",
              "  </div>\n"
            ]
          },
          "metadata": {},
          "execution_count": 83
        }
      ]
    },
    {
      "cell_type": "code",
      "source": [
        "top_20_cities_churn_rate = resultados_cities.nlargest(20, 'Churn Rate')\n",
        "\n",
        "plt.figure(figsize=(10, 6))\n",
        "bars = plt.bar(top_20_cities_churn_rate['City'], top_20_cities_churn_rate['Churn Rate'], color='skyblue')\n",
        "plt.title('Top 20 Cidades com Maiores Taxas de Churn Rate')\n",
        "plt.xlabel('Cidade')\n",
        "plt.ylabel('Churn Rate')\n",
        "plt.xticks(rotation=45, ha='right')\n",
        "\n",
        "for bar in bars:\n",
        "    yval = bar.get_height()\n",
        "    plt.text(bar.get_x() + bar.get_width()/2, yval, round(yval, 2), ha='center', va='bottom')\n",
        "\n",
        "plt.show()"
      ],
      "metadata": {
        "colab": {
          "base_uri": "https://localhost:8080/",
          "height": 646
        },
        "id": "R1ZeG8Kq3Aj6",
        "outputId": "5b859e6e-a0fb-422f-fbac-4b3e6a5dd187"
      },
      "execution_count": null,
      "outputs": [
        {
          "output_type": "display_data",
          "data": {
            "text/plain": [
              "<Figure size 1000x600 with 1 Axes>"
            ],
            "image/png": "[encoded data removed]"
          },
          "metadata": {}
        }
      ]
    },
    {
      "cell_type": "code",
      "source": [
        "top_20_cities_churn_count = resultados_cities.nlargest(20, 'Count')\n",
        "\n",
        "plt.figure(figsize=(10, 6))\n",
        "bars = plt.bar(top_20_cities_churn_count['City'], top_20_cities_churn_count['Count'], color='skyblue')\n",
        "plt.title('Top 20 Cidades com Maiores Quantidades de Churn')\n",
        "plt.xlabel('Cidade')\n",
        "plt.ylabel('Count')\n",
        "plt.xticks(rotation=45, ha='right')\n",
        "\n",
        "for bar in bars:\n",
        "    yval = bar.get_height()\n",
        "    plt.text(bar.get_x() + bar.get_width()/2, yval, round(yval, 2), ha='center', va='bottom')\n",
        "\n",
        "plt.show()"
      ],
      "metadata": {
        "colab": {
          "base_uri": "https://localhost:8080/",
          "height": 636
        },
        "id": "hjGmUbYv2Jvh",
        "outputId": "2188909d-bc45-4049-c574-865a4fa6ae2c"
      },
      "execution_count": null,
      "outputs": [
        {
          "output_type": "display_data",
          "data": {
            "text/plain": [
              "<Figure size 1000x600 with 1 Axes>"
            ],
            "image/png": "[encoded data removed]"
          },
          "metadata": {}
        }
      ]
    },
    {
      "cell_type": "markdown",
      "source": [
        "####3.3 - Ternune Months"
      ],
      "metadata": {
        "id": "SdTf4pyi_OBy"
      }
    },
    {
      "cell_type": "code",
      "source": [
        "churn_yes_counts = df_telco_customer_pd[df_telco_customer_pd['Churn Label'] == 'Yes'].groupby('Tenure Months')['Churn Label'].count().reset_index()\n",
        "\n",
        "selected_points = churn_yes_counts[churn_yes_counts['Tenure Months'].isin([1, 72])]\n",
        "\n",
        "plt.figure(figsize=(12, 6))\n",
        "ax = sns.lineplot(x='Tenure Months', y='Churn Label', data=churn_yes_counts, marker='o', color='skyblue')\n",
        "\n",
        "for i, txt in enumerate(selected_points['Churn Label']):\n",
        "    ax.annotate(txt, (selected_points['Tenure Months'].iloc[i], txt), textcoords=\"offset points\", xytext=(0,5), ha='center')\n",
        "\n",
        "plt.title('Quantidade de Churn por Tenure Months')\n",
        "plt.xlabel('Tenure Months')\n",
        "plt.ylabel('Quantidade de Churn')\n",
        "plt.show()"
      ],
      "metadata": {
        "colab": {
          "base_uri": "https://localhost:8080/",
          "height": 564
        },
        "id": "AlqDZSPD5B0p",
        "outputId": "9d1e5a0c-6df1-4175-fa4e-8c29fa9e0da4"
      },
      "execution_count": null,
      "outputs": [
        {
          "output_type": "display_data",
          "data": {
            "text/plain": [
              "<Figure size 1200x600 with 1 Axes>"
            ],
            "image/png": "[encoded data removed]"
          },
          "metadata": {}
        }
      ]
    },
    {
      "cell_type": "markdown",
      "source": [
        "####3.4 - Contract type"
      ],
      "metadata": {
        "id": "29yMRKWp-AlP"
      }
    },
    {
      "cell_type": "code",
      "source": [
        "Contract_Label_counts = df_telco_customer_pd[df_telco_customer_pd['Churn Label'] == 'Yes'].groupby('Contract')['Churn Label'].count().reset_index()"
      ],
      "metadata": {
        "id": "OkgH1Gz__FMN"
      },
      "execution_count": null,
      "outputs": []
    },
    {
      "cell_type": "code",
      "source": [
        "colors = ['skyblue', 'lightcoral', 'lightgreen']\n",
        "\n",
        "plt.pie(Contract_Label_counts[\"Churn Label\"], labels=Contract_Label_counts[\"Contract\"], autopct='%1.1f%%', startangle=90, colors=colors)\n",
        "\n",
        "plt.title(\"Distribuição de Churn Label\")\n",
        "\n",
        "plt.show()"
      ],
      "metadata": {
        "colab": {
          "base_uri": "https://localhost:8080/",
          "height": 428
        },
        "id": "jzPYnR7c-vQz",
        "outputId": "49aef708-8efd-4ddb-eb83-0cc65d1a713b"
      },
      "execution_count": null,
      "outputs": [
        {
          "output_type": "display_data",
          "data": {
            "text/plain": [
              "<Figure size 640x480 with 1 Axes>"
            ],
            "image/png": "[encoded data removed]"
          },
          "metadata": {}
        }
      ]
    },
    {
      "cell_type": "markdown",
      "source": [
        "####3.5 - Gender"
      ],
      "metadata": {
        "id": "QdtnIklXw2pi"
      }
    },
    {
      "cell_type": "code",
      "source": [
        "resultados_gender = df_telco_customer_pd.groupby('Gender')['Churn Value'].agg(\n",
        "    Total_Count='count',\n",
        "    Churn_Count=lambda x: (x == 1).sum(),\n",
        "    Churn_Rate=lambda x: (x == 1).mean()\n",
        ").reset_index()\n",
        "\n",
        "\n",
        "resultados_gender['No_Churn_Count'] = resultados_gender['Total_Count'] - resultados_gender['Churn_Count']\n",
        "resultados_gender['No_Churn_Rate'] = 1 - resultados_gender['Churn_Rate']\n",
        "\n",
        "\n",
        "resultados_gender = resultados_gender[['Gender', 'Total_Count', 'Churn_Count', 'No_Churn_Count', 'Churn_Rate', 'No_Churn_Rate']]\n",
        "\n",
        "\n",
        "resultados_gender['Churn_Rate'] = resultados_gender['Churn_Rate'].round(2)\n",
        "resultados_gender['No_Churn_Rate'] = resultados_gender['No_Churn_Rate'].round(2)\n",
        "\n",
        "\n",
        "resultados_gender"
      ],
      "metadata": {
        "colab": {
          "base_uri": "https://localhost:8080/",
          "height": 125
        },
        "id": "aRd77rquxFUe",
        "outputId": "f091fc6c-fe01-4a21-a8d1-2ddb4754816e"
      },
      "execution_count": null,
      "outputs": [
        {
          "output_type": "execute_result",
          "data": {
            "text/plain": [
              "   Gender  Total_Count  Churn_Count  No_Churn_Count  Churn_Rate  No_Churn_Rate\n",
              "0  Female         3488          939            2549        0.27           0.73\n",
              "1    Male         3555          930            2625        0.26           0.74"
            ],
            "text/html": [
              "\n",
              "  <div id=\"df-9d67b8ce-d0c1-4c7e-bc9e-aed43c1d068e\" class=\"colab-df-container\">\n",
              "    <div>\n",
              "<style scoped>\n",
              "    .dataframe tbody tr th:only-of-type {\n",
              "        vertical-align: middle;\n",
              "    }\n",
              "\n",
              "    .dataframe tbody tr th {\n",
              "        vertical-align: top;\n",
              "    }\n",
              "\n",
              "    .dataframe thead th {\n",
              "        text-align: right;\n",
              "    }\n",
              "</style>\n",
              "<table border=\"1\" class=\"dataframe\">\n",
              "  <thead>\n",
              "    <tr style=\"text-align: right;\">\n",
              "      <th></th>\n",
              "      <th>Gender</th>\n",
              "      <th>Total_Count</th>\n",
              "      <th>Churn_Count</th>\n",
              "      <th>No_Churn_Count</th>\n",
              "      <th>Churn_Rate</th>\n",
              "      <th>No_Churn_Rate</th>\n",
              "    </tr>\n",
              "  </thead>\n",
              "  <tbody>\n",
              "    <tr>\n",
              "      <th>0</th>\n",
              "      <td>Female</td>\n",
              "      <td>3488</td>\n",
              "      <td>939</td>\n",
              "      <td>2549</td>\n",
              "      <td>0.27</td>\n",
              "      <td>0.73</td>\n",
              "    </tr>\n",
              "    <tr>\n",
              "      <th>1</th>\n",
              "      <td>Male</td>\n",
              "      <td>3555</td>\n",
              "      <td>930</td>\n",
              "      <td>2625</td>\n",
              "      <td>0.26</td>\n",
              "      <td>0.74</td>\n",
              "    </tr>\n",
              "  </tbody>\n",
              "</table>\n",
              "</div>\n",
              "    <div class=\"colab-df-buttons\">\n",
              "\n",
              "  <div class=\"colab-df-container\">\n",
              "    <button class=\"colab-df-convert\" onclick=\"convertToInteractive('df-9d67b8ce-d0c1-4c7e-bc9e-aed43c1d068e')\"\n",
              "            title=\"Convert this dataframe to an interactive table.\"\n",
              "            style=\"display:none;\">\n",
              "\n",
              "  <svg xmlns=\"http://www.w3.org/2000/svg\" height=\"24px\" viewBox=\"0 -960 960 960\">\n",
              "    <path d=\"M120-120v-720h720v720H120Zm60-500h600v-160H180v160Zm220 220h160v-160H400v160Zm0 220h160v-160H400v160ZM180-400h160v-160H180v160Zm440 0h160v-160H620v160ZM180-180h160v-160H180v160Zm440 0h160v-160H620v160Z\"/>\n",
              "  </svg>\n",
              "    </button>\n",
              "\n",
              "  <style>\n",
              "    .colab-df-container {\n",
              "      display:flex;\n",
              "      gap: 12px;\n",
              "    }\n",
              "\n",
              "    .colab-df-convert {\n",
              "      background-color: #E8F0FE;\n",
              "      border: none;\n",
              "      border-radius: 50%;\n",
              "      cursor: pointer;\n",
              "      display: none;\n",
              "      fill: #1967D2;\n",
              "      height: 32px;\n",
              "      padding: 0 0 0 0;\n",
              "      width: 32px;\n",
              "    }\n",
              "\n",
              "    .colab-df-convert:hover {\n",
              "      background-color: #E2EBFA;\n",
              "      box-shadow: 0px 1px 2px rgba(60, 64, 67, 0.3), 0px 1px 3px 1px rgba(60, 64, 67, 0.15);\n",
              "      fill: #174EA6;\n",
              "    }\n",
              "\n",
              "    .colab-df-buttons div {\n",
              "      margin-bottom: 4px;\n",
              "    }\n",
              "\n",
              "    [theme=dark] .colab-df-convert {\n",
              "      background-color: #3B4455;\n",
              "      fill: #D2E3FC;\n",
              "    }\n",
              "\n",
              "    [theme=dark] .colab-df-convert:hover {\n",
              "      background-color: #434B5C;\n",
              "      box-shadow: 0px 1px 3px 1px rgba(0, 0, 0, 0.15);\n",
              "      filter: drop-shadow(0px 1px 2px rgba(0, 0, 0, 0.3));\n",
              "      fill: #FFFFFF;\n",
              "    }\n",
              "  </style>\n",
              "\n",
              "    <script>\n",
              "      const buttonEl =\n",
              "        document.querySelector('#df-9d67b8ce-d0c1-4c7e-bc9e-aed43c1d068e button.colab-df-convert');\n",
              "      buttonEl.style.display =\n",
              "        google.colab.kernel.accessAllowed ? 'block' : 'none';\n",
              "\n",
              "      async function convertToInteractive(key) {\n",
              "        const element = document.querySelector('#df-9d67b8ce-d0c1-4c7e-bc9e-aed43c1d068e');\n",
              "        const dataTable =\n",
              "          await google.colab.kernel.invokeFunction('convertToInteractive',\n",
              "                                                    [key], {});\n",
              "        if (!dataTable) return;\n",
              "\n",
              "        const docLinkHtml = 'Like what you see? Visit the ' +\n",
              "          '<a target=\"_blank\" href=https://colab.research.google.com/notebooks/data_table.ipynb>data table notebook</a>'\n",
              "          + ' to learn more about interactive tables.';\n",
              "        element.innerHTML = '';\n",
              "        dataTable['output_type'] = 'display_data';\n",
              "        await google.colab.output.renderOutput(dataTable, element);\n",
              "        const docLink = document.createElement('div');\n",
              "        docLink.innerHTML = docLinkHtml;\n",
              "        element.appendChild(docLink);\n",
              "      }\n",
              "    </script>\n",
              "  </div>\n",
              "\n",
              "\n",
              "<div id=\"df-4932541b-39a5-47ff-9b50-01e0f82f3260\">\n",
              "  <button class=\"colab-df-quickchart\" onclick=\"quickchart('df-4932541b-39a5-47ff-9b50-01e0f82f3260')\"\n",
              "            title=\"Suggest charts\"\n",
              "            style=\"display:none;\">\n",
              "\n",
              "<svg xmlns=\"http://www.w3.org/2000/svg\" height=\"24px\"viewBox=\"0 0 24 24\"\n",
              "     width=\"24px\">\n",
              "    <g>\n",
              "        <path d=\"M19 3H5c-1.1 0-2 .9-2 2v14c0 1.1.9 2 2 2h14c1.1 0 2-.9 2-2V5c0-1.1-.9-2-2-2zM9 17H7v-7h2v7zm4 0h-2V7h2v10zm4 0h-2v-4h2v4z\"/>\n",
              "    </g>\n",
              "</svg>\n",
              "  </button>\n",
              "\n",
              "<style>\n",
              "  .colab-df-quickchart {\n",
              "      --bg-color: #E8F0FE;\n",
              "      --fill-color: #1967D2;\n",
              "      --hover-bg-color: #E2EBFA;\n",
              "      --hover-fill-color: #174EA6;\n",
              "      --disabled-fill-color: #AAA;\n",
              "      --disabled-bg-color: #DDD;\n",
              "  }\n",
              "\n",
              "  [theme=dark] .colab-df-quickchart {\n",
              "      --bg-color: #3B4455;\n",
              "      --fill-color: #D2E3FC;\n",
              "      --hover-bg-color: #434B5C;\n",
              "      --hover-fill-color: #FFFFFF;\n",
              "      --disabled-bg-color: #3B4455;\n",
              "      --disabled-fill-color: #666;\n",
              "  }\n",
              "\n",
              "  .colab-df-quickchart {\n",
              "    background-color: var(--bg-color);\n",
              "    border: none;\n",
              "    border-radius: 50%;\n",
              "    cursor: pointer;\n",
              "    display: none;\n",
              "    fill: var(--fill-color);\n",
              "    height: 32px;\n",
              "    padding: 0;\n",
              "    width: 32px;\n",
              "  }\n",
              "\n",
              "  .colab-df-quickchart:hover {\n",
              "    background-color: var(--hover-bg-color);\n",
              "    box-shadow: 0 1px 2px rgba(60, 64, 67, 0.3), 0 1px 3px 1px rgba(60, 64, 67, 0.15);\n",
              "    fill: var(--button-hover-fill-color);\n",
              "  }\n",
              "\n",
              "  .colab-df-quickchart-complete:disabled,\n",
              "  .colab-df-quickchart-complete:disabled:hover {\n",
              "    background-color: var(--disabled-bg-color);\n",
              "    fill: var(--disabled-fill-color);\n",
              "    box-shadow: none;\n",
              "  }\n",
              "\n",
              "  .colab-df-spinner {\n",
              "    border: 2px solid var(--fill-color);\n",
              "    border-color: transparent;\n",
              "    border-bottom-color: var(--fill-color);\n",
              "    animation:\n",
              "      spin 1s steps(1) infinite;\n",
              "  }\n",
              "\n",
              "  @keyframes spin {\n",
              "    0% {\n",
              "      border-color: transparent;\n",
              "      border-bottom-color: var(--fill-color);\n",
              "      border-left-color: var(--fill-color);\n",
              "    }\n",
              "    20% {\n",
              "      border-color: transparent;\n",
              "      border-left-color: var(--fill-color);\n",
              "      border-top-color: var(--fill-color);\n",
              "    }\n",
              "    30% {\n",
              "      border-color: transparent;\n",
              "      border-left-color: var(--fill-color);\n",
              "      border-top-color: var(--fill-color);\n",
              "      border-right-color: var(--fill-color);\n",
              "    }\n",
              "    40% {\n",
              "      border-color: transparent;\n",
              "      border-right-color: var(--fill-color);\n",
              "      border-top-color: var(--fill-color);\n",
              "    }\n",
              "    60% {\n",
              "      border-color: transparent;\n",
              "      border-right-color: var(--fill-color);\n",
              "    }\n",
              "    80% {\n",
              "      border-color: transparent;\n",
              "      border-right-color: var(--fill-color);\n",
              "      border-bottom-color: var(--fill-color);\n",
              "    }\n",
              "    90% {\n",
              "      border-color: transparent;\n",
              "      border-bottom-color: var(--fill-color);\n",
              "    }\n",
              "  }\n",
              "</style>\n",
              "\n",
              "  <script>\n",
              "    async function quickchart(key) {\n",
              "      const quickchartButtonEl =\n",
              "        document.querySelector('#' + key + ' button');\n",
              "      quickchartButtonEl.disabled = true;  // To prevent multiple clicks.\n",
              "      quickchartButtonEl.classList.add('colab-df-spinner');\n",
              "      try {\n",
              "        const charts = await google.colab.kernel.invokeFunction(\n",
              "            'suggestCharts', [key], {});\n",
              "      } catch (error) {\n",
              "        console.error('Error during call to suggestCharts:', error);\n",
              "      }\n",
              "      quickchartButtonEl.classList.remove('colab-df-spinner');\n",
              "      quickchartButtonEl.classList.add('colab-df-quickchart-complete');\n",
              "    }\n",
              "    (() => {\n",
              "      let quickchartButtonEl =\n",
              "        document.querySelector('#df-4932541b-39a5-47ff-9b50-01e0f82f3260 button');\n",
              "      quickchartButtonEl.style.display =\n",
              "        google.colab.kernel.accessAllowed ? 'block' : 'none';\n",
              "    })();\n",
              "  </script>\n",
              "</div>\n",
              "\n",
              "  <div id=\"id_6f7f47de-7646-4a35-9903-3f15d5434865\">\n",
              "    <style>\n",
              "      .colab-df-generate {\n",
              "        background-color: #E8F0FE;\n",
              "        border: none;\n",
              "        border-radius: 50%;\n",
              "        cursor: pointer;\n",
              "        display: none;\n",
              "        fill: #1967D2;\n",
              "        height: 32px;\n",
              "        padding: 0 0 0 0;\n",
              "        width: 32px;\n",
              "      }\n",
              "\n",
              "      .colab-df-generate:hover {\n",
              "        background-color: #E2EBFA;\n",
              "        box-shadow: 0px 1px 2px rgba(60, 64, 67, 0.3), 0px 1px 3px 1px rgba(60, 64, 67, 0.15);\n",
              "        fill: #174EA6;\n",
              "      }\n",
              "\n",
              "      [theme=dark] .colab-df-generate {\n",
              "        background-color: #3B4455;\n",
              "        fill: #D2E3FC;\n",
              "      }\n",
              "\n",
              "      [theme=dark] .colab-df-generate:hover {\n",
              "        background-color: #434B5C;\n",
              "        box-shadow: 0px 1px 3px 1px rgba(0, 0, 0, 0.15);\n",
              "        filter: drop-shadow(0px 1px 2px rgba(0, 0, 0, 0.3));\n",
              "        fill: #FFFFFF;\n",
              "      }\n",
              "    </style>\n",
              "    <button class=\"colab-df-generate\" onclick=\"generateWithVariable('resultados_gender')\"\n",
              "            title=\"Generate code using this dataframe.\"\n",
              "            style=\"display:none;\">\n",
              "\n",
              "  <svg xmlns=\"http://www.w3.org/2000/svg\" height=\"24px\"viewBox=\"0 0 24 24\"\n",
              "       width=\"24px\">\n",
              "    <path d=\"M7,19H8.4L18.45,9,17,7.55,7,17.6ZM5,21V16.75L18.45,3.32a2,2,0,0,1,2.83,0l1.4,1.43a1.91,1.91,0,0,1,.58,1.4,1.91,1.91,0,0,1-.58,1.4L9.25,21ZM18.45,9,17,7.55Zm-12,3A5.31,5.31,0,0,0,4.9,8.1,5.31,5.31,0,0,0,1,6.5,5.31,5.31,0,0,0,4.9,4.9,5.31,5.31,0,0,0,6.5,1,5.31,5.31,0,0,0,8.1,4.9,5.31,5.31,0,0,0,12,6.5,5.46,5.46,0,0,0,6.5,12Z\"/>\n",
              "  </svg>\n",
              "    </button>\n",
              "    <script>\n",
              "      (() => {\n",
              "      const buttonEl =\n",
              "        document.querySelector('#id_6f7f47de-7646-4a35-9903-3f15d5434865 button.colab-df-generate');\n",
              "      buttonEl.style.display =\n",
              "        google.colab.kernel.accessAllowed ? 'block' : 'none';\n",
              "\n",
              "      buttonEl.onclick = () => {\n",
              "        google.colab.notebook.generateWithVariable('resultados_gender');\n",
              "      }\n",
              "      })();\n",
              "    </script>\n",
              "  </div>\n",
              "\n",
              "    </div>\n",
              "  </div>\n"
            ]
          },
          "metadata": {},
          "execution_count": 85
        }
      ]
    },
    {
      "cell_type": "code",
      "source": [
        "labels = resultados_gender['Gender']\n",
        "churn_rate = resultados_gender['Churn_Rate']\n",
        "no_churn_rate = resultados_gender['No_Churn_Rate']\n",
        "\n",
        "\n",
        "fig, ax = plt.subplots(figsize=(10, 6))\n",
        "bars_churn = ax.bar(labels, churn_rate, label='Churn Rate', color='lightcoral')\n",
        "bars_no_churn = ax.bar(labels, no_churn_rate, bottom=churn_rate, label='No Churn Rate', color='skyblue')\n",
        "\n",
        "\n",
        "for bar_churn, bar_no_churn in zip(bars_churn, bars_no_churn):\n",
        "    height_churn = bar_churn.get_height()\n",
        "    height_no_churn = bar_no_churn.get_height()\n",
        "    total_height = height_churn + height_no_churn\n",
        "    ax.text(bar_churn.get_x() + bar_no_churn.get_width() / 2, total_height * 0.6, f'{height_no_churn: .0%}',\n",
        "            ha='center', va='bottom', color='black', fontweight='bold')\n",
        "\n",
        "    ax.text(bar_no_churn.get_x() + bar_churn.get_width() / 2, height_churn / 2, f'{height_churn: .0%}',\n",
        "            ha='center', va='bottom', color='black', fontweight='bold')\n",
        "\n",
        "\n",
        "ax.set_ylabel('Taxa de Churn/No Churn')\n",
        "ax.set_xlabel('Gênero')\n",
        "ax.set_title('Taxa de Churn e No Churn por Gênero')\n",
        "ax.legend()\n",
        "\n",
        "plt.show()\n"
      ],
      "metadata": {
        "colab": {
          "base_uri": "https://localhost:8080/",
          "height": 565
        },
        "id": "U4Qq4M-S2A9O",
        "outputId": "07bd3a32-206e-40fe-98dc-607f43526f8a"
      },
      "execution_count": null,
      "outputs": [
        {
          "output_type": "display_data",
          "data": {
            "text/plain": [
              "<Figure size 1000x600 with 1 Axes>"
            ],
            "image/png": "[encoded data removed]"
          },
          "metadata": {}
        }
      ]
    },
    {
      "cell_type": "markdown",
      "source": [
        "####3.6 - Payment Method"
      ],
      "metadata": {
        "id": "rmDSmbtf5En8"
      }
    },
    {
      "cell_type": "code",
      "source": [
        "resultados_payment = df_telco_customer_pd.groupby('Payment Method')['Churn Value'].agg(\n",
        "    Total_Count='count',\n",
        "    Churn_Count=lambda x: (x == 1).sum(),\n",
        "    Churn_Rate=lambda x: (x == 1).mean()\n",
        ").reset_index()\n",
        "\n",
        "\n",
        "resultados_payment['No_Churn_Count'] = resultados_payment['Total_Count'] - resultados_payment['Churn_Count']\n",
        "resultados_payment['No_Churn_Rate'] = 1 - resultados_payment['Churn_Rate']\n",
        "\n",
        "\n",
        "resultados_payment = resultados_payment[['Payment Method', 'Total_Count', 'Churn_Count', 'No_Churn_Count', 'Churn_Rate', 'No_Churn_Rate']]\n",
        "\n",
        "\n",
        "resultados_payment['Churn_Rate'] = resultados_payment['Churn_Rate'].round(2)\n",
        "resultados_payment['No_Churn_Rate'] = resultados_payment['No_Churn_Rate'].round(2)\n",
        "resultados_payment = resultados_payment.sort_values(by='Churn_Rate', ascending=False)\n",
        "\n",
        "resultados_payment"
      ],
      "metadata": {
        "colab": {
          "base_uri": "https://localhost:8080/",
          "height": 175
        },
        "id": "GNK1oOgE2_jo",
        "outputId": "6c32b033-d164-4a6b-d789-9fa816616096"
      },
      "execution_count": null,
      "outputs": [
        {
          "output_type": "execute_result",
          "data": {
            "text/plain": [
              "              Payment Method  Total_Count  Churn_Count  No_Churn_Count  \\\n",
              "2           Electronic check         2365         1071            1294   \n",
              "3               Mailed check         1612          308            1304   \n",
              "0  Bank transfer (automatic)         1544          258            1286   \n",
              "1    Credit card (automatic)         1522          232            1290   \n",
              "\n",
              "   Churn_Rate  No_Churn_Rate  \n",
              "2        0.45           0.55  \n",
              "3        0.19           0.81  \n",
              "0        0.17           0.83  \n",
              "1        0.15           0.85  "
            ],
            "text/html": [
              "\n",
              "  <div id=\"df-98b100eb-c9e6-4038-a412-66acbc4b3c72\" class=\"colab-df-container\">\n",
              "    <div>\n",
              "<style scoped>\n",
              "    .dataframe tbody tr th:only-of-type {\n",
              "        vertical-align: middle;\n",
              "    }\n",
              "\n",
              "    .dataframe tbody tr th {\n",
              "        vertical-align: top;\n",
              "    }\n",
              "\n",
              "    .dataframe thead th {\n",
              "        text-align: right;\n",
              "    }\n",
              "</style>\n",
              "<table border=\"1\" class=\"dataframe\">\n",
              "  <thead>\n",
              "    <tr style=\"text-align: right;\">\n",
              "      <th></th>\n",
              "      <th>Payment Method</th>\n",
              "      <th>Total_Count</th>\n",
              "      <th>Churn_Count</th>\n",
              "      <th>No_Churn_Count</th>\n",
              "      <th>Churn_Rate</th>\n",
              "      <th>No_Churn_Rate</th>\n",
              "    </tr>\n",
              "  </thead>\n",
              "  <tbody>\n",
              "    <tr>\n",
              "      <th>2</th>\n",
              "      <td>Electronic check</td>\n",
              "      <td>2365</td>\n",
              "      <td>1071</td>\n",
              "      <td>1294</td>\n",
              "      <td>0.45</td>\n",
              "      <td>0.55</td>\n",
              "    </tr>\n",
              "    <tr>\n",
              "      <th>3</th>\n",
              "      <td>Mailed check</td>\n",
              "      <td>1612</td>\n",
              "      <td>308</td>\n",
              "      <td>1304</td>\n",
              "      <td>0.19</td>\n",
              "      <td>0.81</td>\n",
              "    </tr>\n",
              "    <tr>\n",
              "      <th>0</th>\n",
              "      <td>Bank transfer (automatic)</td>\n",
              "      <td>1544</td>\n",
              "      <td>258</td>\n",
              "      <td>1286</td>\n",
              "      <td>0.17</td>\n",
              "      <td>0.83</td>\n",
              "    </tr>\n",
              "    <tr>\n",
              "      <th>1</th>\n",
              "      <td>Credit card (automatic)</td>\n",
              "      <td>1522</td>\n",
              "      <td>232</td>\n",
              "      <td>1290</td>\n",
              "      <td>0.15</td>\n",
              "      <td>0.85</td>\n",
              "    </tr>\n",
              "  </tbody>\n",
              "</table>\n",
              "</div>\n",
              "    <div class=\"colab-df-buttons\">\n",
              "\n",
              "  <div class=\"colab-df-container\">\n",
              "    <button class=\"colab-df-convert\" onclick=\"convertToInteractive('df-98b100eb-c9e6-4038-a412-66acbc4b3c72')\"\n",
              "            title=\"Convert this dataframe to an interactive table.\"\n",
              "            style=\"display:none;\">\n",
              "\n",
              "  <svg xmlns=\"http://www.w3.org/2000/svg\" height=\"24px\" viewBox=\"0 -960 960 960\">\n",
              "    <path d=\"M120-120v-720h720v720H120Zm60-500h600v-160H180v160Zm220 220h160v-160H400v160Zm0 220h160v-160H400v160ZM180-400h160v-160H180v160Zm440 0h160v-160H620v160ZM180-180h160v-160H180v160Zm440 0h160v-160H620v160Z\"/>\n",
              "  </svg>\n",
              "    </button>\n",
              "\n",
              "  <style>\n",
              "    .colab-df-container {\n",
              "      display:flex;\n",
              "      gap: 12px;\n",
              "    }\n",
              "\n",
              "    .colab-df-convert {\n",
              "      background-color: #E8F0FE;\n",
              "      border: none;\n",
              "      border-radius: 50%;\n",
              "      cursor: pointer;\n",
              "      display: none;\n",
              "      fill: #1967D2;\n",
              "      height: 32px;\n",
              "      padding: 0 0 0 0;\n",
              "      width: 32px;\n",
              "    }\n",
              "\n",
              "    .colab-df-convert:hover {\n",
              "      background-color: #E2EBFA;\n",
              "      box-shadow: 0px 1px 2px rgba(60, 64, 67, 0.3), 0px 1px 3px 1px rgba(60, 64, 67, 0.15);\n",
              "      fill: #174EA6;\n",
              "    }\n",
              "\n",
              "    .colab-df-buttons div {\n",
              "      margin-bottom: 4px;\n",
              "    }\n",
              "\n",
              "    [theme=dark] .colab-df-convert {\n",
              "      background-color: #3B4455;\n",
              "      fill: #D2E3FC;\n",
              "    }\n",
              "\n",
              "    [theme=dark] .colab-df-convert:hover {\n",
              "      background-color: #434B5C;\n",
              "      box-shadow: 0px 1px 3px 1px rgba(0, 0, 0, 0.15);\n",
              "      filter: drop-shadow(0px 1px 2px rgba(0, 0, 0, 0.3));\n",
              "      fill: #FFFFFF;\n",
              "    }\n",
              "  </style>\n",
              "\n",
              "    <script>\n",
              "      const buttonEl =\n",
              "        document.querySelector('#df-98b100eb-c9e6-4038-a412-66acbc4b3c72 button.colab-df-convert');\n",
              "      buttonEl.style.display =\n",
              "        google.colab.kernel.accessAllowed ? 'block' : 'none';\n",
              "\n",
              "      async function convertToInteractive(key) {\n",
              "        const element = document.querySelector('#df-98b100eb-c9e6-4038-a412-66acbc4b3c72');\n",
              "        const dataTable =\n",
              "          await google.colab.kernel.invokeFunction('convertToInteractive',\n",
              "                                                    [key], {});\n",
              "        if (!dataTable) return;\n",
              "\n",
              "        const docLinkHtml = 'Like what you see? Visit the ' +\n",
              "          '<a target=\"_blank\" href=https://colab.research.google.com/notebooks/data_table.ipynb>data table notebook</a>'\n",
              "          + ' to learn more about interactive tables.';\n",
              "        element.innerHTML = '';\n",
              "        dataTable['output_type'] = 'display_data';\n",
              "        await google.colab.output.renderOutput(dataTable, element);\n",
              "        const docLink = document.createElement('div');\n",
              "        docLink.innerHTML = docLinkHtml;\n",
              "        element.appendChild(docLink);\n",
              "      }\n",
              "    </script>\n",
              "  </div>\n",
              "\n",
              "\n",
              "<div id=\"df-6d2f03b3-6cdb-41b4-a264-c32868f423e1\">\n",
              "  <button class=\"colab-df-quickchart\" onclick=\"quickchart('df-6d2f03b3-6cdb-41b4-a264-c32868f423e1')\"\n",
              "            title=\"Suggest charts\"\n",
              "            style=\"display:none;\">\n",
              "\n",
              "<svg xmlns=\"http://www.w3.org/2000/svg\" height=\"24px\"viewBox=\"0 0 24 24\"\n",
              "     width=\"24px\">\n",
              "    <g>\n",
              "        <path d=\"M19 3H5c-1.1 0-2 .9-2 2v14c0 1.1.9 2 2 2h14c1.1 0 2-.9 2-2V5c0-1.1-.9-2-2-2zM9 17H7v-7h2v7zm4 0h-2V7h2v10zm4 0h-2v-4h2v4z\"/>\n",
              "    </g>\n",
              "</svg>\n",
              "  </button>\n",
              "\n",
              "<style>\n",
              "  .colab-df-quickchart {\n",
              "      --bg-color: #E8F0FE;\n",
              "      --fill-color: #1967D2;\n",
              "      --hover-bg-color: #E2EBFA;\n",
              "      --hover-fill-color: #174EA6;\n",
              "      --disabled-fill-color: #AAA;\n",
              "      --disabled-bg-color: #DDD;\n",
              "  }\n",
              "\n",
              "  [theme=dark] .colab-df-quickchart {\n",
              "      --bg-color: #3B4455;\n",
              "      --fill-color: #D2E3FC;\n",
              "      --hover-bg-color: #434B5C;\n",
              "      --hover-fill-color: #FFFFFF;\n",
              "      --disabled-bg-color: #3B4455;\n",
              "      --disabled-fill-color: #666;\n",
              "  }\n",
              "\n",
              "  .colab-df-quickchart {\n",
              "    background-color: var(--bg-color);\n",
              "    border: none;\n",
              "    border-radius: 50%;\n",
              "    cursor: pointer;\n",
              "    display: none;\n",
              "    fill: var(--fill-color);\n",
              "    height: 32px;\n",
              "    padding: 0;\n",
              "    width: 32px;\n",
              "  }\n",
              "\n",
              "  .colab-df-quickchart:hover {\n",
              "    background-color: var(--hover-bg-color);\n",
              "    box-shadow: 0 1px 2px rgba(60, 64, 67, 0.3), 0 1px 3px 1px rgba(60, 64, 67, 0.15);\n",
              "    fill: var(--button-hover-fill-color);\n",
              "  }\n",
              "\n",
              "  .colab-df-quickchart-complete:disabled,\n",
              "  .colab-df-quickchart-complete:disabled:hover {\n",
              "    background-color: var(--disabled-bg-color);\n",
              "    fill: var(--disabled-fill-color);\n",
              "    box-shadow: none;\n",
              "  }\n",
              "\n",
              "  .colab-df-spinner {\n",
              "    border: 2px solid var(--fill-color);\n",
              "    border-color: transparent;\n",
              "    border-bottom-color: var(--fill-color);\n",
              "    animation:\n",
              "      spin 1s steps(1) infinite;\n",
              "  }\n",
              "\n",
              "  @keyframes spin {\n",
              "    0% {\n",
              "      border-color: transparent;\n",
              "      border-bottom-color: var(--fill-color);\n",
              "      border-left-color: var(--fill-color);\n",
              "    }\n",
              "    20% {\n",
              "      border-color: transparent;\n",
              "      border-left-color: var(--fill-color);\n",
              "      border-top-color: var(--fill-color);\n",
              "    }\n",
              "    30% {\n",
              "      border-color: transparent;\n",
              "      border-left-color: var(--fill-color);\n",
              "      border-top-color: var(--fill-color);\n",
              "      border-right-color: var(--fill-color);\n",
              "    }\n",
              "    40% {\n",
              "      border-color: transparent;\n",
              "      border-right-color: var(--fill-color);\n",
              "      border-top-color: var(--fill-color);\n",
              "    }\n",
              "    60% {\n",
              "      border-color: transparent;\n",
              "      border-right-color: var(--fill-color);\n",
              "    }\n",
              "    80% {\n",
              "      border-color: transparent;\n",
              "      border-right-color: var(--fill-color);\n",
              "      border-bottom-color: var(--fill-color);\n",
              "    }\n",
              "    90% {\n",
              "      border-color: transparent;\n",
              "      border-bottom-color: var(--fill-color);\n",
              "    }\n",
              "  }\n",
              "</style>\n",
              "\n",
              "  <script>\n",
              "    async function quickchart(key) {\n",
              "      const quickchartButtonEl =\n",
              "        document.querySelector('#' + key + ' button');\n",
              "      quickchartButtonEl.disabled = true;  // To prevent multiple clicks.\n",
              "      quickchartButtonEl.classList.add('colab-df-spinner');\n",
              "      try {\n",
              "        const charts = await google.colab.kernel.invokeFunction(\n",
              "            'suggestCharts', [key], {});\n",
              "      } catch (error) {\n",
              "        console.error('Error during call to suggestCharts:', error);\n",
              "      }\n",
              "      quickchartButtonEl.classList.remove('colab-df-spinner');\n",
              "      quickchartButtonEl.classList.add('colab-df-quickchart-complete');\n",
              "    }\n",
              "    (() => {\n",
              "      let quickchartButtonEl =\n",
              "        document.querySelector('#df-6d2f03b3-6cdb-41b4-a264-c32868f423e1 button');\n",
              "      quickchartButtonEl.style.display =\n",
              "        google.colab.kernel.accessAllowed ? 'block' : 'none';\n",
              "    })();\n",
              "  </script>\n",
              "</div>\n",
              "\n",
              "  <div id=\"id_c2ad82c4-d60b-48d7-865e-15e77cbf3c27\">\n",
              "    <style>\n",
              "      .colab-df-generate {\n",
              "        background-color: #E8F0FE;\n",
              "        border: none;\n",
              "        border-radius: 50%;\n",
              "        cursor: pointer;\n",
              "        display: none;\n",
              "        fill: #1967D2;\n",
              "        height: 32px;\n",
              "        padding: 0 0 0 0;\n",
              "        width: 32px;\n",
              "      }\n",
              "\n",
              "      .colab-df-generate:hover {\n",
              "        background-color: #E2EBFA;\n",
              "        box-shadow: 0px 1px 2px rgba(60, 64, 67, 0.3), 0px 1px 3px 1px rgba(60, 64, 67, 0.15);\n",
              "        fill: #174EA6;\n",
              "      }\n",
              "\n",
              "      [theme=dark] .colab-df-generate {\n",
              "        background-color: #3B4455;\n",
              "        fill: #D2E3FC;\n",
              "      }\n",
              "\n",
              "      [theme=dark] .colab-df-generate:hover {\n",
              "        background-color: #434B5C;\n",
              "        box-shadow: 0px 1px 3px 1px rgba(0, 0, 0, 0.15);\n",
              "        filter: drop-shadow(0px 1px 2px rgba(0, 0, 0, 0.3));\n",
              "        fill: #FFFFFF;\n",
              "      }\n",
              "    </style>\n",
              "    <button class=\"colab-df-generate\" onclick=\"generateWithVariable('resultados_payment')\"\n",
              "            title=\"Generate code using this dataframe.\"\n",
              "            style=\"display:none;\">\n",
              "\n",
              "  <svg xmlns=\"http://www.w3.org/2000/svg\" height=\"24px\"viewBox=\"0 0 24 24\"\n",
              "       width=\"24px\">\n",
              "    <path d=\"M7,19H8.4L18.45,9,17,7.55,7,17.6ZM5,21V16.75L18.45,3.32a2,2,0,0,1,2.83,0l1.4,1.43a1.91,1.91,0,0,1,.58,1.4,1.91,1.91,0,0,1-.58,1.4L9.25,21ZM18.45,9,17,7.55Zm-12,3A5.31,5.31,0,0,0,4.9,8.1,5.31,5.31,0,0,0,1,6.5,5.31,5.31,0,0,0,4.9,4.9,5.31,5.31,0,0,0,6.5,1,5.31,5.31,0,0,0,8.1,4.9,5.31,5.31,0,0,0,12,6.5,5.46,5.46,0,0,0,6.5,12Z\"/>\n",
              "  </svg>\n",
              "    </button>\n",
              "    <script>\n",
              "      (() => {\n",
              "      const buttonEl =\n",
              "        document.querySelector('#id_c2ad82c4-d60b-48d7-865e-15e77cbf3c27 button.colab-df-generate');\n",
              "      buttonEl.style.display =\n",
              "        google.colab.kernel.accessAllowed ? 'block' : 'none';\n",
              "\n",
              "      buttonEl.onclick = () => {\n",
              "        google.colab.notebook.generateWithVariable('resultados_payment');\n",
              "      }\n",
              "      })();\n",
              "    </script>\n",
              "  </div>\n",
              "\n",
              "    </div>\n",
              "  </div>\n"
            ]
          },
          "metadata": {},
          "execution_count": 88
        }
      ]
    },
    {
      "cell_type": "code",
      "source": [
        "\n",
        "labels_payment = resultados_payment['Payment Method']\n",
        "churn_rate_payment = resultados_payment['Churn_Rate']\n",
        "no_churn_rate_payment = resultados_payment['No_Churn_Rate']\n",
        "\n",
        "fig, ax = plt.subplots(figsize=(10, 6))\n",
        "bars_churn_payment = ax.bar(labels_payment, churn_rate_payment, label='Churn Rate', color='lightcoral')\n",
        "bars_no_churn_payment = ax.bar(labels_payment, no_churn_rate_payment, bottom=churn_rate_payment, label='No Churn Rate', color='skyblue')\n",
        "\n",
        "for bar_churn_payment, bar_no_churn_payment in zip(bars_churn_payment, bars_no_churn_payment):\n",
        "    height_churn_payment = bar_churn_payment.get_height()\n",
        "    height_no_churn_payment = bar_no_churn_payment.get_height()\n",
        "    total_height_payment = height_churn_payment + height_no_churn_payment\n",
        "    ax.text(bar_churn_payment.get_x() + bar_no_churn_payment.get_width() / 2, total_height_payment * 0.6, f'{height_no_churn_payment: .0%}',\n",
        "            ha='center', va='bottom', color='black', fontweight='bold')\n",
        "\n",
        "    ax.text(bar_no_churn_payment.get_x() + bar_churn_payment.get_width() / 2, height_churn_payment / 2, f'{height_churn_payment: .0%}',\n",
        "            ha='center', va='bottom', color='black', fontweight='bold')\n",
        "\n",
        "ax.set_ylabel('Taxa de Churn/No Churn')\n",
        "ax.set_xlabel('Método de Pagamento')\n",
        "ax.set_title('Taxa de Churn e No Churn por Método de Pagamento')\n",
        "ax.legend()\n",
        "\n",
        "plt.show()\n"
      ],
      "metadata": {
        "colab": {
          "base_uri": "https://localhost:8080/",
          "height": 565
        },
        "id": "bmWDm0j05SOt",
        "outputId": "6a3b4945-8ad5-4ec7-831d-b5e61e286af1"
      },
      "execution_count": null,
      "outputs": [
        {
          "output_type": "display_data",
          "data": {
            "text/plain": [
              "<Figure size 1000x600 with 1 Axes>"
            ],
            "image/png": "[encoded data removed]"
          },
          "metadata": {}
        }
      ]
    },
    {
      "cell_type": "markdown",
      "source": [
        "####3.7 - Internet Service"
      ],
      "metadata": {
        "id": "rHjLtN66BnPR"
      }
    },
    {
      "cell_type": "code",
      "source": [
        "resultados_internet = df_telco_customer_pd.groupby('Internet Service')['Churn Value'].agg(\n",
        "    Total_Count='count',\n",
        "    Churn_Count=lambda x: (x == 1).sum(),\n",
        "    Churn_Rate=lambda x: (x == 1).mean()\n",
        ").reset_index()\n",
        "\n",
        "\n",
        "resultados_internet['No_Churn_Count'] = resultados_internet['Total_Count'] - resultados_internet['Churn_Count']\n",
        "resultados_internet['No_Churn_Rate'] = 1 - resultados_internet['Churn_Rate']\n",
        "\n",
        "\n",
        "resultados_internet = resultados_internet[['Internet Service', 'Total_Count', 'Churn_Count', 'No_Churn_Count', 'Churn_Rate', 'No_Churn_Rate']]\n",
        "\n",
        "\n",
        "resultados_internet['Churn_Rate'] = resultados_internet['Churn_Rate'].round(2)\n",
        "resultados_internet['No_Churn_Rate'] = resultados_internet['No_Churn_Rate'].round(2)\n",
        "resultados_internet = resultados_internet.sort_values(by='Churn_Rate', ascending=False)\n",
        "\n",
        "resultados_internet"
      ],
      "metadata": {
        "colab": {
          "base_uri": "https://localhost:8080/",
          "height": 143
        },
        "id": "YZmMgHzt6XWt",
        "outputId": "390ab8fc-85ed-49c1-b5e2-32b1cf8ef617"
      },
      "execution_count": null,
      "outputs": [
        {
          "output_type": "execute_result",
          "data": {
            "text/plain": [
              "  Internet Service  Total_Count  Churn_Count  No_Churn_Count  Churn_Rate  \\\n",
              "1      Fiber optic         3096         1297            1799        0.42   \n",
              "0              DSL         2421          459            1962        0.19   \n",
              "2               No         1526          113            1413        0.07   \n",
              "\n",
              "   No_Churn_Rate  \n",
              "1           0.58  \n",
              "0           0.81  \n",
              "2           0.93  "
            ],
            "text/html": [
              "\n",
              "  <div id=\"df-82c3bac9-0ff5-4355-92d6-6c6506cd0e66\" class=\"colab-df-container\">\n",
              "    <div>\n",
              "<style scoped>\n",
              "    .dataframe tbody tr th:only-of-type {\n",
              "        vertical-align: middle;\n",
              "    }\n",
              "\n",
              "    .dataframe tbody tr th {\n",
              "        vertical-align: top;\n",
              "    }\n",
              "\n",
              "    .dataframe thead th {\n",
              "        text-align: right;\n",
              "    }\n",
              "</style>\n",
              "<table border=\"1\" class=\"dataframe\">\n",
              "  <thead>\n",
              "    <tr style=\"text-align: right;\">\n",
              "      <th></th>\n",
              "      <th>Internet Service</th>\n",
              "      <th>Total_Count</th>\n",
              "      <th>Churn_Count</th>\n",
              "      <th>No_Churn_Count</th>\n",
              "      <th>Churn_Rate</th>\n",
              "      <th>No_Churn_Rate</th>\n",
              "    </tr>\n",
              "  </thead>\n",
              "  <tbody>\n",
              "    <tr>\n",
              "      <th>1</th>\n",
              "      <td>Fiber optic</td>\n",
              "      <td>3096</td>\n",
              "      <td>1297</td>\n",
              "      <td>1799</td>\n",
              "      <td>0.42</td>\n",
              "      <td>0.58</td>\n",
              "    </tr>\n",
              "    <tr>\n",
              "      <th>0</th>\n",
              "      <td>DSL</td>\n",
              "      <td>2421</td>\n",
              "      <td>459</td>\n",
              "      <td>1962</td>\n",
              "      <td>0.19</td>\n",
              "      <td>0.81</td>\n",
              "    </tr>\n",
              "    <tr>\n",
              "      <th>2</th>\n",
              "      <td>No</td>\n",
              "      <td>1526</td>\n",
              "      <td>113</td>\n",
              "      <td>1413</td>\n",
              "      <td>0.07</td>\n",
              "      <td>0.93</td>\n",
              "    </tr>\n",
              "  </tbody>\n",
              "</table>\n",
              "</div>\n",
              "    <div class=\"colab-df-buttons\">\n",
              "\n",
              "  <div class=\"colab-df-container\">\n",
              "    <button class=\"colab-df-convert\" onclick=\"convertToInteractive('df-82c3bac9-0ff5-4355-92d6-6c6506cd0e66')\"\n",
              "            title=\"Convert this dataframe to an interactive table.\"\n",
              "            style=\"display:none;\">\n",
              "\n",
              "  <svg xmlns=\"http://www.w3.org/2000/svg\" height=\"24px\" viewBox=\"0 -960 960 960\">\n",
              "    <path d=\"M120-120v-720h720v720H120Zm60-500h600v-160H180v160Zm220 220h160v-160H400v160Zm0 220h160v-160H400v160ZM180-400h160v-160H180v160Zm440 0h160v-160H620v160ZM180-180h160v-160H180v160Zm440 0h160v-160H620v160Z\"/>\n",
              "  </svg>\n",
              "    </button>\n",
              "\n",
              "  <style>\n",
              "    .colab-df-container {\n",
              "      display:flex;\n",
              "      gap: 12px;\n",
              "    }\n",
              "\n",
              "    .colab-df-convert {\n",
              "      background-color: #E8F0FE;\n",
              "      border: none;\n",
              "      border-radius: 50%;\n",
              "      cursor: pointer;\n",
              "      display: none;\n",
              "      fill: #1967D2;\n",
              "      height: 32px;\n",
              "      padding: 0 0 0 0;\n",
              "      width: 32px;\n",
              "    }\n",
              "\n",
              "    .colab-df-convert:hover {\n",
              "      background-color: #E2EBFA;\n",
              "      box-shadow: 0px 1px 2px rgba(60, 64, 67, 0.3), 0px 1px 3px 1px rgba(60, 64, 67, 0.15);\n",
              "      fill: #174EA6;\n",
              "    }\n",
              "\n",
              "    .colab-df-buttons div {\n",
              "      margin-bottom: 4px;\n",
              "    }\n",
              "\n",
              "    [theme=dark] .colab-df-convert {\n",
              "      background-color: #3B4455;\n",
              "      fill: #D2E3FC;\n",
              "    }\n",
              "\n",
              "    [theme=dark] .colab-df-convert:hover {\n",
              "      background-color: #434B5C;\n",
              "      box-shadow: 0px 1px 3px 1px rgba(0, 0, 0, 0.15);\n",
              "      filter: drop-shadow(0px 1px 2px rgba(0, 0, 0, 0.3));\n",
              "      fill: #FFFFFF;\n",
              "    }\n",
              "  </style>\n",
              "\n",
              "    <script>\n",
              "      const buttonEl =\n",
              "        document.querySelector('#df-82c3bac9-0ff5-4355-92d6-6c6506cd0e66 button.colab-df-convert');\n",
              "      buttonEl.style.display =\n",
              "        google.colab.kernel.accessAllowed ? 'block' : 'none';\n",
              "\n",
              "      async function convertToInteractive(key) {\n",
              "        const element = document.querySelector('#df-82c3bac9-0ff5-4355-92d6-6c6506cd0e66');\n",
              "        const dataTable =\n",
              "          await google.colab.kernel.invokeFunction('convertToInteractive',\n",
              "                                                    [key], {});\n",
              "        if (!dataTable) return;\n",
              "\n",
              "        const docLinkHtml = 'Like what you see? Visit the ' +\n",
              "          '<a target=\"_blank\" href=https://colab.research.google.com/notebooks/data_table.ipynb>data table notebook</a>'\n",
              "          + ' to learn more about interactive tables.';\n",
              "        element.innerHTML = '';\n",
              "        dataTable['output_type'] = 'display_data';\n",
              "        await google.colab.output.renderOutput(dataTable, element);\n",
              "        const docLink = document.createElement('div');\n",
              "        docLink.innerHTML = docLinkHtml;\n",
              "        element.appendChild(docLink);\n",
              "      }\n",
              "    </script>\n",
              "  </div>\n",
              "\n",
              "\n",
              "<div id=\"df-ea2c5ec2-8106-4dd4-beb5-2b442a8fedda\">\n",
              "  <button class=\"colab-df-quickchart\" onclick=\"quickchart('df-ea2c5ec2-8106-4dd4-beb5-2b442a8fedda')\"\n",
              "            title=\"Suggest charts\"\n",
              "            style=\"display:none;\">\n",
              "\n",
              "<svg xmlns=\"http://www.w3.org/2000/svg\" height=\"24px\"viewBox=\"0 0 24 24\"\n",
              "     width=\"24px\">\n",
              "    <g>\n",
              "        <path d=\"M19 3H5c-1.1 0-2 .9-2 2v14c0 1.1.9 2 2 2h14c1.1 0 2-.9 2-2V5c0-1.1-.9-2-2-2zM9 17H7v-7h2v7zm4 0h-2V7h2v10zm4 0h-2v-4h2v4z\"/>\n",
              "    </g>\n",
              "</svg>\n",
              "  </button>\n",
              "\n",
              "<style>\n",
              "  .colab-df-quickchart {\n",
              "      --bg-color: #E8F0FE;\n",
              "      --fill-color: #1967D2;\n",
              "      --hover-bg-color: #E2EBFA;\n",
              "      --hover-fill-color: #174EA6;\n",
              "      --disabled-fill-color: #AAA;\n",
              "      --disabled-bg-color: #DDD;\n",
              "  }\n",
              "\n",
              "  [theme=dark] .colab-df-quickchart {\n",
              "      --bg-color: #3B4455;\n",
              "      --fill-color: #D2E3FC;\n",
              "      --hover-bg-color: #434B5C;\n",
              "      --hover-fill-color: #FFFFFF;\n",
              "      --disabled-bg-color: #3B4455;\n",
              "      --disabled-fill-color: #666;\n",
              "  }\n",
              "\n",
              "  .colab-df-quickchart {\n",
              "    background-color: var(--bg-color);\n",
              "    border: none;\n",
              "    border-radius: 50%;\n",
              "    cursor: pointer;\n",
              "    display: none;\n",
              "    fill: var(--fill-color);\n",
              "    height: 32px;\n",
              "    padding: 0;\n",
              "    width: 32px;\n",
              "  }\n",
              "\n",
              "  .colab-df-quickchart:hover {\n",
              "    background-color: var(--hover-bg-color);\n",
              "    box-shadow: 0 1px 2px rgba(60, 64, 67, 0.3), 0 1px 3px 1px rgba(60, 64, 67, 0.15);\n",
              "    fill: var(--button-hover-fill-color);\n",
              "  }\n",
              "\n",
              "  .colab-df-quickchart-complete:disabled,\n",
              "  .colab-df-quickchart-complete:disabled:hover {\n",
              "    background-color: var(--disabled-bg-color);\n",
              "    fill: var(--disabled-fill-color);\n",
              "    box-shadow: none;\n",
              "  }\n",
              "\n",
              "  .colab-df-spinner {\n",
              "    border: 2px solid var(--fill-color);\n",
              "    border-color: transparent;\n",
              "    border-bottom-color: var(--fill-color);\n",
              "    animation:\n",
              "      spin 1s steps(1) infinite;\n",
              "  }\n",
              "\n",
              "  @keyframes spin {\n",
              "    0% {\n",
              "      border-color: transparent;\n",
              "      border-bottom-color: var(--fill-color);\n",
              "      border-left-color: var(--fill-color);\n",
              "    }\n",
              "    20% {\n",
              "      border-color: transparent;\n",
              "      border-left-color: var(--fill-color);\n",
              "      border-top-color: var(--fill-color);\n",
              "    }\n",
              "    30% {\n",
              "      border-color: transparent;\n",
              "      border-left-color: var(--fill-color);\n",
              "      border-top-color: var(--fill-color);\n",
              "      border-right-color: var(--fill-color);\n",
              "    }\n",
              "    40% {\n",
              "      border-color: transparent;\n",
              "      border-right-color: var(--fill-color);\n",
              "      border-top-color: var(--fill-color);\n",
              "    }\n",
              "    60% {\n",
              "      border-color: transparent;\n",
              "      border-right-color: var(--fill-color);\n",
              "    }\n",
              "    80% {\n",
              "      border-color: transparent;\n",
              "      border-right-color: var(--fill-color);\n",
              "      border-bottom-color: var(--fill-color);\n",
              "    }\n",
              "    90% {\n",
              "      border-color: transparent;\n",
              "      border-bottom-color: var(--fill-color);\n",
              "    }\n",
              "  }\n",
              "</style>\n",
              "\n",
              "  <script>\n",
              "    async function quickchart(key) {\n",
              "      const quickchartButtonEl =\n",
              "        document.querySelector('#' + key + ' button');\n",
              "      quickchartButtonEl.disabled = true;  // To prevent multiple clicks.\n",
              "      quickchartButtonEl.classList.add('colab-df-spinner');\n",
              "      try {\n",
              "        const charts = await google.colab.kernel.invokeFunction(\n",
              "            'suggestCharts', [key], {});\n",
              "      } catch (error) {\n",
              "        console.error('Error during call to suggestCharts:', error);\n",
              "      }\n",
              "      quickchartButtonEl.classList.remove('colab-df-spinner');\n",
              "      quickchartButtonEl.classList.add('colab-df-quickchart-complete');\n",
              "    }\n",
              "    (() => {\n",
              "      let quickchartButtonEl =\n",
              "        document.querySelector('#df-ea2c5ec2-8106-4dd4-beb5-2b442a8fedda button');\n",
              "      quickchartButtonEl.style.display =\n",
              "        google.colab.kernel.accessAllowed ? 'block' : 'none';\n",
              "    })();\n",
              "  </script>\n",
              "</div>\n",
              "\n",
              "  <div id=\"id_db873833-1789-44af-9aaf-23ae4433b602\">\n",
              "    <style>\n",
              "      .colab-df-generate {\n",
              "        background-color: #E8F0FE;\n",
              "        border: none;\n",
              "        border-radius: 50%;\n",
              "        cursor: pointer;\n",
              "        display: none;\n",
              "        fill: #1967D2;\n",
              "        height: 32px;\n",
              "        padding: 0 0 0 0;\n",
              "        width: 32px;\n",
              "      }\n",
              "\n",
              "      .colab-df-generate:hover {\n",
              "        background-color: #E2EBFA;\n",
              "        box-shadow: 0px 1px 2px rgba(60, 64, 67, 0.3), 0px 1px 3px 1px rgba(60, 64, 67, 0.15);\n",
              "        fill: #174EA6;\n",
              "      }\n",
              "\n",
              "      [theme=dark] .colab-df-generate {\n",
              "        background-color: #3B4455;\n",
              "        fill: #D2E3FC;\n",
              "      }\n",
              "\n",
              "      [theme=dark] .colab-df-generate:hover {\n",
              "        background-color: #434B5C;\n",
              "        box-shadow: 0px 1px 3px 1px rgba(0, 0, 0, 0.15);\n",
              "        filter: drop-shadow(0px 1px 2px rgba(0, 0, 0, 0.3));\n",
              "        fill: #FFFFFF;\n",
              "      }\n",
              "    </style>\n",
              "    <button class=\"colab-df-generate\" onclick=\"generateWithVariable('resultados_internet')\"\n",
              "            title=\"Generate code using this dataframe.\"\n",
              "            style=\"display:none;\">\n",
              "\n",
              "  <svg xmlns=\"http://www.w3.org/2000/svg\" height=\"24px\"viewBox=\"0 0 24 24\"\n",
              "       width=\"24px\">\n",
              "    <path d=\"M7,19H8.4L18.45,9,17,7.55,7,17.6ZM5,21V16.75L18.45,3.32a2,2,0,0,1,2.83,0l1.4,1.43a1.91,1.91,0,0,1,.58,1.4,1.91,1.91,0,0,1-.58,1.4L9.25,21ZM18.45,9,17,7.55Zm-12,3A5.31,5.31,0,0,0,4.9,8.1,5.31,5.31,0,0,0,1,6.5,5.31,5.31,0,0,0,4.9,4.9,5.31,5.31,0,0,0,6.5,1,5.31,5.31,0,0,0,8.1,4.9,5.31,5.31,0,0,0,12,6.5,5.46,5.46,0,0,0,6.5,12Z\"/>\n",
              "  </svg>\n",
              "    </button>\n",
              "    <script>\n",
              "      (() => {\n",
              "      const buttonEl =\n",
              "        document.querySelector('#id_db873833-1789-44af-9aaf-23ae4433b602 button.colab-df-generate');\n",
              "      buttonEl.style.display =\n",
              "        google.colab.kernel.accessAllowed ? 'block' : 'none';\n",
              "\n",
              "      buttonEl.onclick = () => {\n",
              "        google.colab.notebook.generateWithVariable('resultados_internet');\n",
              "      }\n",
              "      })();\n",
              "    </script>\n",
              "  </div>\n",
              "\n",
              "    </div>\n",
              "  </div>\n"
            ]
          },
          "metadata": {},
          "execution_count": 90
        }
      ]
    },
    {
      "cell_type": "code",
      "source": [
        "\n",
        "labels_internet = resultados_internet['Internet Service']\n",
        "churn_rate_internet = resultados_internet['Churn_Rate']\n",
        "no_churn_rate_internet = resultados_internet['No_Churn_Rate']\n",
        "\n",
        "fig, ax = plt.subplots(figsize=(10, 6))\n",
        "bars_churn_internet = ax.bar(labels_internet, churn_rate_internet, label='Churn Rate', color='lightcoral')\n",
        "bars_no_churn_internet = ax.bar(labels_internet, no_churn_rate_internet, bottom=churn_rate_internet, label='No Churn Rate', color='skyblue')\n",
        "\n",
        "for bar_churn_internet, bar_no_churn_internet in zip(bars_churn_internet, bars_no_churn_internet):\n",
        "    height_churn_internet = bar_churn_internet.get_height()\n",
        "    height_no_churn_internet = bar_no_churn_internet.get_height()\n",
        "    total_height_internet = height_churn_internet + height_no_churn_internet\n",
        "    ax.text(bar_churn_internet.get_x() + bar_no_churn_internet.get_width() / 2, total_height_internet * 0.6, f'{height_no_churn_internet: .0%}',\n",
        "            ha='center', va='bottom', color='black', fontweight='bold')\n",
        "\n",
        "    ax.text(bar_no_churn_internet.get_x() + bar_churn_internet.get_width() / 2, height_churn_internet / 2, f'{height_churn_internet: .0%}',\n",
        "            ha='center', va='bottom', color='black', fontweight='bold')\n",
        "\n",
        "ax.set_ylabel('Taxa de Churn/No Churn')\n",
        "ax.set_xlabel('Tipo de Internet')\n",
        "ax.set_title('Taxa de Churn e No Churn por Tipo de Internet')\n",
        "ax.legend()\n",
        "\n",
        "plt.show()\n"
      ],
      "metadata": {
        "colab": {
          "base_uri": "https://localhost:8080/",
          "height": 564
        },
        "id": "p8Of0bjJDRpg",
        "outputId": "9dbc5d76-ab46-43d1-9b41-da43fffad52d"
      },
      "execution_count": null,
      "outputs": [
        {
          "output_type": "display_data",
          "data": {
            "text/plain": [
              "<Figure size 1000x600 with 1 Axes>"
            ],
            "image/png": "[encoded data removed]"
          },
          "metadata": {}
        }
      ]
    },
    {
      "cell_type": "markdown",
      "source": [
        "####3.8 - Internet Service / Payment Method"
      ],
      "metadata": {
        "id": "usjRk88xXaiZ"
      }
    },
    {
      "cell_type": "code",
      "source": [
        "resultados_internet_payment_method = df_telco_customer_pd.groupby(['Internet Service', 'Payment Method'])['Churn Value'].agg(\n",
        "    Total_Count='count',\n",
        "    Churn_Count=lambda x: (x == 1).sum(),\n",
        "    Churn_Rate=lambda x: (x == 1).mean()\n",
        ").reset_index()\n",
        "\n",
        "\n",
        "resultados_internet_payment_method['No_Churn_Count'] = resultados_internet_payment_method['Total_Count'] - resultados_internet_payment_method['Churn_Count']\n",
        "resultados_internet_payment_method['No_Churn_Rate'] = 1 - resultados_internet_payment_method['Churn_Rate']\n",
        "\n",
        "\n",
        "resultados_internet_payment_method = resultados_internet_payment_method[['Payment Method','Internet Service', 'Total_Count', 'Churn_Count', 'No_Churn_Count', 'Churn_Rate', 'No_Churn_Rate']]\n",
        "\n",
        "\n",
        "resultados_internet_payment_method['Churn_Rate'] = resultados_internet_payment_method['Churn_Rate'].round(2)\n",
        "resultados_internet_payment_method['No_Churn_Rate'] = resultados_internet_payment_method['No_Churn_Rate'].round(2)\n",
        "resultados_internet_payment_method = resultados_internet_payment_method.sort_values(by='Churn_Rate', ascending=False)\n",
        "\n",
        "resultados_internet_payment_method"
      ],
      "metadata": {
        "colab": {
          "base_uri": "https://localhost:8080/",
          "height": 426
        },
        "id": "if6SxTWoB52h",
        "outputId": "c7b0de1b-710c-4cec-822e-1d9b51b0830d"
      },
      "execution_count": null,
      "outputs": [
        {
          "output_type": "execute_result",
          "data": {
            "text/plain": [
              "               Payment Method Internet Service  Total_Count  Churn_Count  \\\n",
              "6            Electronic check      Fiber optic         1595          849   \n",
              "7                Mailed check      Fiber optic          258          110   \n",
              "2            Electronic check              DSL          648          207   \n",
              "4   Bank transfer (automatic)      Fiber optic          646          187   \n",
              "5     Credit card (automatic)      Fiber optic          597          151   \n",
              "3                Mailed check              DSL          613          127   \n",
              "1     Credit card (automatic)              DSL          594           72   \n",
              "10           Electronic check               No          122           15   \n",
              "11               Mailed check               No          741           71   \n",
              "0   Bank transfer (automatic)              DSL          566           53   \n",
              "8   Bank transfer (automatic)               No          332           18   \n",
              "9     Credit card (automatic)               No          331            9   \n",
              "\n",
              "    No_Churn_Count  Churn_Rate  No_Churn_Rate  \n",
              "6              746        0.53           0.47  \n",
              "7              148        0.43           0.57  \n",
              "2              441        0.32           0.68  \n",
              "4              459        0.29           0.71  \n",
              "5              446        0.25           0.75  \n",
              "3              486        0.21           0.79  \n",
              "1              522        0.12           0.88  \n",
              "10             107        0.12           0.88  \n",
              "11             670        0.10           0.90  \n",
              "0              513        0.09           0.91  \n",
              "8              314        0.05           0.95  \n",
              "9              322        0.03           0.97  "
            ],
            "text/html": [
              "\n",
              "  <div id=\"df-2e9ab316-9d95-48b0-896c-666373d38f33\" class=\"colab-df-container\">\n",
              "    <div>\n",
              "<style scoped>\n",
              "    .dataframe tbody tr th:only-of-type {\n",
              "        vertical-align: middle;\n",
              "    }\n",
              "\n",
              "    .dataframe tbody tr th {\n",
              "        vertical-align: top;\n",
              "    }\n",
              "\n",
              "    .dataframe thead th {\n",
              "        text-align: right;\n",
              "    }\n",
              "</style>\n",
              "<table border=\"1\" class=\"dataframe\">\n",
              "  <thead>\n",
              "    <tr style=\"text-align: right;\">\n",
              "      <th></th>\n",
              "      <th>Payment Method</th>\n",
              "      <th>Internet Service</th>\n",
              "      <th>Total_Count</th>\n",
              "      <th>Churn_Count</th>\n",
              "      <th>No_Churn_Count</th>\n",
              "      <th>Churn_Rate</th>\n",
              "      <th>No_Churn_Rate</th>\n",
              "    </tr>\n",
              "  </thead>\n",
              "  <tbody>\n",
              "    <tr>\n",
              "      <th>6</th>\n",
              "      <td>Electronic check</td>\n",
              "      <td>Fiber optic</td>\n",
              "      <td>1595</td>\n",
              "      <td>849</td>\n",
              "      <td>746</td>\n",
              "      <td>0.53</td>\n",
              "      <td>0.47</td>\n",
              "    </tr>\n",
              "    <tr>\n",
              "      <th>7</th>\n",
              "      <td>Mailed check</td>\n",
              "      <td>Fiber optic</td>\n",
              "      <td>258</td>\n",
              "      <td>110</td>\n",
              "      <td>148</td>\n",
              "      <td>0.43</td>\n",
              "      <td>0.57</td>\n",
              "    </tr>\n",
              "    <tr>\n",
              "      <th>2</th>\n",
              "      <td>Electronic check</td>\n",
              "      <td>DSL</td>\n",
              "      <td>648</td>\n",
              "      <td>207</td>\n",
              "      <td>441</td>\n",
              "      <td>0.32</td>\n",
              "      <td>0.68</td>\n",
              "    </tr>\n",
              "    <tr>\n",
              "      <th>4</th>\n",
              "      <td>Bank transfer (automatic)</td>\n",
              "      <td>Fiber optic</td>\n",
              "      <td>646</td>\n",
              "      <td>187</td>\n",
              "      <td>459</td>\n",
              "      <td>0.29</td>\n",
              "      <td>0.71</td>\n",
              "    </tr>\n",
              "    <tr>\n",
              "      <th>5</th>\n",
              "      <td>Credit card (automatic)</td>\n",
              "      <td>Fiber optic</td>\n",
              "      <td>597</td>\n",
              "      <td>151</td>\n",
              "      <td>446</td>\n",
              "      <td>0.25</td>\n",
              "      <td>0.75</td>\n",
              "    </tr>\n",
              "    <tr>\n",
              "      <th>3</th>\n",
              "      <td>Mailed check</td>\n",
              "      <td>DSL</td>\n",
              "      <td>613</td>\n",
              "      <td>127</td>\n",
              "      <td>486</td>\n",
              "      <td>0.21</td>\n",
              "      <td>0.79</td>\n",
              "    </tr>\n",
              "    <tr>\n",
              "      <th>1</th>\n",
              "      <td>Credit card (automatic)</td>\n",
              "      <td>DSL</td>\n",
              "      <td>594</td>\n",
              "      <td>72</td>\n",
              "      <td>522</td>\n",
              "      <td>0.12</td>\n",
              "      <td>0.88</td>\n",
              "    </tr>\n",
              "    <tr>\n",
              "      <th>10</th>\n",
              "      <td>Electronic check</td>\n",
              "      <td>No</td>\n",
              "      <td>122</td>\n",
              "      <td>15</td>\n",
              "      <td>107</td>\n",
              "      <td>0.12</td>\n",
              "      <td>0.88</td>\n",
              "    </tr>\n",
              "    <tr>\n",
              "      <th>11</th>\n",
              "      <td>Mailed check</td>\n",
              "      <td>No</td>\n",
              "      <td>741</td>\n",
              "      <td>71</td>\n",
              "      <td>670</td>\n",
              "      <td>0.10</td>\n",
              "      <td>0.90</td>\n",
              "    </tr>\n",
              "    <tr>\n",
              "      <th>0</th>\n",
              "      <td>Bank transfer (automatic)</td>\n",
              "      <td>DSL</td>\n",
              "      <td>566</td>\n",
              "      <td>53</td>\n",
              "      <td>513</td>\n",
              "      <td>0.09</td>\n",
              "      <td>0.91</td>\n",
              "    </tr>\n",
              "    <tr>\n",
              "      <th>8</th>\n",
              "      <td>Bank transfer (automatic)</td>\n",
              "      <td>No</td>\n",
              "      <td>332</td>\n",
              "      <td>18</td>\n",
              "      <td>314</td>\n",
              "      <td>0.05</td>\n",
              "      <td>0.95</td>\n",
              "    </tr>\n",
              "    <tr>\n",
              "      <th>9</th>\n",
              "      <td>Credit card (automatic)</td>\n",
              "      <td>No</td>\n",
              "      <td>331</td>\n",
              "      <td>9</td>\n",
              "      <td>322</td>\n",
              "      <td>0.03</td>\n",
              "      <td>0.97</td>\n",
              "    </tr>\n",
              "  </tbody>\n",
              "</table>\n",
              "</div>\n",
              "    <div class=\"colab-df-buttons\">\n",
              "\n",
              "  <div class=\"colab-df-container\">\n",
              "    <button class=\"colab-df-convert\" onclick=\"convertToInteractive('df-2e9ab316-9d95-48b0-896c-666373d38f33')\"\n",
              "            title=\"Convert this dataframe to an interactive table.\"\n",
              "            style=\"display:none;\">\n",
              "\n",
              "  <svg xmlns=\"http://www.w3.org/2000/svg\" height=\"24px\" viewBox=\"0 -960 960 960\">\n",
              "    <path d=\"M120-120v-720h720v720H120Zm60-500h600v-160H180v160Zm220 220h160v-160H400v160Zm0 220h160v-160H400v160ZM180-400h160v-160H180v160Zm440 0h160v-160H620v160ZM180-180h160v-160H180v160Zm440 0h160v-160H620v160Z\"/>\n",
              "  </svg>\n",
              "    </button>\n",
              "\n",
              "  <style>\n",
              "    .colab-df-container {\n",
              "      display:flex;\n",
              "      gap: 12px;\n",
              "    }\n",
              "\n",
              "    .colab-df-convert {\n",
              "      background-color: #E8F0FE;\n",
              "      border: none;\n",
              "      border-radius: 50%;\n",
              "      cursor: pointer;\n",
              "      display: none;\n",
              "      fill: #1967D2;\n",
              "      height: 32px;\n",
              "      padding: 0 0 0 0;\n",
              "      width: 32px;\n",
              "    }\n",
              "\n",
              "    .colab-df-convert:hover {\n",
              "      background-color: #E2EBFA;\n",
              "      box-shadow: 0px 1px 2px rgba(60, 64, 67, 0.3), 0px 1px 3px 1px rgba(60, 64, 67, 0.15);\n",
              "      fill: #174EA6;\n",
              "    }\n",
              "\n",
              "    .colab-df-buttons div {\n",
              "      margin-bottom: 4px;\n",
              "    }\n",
              "\n",
              "    [theme=dark] .colab-df-convert {\n",
              "      background-color: #3B4455;\n",
              "      fill: #D2E3FC;\n",
              "    }\n",
              "\n",
              "    [theme=dark] .colab-df-convert:hover {\n",
              "      background-color: #434B5C;\n",
              "      box-shadow: 0px 1px 3px 1px rgba(0, 0, 0, 0.15);\n",
              "      filter: drop-shadow(0px 1px 2px rgba(0, 0, 0, 0.3));\n",
              "      fill: #FFFFFF;\n",
              "    }\n",
              "  </style>\n",
              "\n",
              "    <script>\n",
              "      const buttonEl =\n",
              "        document.querySelector('#df-2e9ab316-9d95-48b0-896c-666373d38f33 button.colab-df-convert');\n",
              "      buttonEl.style.display =\n",
              "        google.colab.kernel.accessAllowed ? 'block' : 'none';\n",
              "\n",
              "      async function convertToInteractive(key) {\n",
              "        const element = document.querySelector('#df-2e9ab316-9d95-48b0-896c-666373d38f33');\n",
              "        const dataTable =\n",
              "          await google.colab.kernel.invokeFunction('convertToInteractive',\n",
              "                                                    [key], {});\n",
              "        if (!dataTable) return;\n",
              "\n",
              "        const docLinkHtml = 'Like what you see? Visit the ' +\n",
              "          '<a target=\"_blank\" href=https://colab.research.google.com/notebooks/data_table.ipynb>data table notebook</a>'\n",
              "          + ' to learn more about interactive tables.';\n",
              "        element.innerHTML = '';\n",
              "        dataTable['output_type'] = 'display_data';\n",
              "        await google.colab.output.renderOutput(dataTable, element);\n",
              "        const docLink = document.createElement('div');\n",
              "        docLink.innerHTML = docLinkHtml;\n",
              "        element.appendChild(docLink);\n",
              "      }\n",
              "    </script>\n",
              "  </div>\n",
              "\n",
              "\n",
              "<div id=\"df-9178f947-df23-416c-b915-03ce6c9ce838\">\n",
              "  <button class=\"colab-df-quickchart\" onclick=\"quickchart('df-9178f947-df23-416c-b915-03ce6c9ce838')\"\n",
              "            title=\"Suggest charts\"\n",
              "            style=\"display:none;\">\n",
              "\n",
              "<svg xmlns=\"http://www.w3.org/2000/svg\" height=\"24px\"viewBox=\"0 0 24 24\"\n",
              "     width=\"24px\">\n",
              "    <g>\n",
              "        <path d=\"M19 3H5c-1.1 0-2 .9-2 2v14c0 1.1.9 2 2 2h14c1.1 0 2-.9 2-2V5c0-1.1-.9-2-2-2zM9 17H7v-7h2v7zm4 0h-2V7h2v10zm4 0h-2v-4h2v4z\"/>\n",
              "    </g>\n",
              "</svg>\n",
              "  </button>\n",
              "\n",
              "<style>\n",
              "  .colab-df-quickchart {\n",
              "      --bg-color: #E8F0FE;\n",
              "      --fill-color: #1967D2;\n",
              "      --hover-bg-color: #E2EBFA;\n",
              "      --hover-fill-color: #174EA6;\n",
              "      --disabled-fill-color: #AAA;\n",
              "      --disabled-bg-color: #DDD;\n",
              "  }\n",
              "\n",
              "  [theme=dark] .colab-df-quickchart {\n",
              "      --bg-color: #3B4455;\n",
              "      --fill-color: #D2E3FC;\n",
              "      --hover-bg-color: #434B5C;\n",
              "      --hover-fill-color: #FFFFFF;\n",
              "      --disabled-bg-color: #3B4455;\n",
              "      --disabled-fill-color: #666;\n",
              "  }\n",
              "\n",
              "  .colab-df-quickchart {\n",
              "    background-color: var(--bg-color);\n",
              "    border: none;\n",
              "    border-radius: 50%;\n",
              "    cursor: pointer;\n",
              "    display: none;\n",
              "    fill: var(--fill-color);\n",
              "    height: 32px;\n",
              "    padding: 0;\n",
              "    width: 32px;\n",
              "  }\n",
              "\n",
              "  .colab-df-quickchart:hover {\n",
              "    background-color: var(--hover-bg-color);\n",
              "    box-shadow: 0 1px 2px rgba(60, 64, 67, 0.3), 0 1px 3px 1px rgba(60, 64, 67, 0.15);\n",
              "    fill: var(--button-hover-fill-color);\n",
              "  }\n",
              "\n",
              "  .colab-df-quickchart-complete:disabled,\n",
              "  .colab-df-quickchart-complete:disabled:hover {\n",
              "    background-color: var(--disabled-bg-color);\n",
              "    fill: var(--disabled-fill-color);\n",
              "    box-shadow: none;\n",
              "  }\n",
              "\n",
              "  .colab-df-spinner {\n",
              "    border: 2px solid var(--fill-color);\n",
              "    border-color: transparent;\n",
              "    border-bottom-color: var(--fill-color);\n",
              "    animation:\n",
              "      spin 1s steps(1) infinite;\n",
              "  }\n",
              "\n",
              "  @keyframes spin {\n",
              "    0% {\n",
              "      border-color: transparent;\n",
              "      border-bottom-color: var(--fill-color);\n",
              "      border-left-color: var(--fill-color);\n",
              "    }\n",
              "    20% {\n",
              "      border-color: transparent;\n",
              "      border-left-color: var(--fill-color);\n",
              "      border-top-color: var(--fill-color);\n",
              "    }\n",
              "    30% {\n",
              "      border-color: transparent;\n",
              "      border-left-color: var(--fill-color);\n",
              "      border-top-color: var(--fill-color);\n",
              "      border-right-color: var(--fill-color);\n",
              "    }\n",
              "    40% {\n",
              "      border-color: transparent;\n",
              "      border-right-color: var(--fill-color);\n",
              "      border-top-color: var(--fill-color);\n",
              "    }\n",
              "    60% {\n",
              "      border-color: transparent;\n",
              "      border-right-color: var(--fill-color);\n",
              "    }\n",
              "    80% {\n",
              "      border-color: transparent;\n",
              "      border-right-color: var(--fill-color);\n",
              "      border-bottom-color: var(--fill-color);\n",
              "    }\n",
              "    90% {\n",
              "      border-color: transparent;\n",
              "      border-bottom-color: var(--fill-color);\n",
              "    }\n",
              "  }\n",
              "</style>\n",
              "\n",
              "  <script>\n",
              "    async function quickchart(key) {\n",
              "      const quickchartButtonEl =\n",
              "        document.querySelector('#' + key + ' button');\n",
              "      quickchartButtonEl.disabled = true;  // To prevent multiple clicks.\n",
              "      quickchartButtonEl.classList.add('colab-df-spinner');\n",
              "      try {\n",
              "        const charts = await google.colab.kernel.invokeFunction(\n",
              "            'suggestCharts', [key], {});\n",
              "      } catch (error) {\n",
              "        console.error('Error during call to suggestCharts:', error);\n",
              "      }\n",
              "      quickchartButtonEl.classList.remove('colab-df-spinner');\n",
              "      quickchartButtonEl.classList.add('colab-df-quickchart-complete');\n",
              "    }\n",
              "    (() => {\n",
              "      let quickchartButtonEl =\n",
              "        document.querySelector('#df-9178f947-df23-416c-b915-03ce6c9ce838 button');\n",
              "      quickchartButtonEl.style.display =\n",
              "        google.colab.kernel.accessAllowed ? 'block' : 'none';\n",
              "    })();\n",
              "  </script>\n",
              "</div>\n",
              "\n",
              "  <div id=\"id_9ff61e83-6f72-4bcb-a9ad-f92509147dce\">\n",
              "    <style>\n",
              "      .colab-df-generate {\n",
              "        background-color: #E8F0FE;\n",
              "        border: none;\n",
              "        border-radius: 50%;\n",
              "        cursor: pointer;\n",
              "        display: none;\n",
              "        fill: #1967D2;\n",
              "        height: 32px;\n",
              "        padding: 0 0 0 0;\n",
              "        width: 32px;\n",
              "      }\n",
              "\n",
              "      .colab-df-generate:hover {\n",
              "        background-color: #E2EBFA;\n",
              "        box-shadow: 0px 1px 2px rgba(60, 64, 67, 0.3), 0px 1px 3px 1px rgba(60, 64, 67, 0.15);\n",
              "        fill: #174EA6;\n",
              "      }\n",
              "\n",
              "      [theme=dark] .colab-df-generate {\n",
              "        background-color: #3B4455;\n",
              "        fill: #D2E3FC;\n",
              "      }\n",
              "\n",
              "      [theme=dark] .colab-df-generate:hover {\n",
              "        background-color: #434B5C;\n",
              "        box-shadow: 0px 1px 3px 1px rgba(0, 0, 0, 0.15);\n",
              "        filter: drop-shadow(0px 1px 2px rgba(0, 0, 0, 0.3));\n",
              "        fill: #FFFFFF;\n",
              "      }\n",
              "    </style>\n",
              "    <button class=\"colab-df-generate\" onclick=\"generateWithVariable('resultados_internet_payment_method')\"\n",
              "            title=\"Generate code using this dataframe.\"\n",
              "            style=\"display:none;\">\n",
              "\n",
              "  <svg xmlns=\"http://www.w3.org/2000/svg\" height=\"24px\"viewBox=\"0 0 24 24\"\n",
              "       width=\"24px\">\n",
              "    <path d=\"M7,19H8.4L18.45,9,17,7.55,7,17.6ZM5,21V16.75L18.45,3.32a2,2,0,0,1,2.83,0l1.4,1.43a1.91,1.91,0,0,1,.58,1.4,1.91,1.91,0,0,1-.58,1.4L9.25,21ZM18.45,9,17,7.55Zm-12,3A5.31,5.31,0,0,0,4.9,8.1,5.31,5.31,0,0,0,1,6.5,5.31,5.31,0,0,0,4.9,4.9,5.31,5.31,0,0,0,6.5,1,5.31,5.31,0,0,0,8.1,4.9,5.31,5.31,0,0,0,12,6.5,5.46,5.46,0,0,0,6.5,12Z\"/>\n",
              "  </svg>\n",
              "    </button>\n",
              "    <script>\n",
              "      (() => {\n",
              "      const buttonEl =\n",
              "        document.querySelector('#id_9ff61e83-6f72-4bcb-a9ad-f92509147dce button.colab-df-generate');\n",
              "      buttonEl.style.display =\n",
              "        google.colab.kernel.accessAllowed ? 'block' : 'none';\n",
              "\n",
              "      buttonEl.onclick = () => {\n",
              "        google.colab.notebook.generateWithVariable('resultados_internet_payment_method');\n",
              "      }\n",
              "      })();\n",
              "    </script>\n",
              "  </div>\n",
              "\n",
              "    </div>\n",
              "  </div>\n"
            ]
          },
          "metadata": {},
          "execution_count": 102
        }
      ]
    },
    {
      "cell_type": "code",
      "source": [
        "sns.set(style=\"whitegrid\")\n",
        "\n",
        "# Especificar cores personalizadas\n",
        "cores_personalizadas = ['skyblue', 'lightcoral', 'lightgreen']\n",
        "\n",
        "# Criar o gráfico de barras agrupadas\n",
        "plt.figure(figsize=(12, 8))\n",
        "ax = sns.barplot(x='Payment Method', y='Total_Count', hue='Internet Service', data=resultados_internet_payment_method, palette=cores_personalizadas, ci=None)\n",
        "\n",
        "# Adicionar os valores dentro de cada barra\n",
        "for p in ax.patches:\n",
        "    height = p.get_height()\n",
        "    ax.text(p.get_x() + p.get_width() / 2, height + 0.2, f'{height:.0f}', ha='center', va='bottom', color='black', fontweight='normal')\n",
        "\n",
        "# Adicionar rótulos e título\n",
        "plt.xlabel('Payment Method')\n",
        "plt.ylabel('Total Count')\n",
        "plt.title('Total Count por Payment Method e Internet Service')\n",
        "\n",
        "# Mostrar o gráfico\n",
        "plt.show()\n"
      ],
      "metadata": {
        "colab": {
          "base_uri": "https://localhost:8080/",
          "height": 814
        },
        "id": "vvdCHxfjCf6R",
        "outputId": "d1095973-bd74-4000-ebb2-0105408319ad"
      },
      "execution_count": null,
      "outputs": [
        {
          "output_type": "stream",
          "name": "stderr",
          "text": [
            "<ipython-input-118-2ba0c2dbfe96>:8: FutureWarning: \n",
            "\n",
            "The `ci` parameter is deprecated. Use `errorbar=None` for the same effect.\n",
            "\n",
            "  ax = sns.barplot(x='Payment Method', y='Total_Count', hue='Internet Service', data=resultados_internet_payment_method, palette=cores_personalizadas, ci=None)\n"
          ]
        },
        {
          "output_type": "display_data",
          "data": {
            "text/plain": [
              "<Figure size 1200x800 with 1 Axes>"
            ],
            "image/png": "[encoded data removed]"
          },
          "metadata": {}
        }
      ]
    },
    {
      "cell_type": "code",
      "source": [
        "sns.set(style=\"whitegrid\")\n",
        "\n",
        "# Especificar cores personalizadas\n",
        "cores_personalizadas = ['skyblue', 'lightcoral', 'lightgreen']\n",
        "\n",
        "# Criar o gráfico de barras agrupadas\n",
        "plt.figure(figsize=(12, 8))\n",
        "ax = sns.barplot(x='Payment Method', y='Churn_Rate', hue='Internet Service', data=resultados_internet_payment_method, palette=cores_personalizadas, ci=None)\n",
        "\n",
        "# Adicionar os valores dentro de cada barra\n",
        "for p in ax.patches:\n",
        "    height = p.get_height()\n",
        "    ax.text(p.get_x() + p.get_width() / 2, height, f'{height:.0%}', ha='center', va='bottom', color='black', fontweight='normal')\n",
        "\n",
        "# Adicionar rótulos e título\n",
        "plt.xlabel('Payment Method')\n",
        "plt.ylabel('Churn_Rate')\n",
        "plt.title('Churn_Rate por Payment Method e Internet Service')\n",
        "\n",
        "# Mostrar o gráfico\n",
        "plt.show()\n"
      ],
      "metadata": {
        "colab": {
          "base_uri": "https://localhost:8080/",
          "height": 814
        },
        "id": "wPiTPpndGsnM",
        "outputId": "6012b6a5-9590-4aa9-bcb2-7a1690b14cb6"
      },
      "execution_count": null,
      "outputs": [
        {
          "output_type": "stream",
          "name": "stderr",
          "text": [
            "<ipython-input-121-0d097799f714>:8: FutureWarning: \n",
            "\n",
            "The `ci` parameter is deprecated. Use `errorbar=None` for the same effect.\n",
            "\n",
            "  ax = sns.barplot(x='Payment Method', y='Churn_Rate', hue='Internet Service', data=resultados_internet_payment_method, palette=cores_personalizadas, ci=None)\n"
          ]
        },
        {
          "output_type": "display_data",
          "data": {
            "text/plain": [
              "<Figure size 1200x800 with 1 Axes>"
            ],
            "image/png": "[encoded data removed]"
          },
          "metadata": {}
        }
      ]
    },
    {
      "cell_type": "markdown",
      "source": [
        "## **4 - Processamento/tratamendo de dados para o modelo**"
      ],
      "metadata": {
        "id": "zh6z24xMTLT7"
      }
    },
    {
      "cell_type": "code",
      "source": [
        "df_telco_customer.show()"
      ],
      "metadata": {
        "id": "tbQotViiT7lZ",
        "colab": {
          "base_uri": "https://localhost:8080/"
        },
        "outputId": "43245d32-2a54-4321-d6da-2d75ac08bc3e"
      },
      "execution_count": null,
      "outputs": [
        {
          "output_type": "stream",
          "name": "stdout",
          "text": [
            "+---+---------------+------+--------------+-------+----------+-------------+-------------+----------------+----------------+-------------------+-------------------+-------------------+-------------------+-------------------+-------------------+--------------+-----------------+--------------------+---------------+-----------+-----------+\n",
            "| id|           City|Gender|Senior Citizen|Partner|Dependents|Tenure Months|Phone Service|  Multiple Lines|Internet Service|    Online Security|      Online Backup|  Device Protection|       Tech Support|       Streaming TV|   Streaming Movies|      Contract|Paperless Billing|      Payment Method|Monthly Charges|Churn Label|Churn Value|\n",
            "+---+---------------+------+--------------+-------+----------+-------------+-------------+----------------+----------------+-------------------+-------------------+-------------------+-------------------+-------------------+-------------------+--------------+-----------------+--------------------+---------------+-----------+-----------+\n",
            "|  0|    Los Angeles|  Male|            No|     No|        No|            2|          Yes|              No|             DSL|                Yes|                Yes|                 No|                 No|                 No|                 No|Month-to-month|              Yes|        Mailed check|          53,85|        Yes|          1|\n",
            "|  1|    Los Angeles|Female|            No|     No|       Yes|            2|          Yes|              No|     Fiber optic|                 No|                 No|                 No|                 No|                 No|                 No|Month-to-month|              Yes|    Electronic check|           70,7|        Yes|          1|\n",
            "|  2|    Los Angeles|Female|            No|     No|       Yes|            8|          Yes|             Yes|     Fiber optic|                 No|                 No|                Yes|                 No|                Yes|                Yes|Month-to-month|              Yes|    Electronic check|          99,65|        Yes|          1|\n",
            "|  3|    Los Angeles|Female|            No|    Yes|       Yes|           28|          Yes|             Yes|     Fiber optic|                 No|                 No|                Yes|                Yes|                Yes|                Yes|Month-to-month|              Yes|    Electronic check|          104,8|        Yes|          1|\n",
            "|  4|    Los Angeles|  Male|            No|     No|       Yes|           49|          Yes|             Yes|     Fiber optic|                 No|                Yes|                Yes|                 No|                Yes|                Yes|Month-to-month|              Yes|Bank transfer (au...|          103,7|        Yes|          1|\n",
            "|  5|    Los Angeles|Female|            No|    Yes|        No|           10|          Yes|              No|             DSL|                 No|                 No|                Yes|                Yes|                 No|                 No|Month-to-month|               No|Credit card (auto...|           55,2|        Yes|          1|\n",
            "|  6|    Los Angeles|  Male|           Yes|     No|        No|            1|           No|No phone service|             DSL|                 No|                 No|                Yes|                 No|                 No|                Yes|Month-to-month|              Yes|    Electronic check|          39,65|        Yes|          1|\n",
            "|  7|    Los Angeles|  Male|            No|     No|        No|            1|          Yes|              No|              No|No internet service|No internet service|No internet service|No internet service|No internet service|No internet service|Month-to-month|               No|        Mailed check|          20,15|        Yes|          1|\n",
            "|  8|    Los Angeles|  Male|            No|    Yes|       Yes|           47|          Yes|             Yes|     Fiber optic|                 No|                Yes|                 No|                 No|                Yes|                Yes|Month-to-month|              Yes|    Electronic check|          99,35|        Yes|          1|\n",
            "|  9|    Los Angeles|  Male|            No|    Yes|        No|            1|           No|No phone service|             DSL|                 No|                Yes|                 No|                 No|                 No|                 No|Month-to-month|               No|    Electronic check|           30,2|        Yes|          1|\n",
            "| 10|    Los Angeles|Female|            No|     No|        No|           17|          Yes|              No|             DSL|                 No|                 No|                 No|                 No|                Yes|                Yes|Month-to-month|              Yes|        Mailed check|           64,7|        Yes|          1|\n",
            "| 11|    Los Angeles|  Male|            No|     No|       Yes|            5|          Yes|              No|     Fiber optic|                 No|                 No|                 No|                 No|                 No|                 No|Month-to-month|              Yes|    Electronic check|           69,7|        Yes|          1|\n",
            "| 12|    Los Angeles|  Male|            No|     No|       Yes|           34|          Yes|             Yes|     Fiber optic|                 No|                Yes|                Yes|                 No|                Yes|                Yes|Month-to-month|              Yes|    Electronic check|         106,35|        Yes|          1|\n",
            "| 13|    Los Angeles|Female|            No|     No|       Yes|           11|          Yes|             Yes|     Fiber optic|                 No|                 No|                Yes|                 No|                Yes|                Yes|Month-to-month|              Yes|Bank transfer (au...|          97,85|        Yes|          1|\n",
            "| 14|    Los Angeles|Female|            No|     No|       Yes|            2|          Yes|              No|     Fiber optic|                 No|                 No|                 No|                 No|                Yes|                 No|Month-to-month|              Yes|    Electronic check|          80,65|        Yes|          1|\n",
            "| 15|    Los Angeles|Female|            No|     No|       Yes|           15|          Yes|              No|     Fiber optic|                Yes|                Yes|                 No|                 No|                Yes|                Yes|Month-to-month|              Yes|Credit card (auto...|           99,1|        Yes|          1|\n",
            "| 16|    Los Angeles|Female|           Yes|    Yes|       Yes|            8|          Yes|             Yes|     Fiber optic|                 No|                Yes|                 No|                 No|                 No|                 No|Month-to-month|              Yes|Credit card (auto...|          80,65|        Yes|          1|\n",
            "| 17|    Los Angeles|  Male|           Yes|     No|       Yes|           18|          Yes|             Yes|     Fiber optic|                 No|                 No|                 No|                 No|                Yes|                Yes|Month-to-month|              Yes|    Electronic check|          95,45|        Yes|          1|\n",
            "| 18|  Beverly Hills|Female|            No|     No|       Yes|            9|          Yes|             Yes|     Fiber optic|                 No|                 No|                 No|                 No|                Yes|                Yes|Month-to-month|               No|    Electronic check|           94,4|        Yes|          1|\n",
            "| 19|Huntington Park|Female|            No|     No|       Yes|            1|          Yes|              No|     Fiber optic|                 No|                 No|                 No|                 No|                Yes|                 No|Month-to-month|              Yes|    Electronic check|          79,35|        Yes|          1|\n",
            "+---+---------------+------+--------------+-------+----------+-------------+-------------+----------------+----------------+-------------------+-------------------+-------------------+-------------------+-------------------+-------------------+--------------+-----------------+--------------------+---------------+-----------+-----------+\n",
            "only showing top 20 rows\n",
            "\n"
          ]
        }
      ]
    },
    {
      "cell_type": "code",
      "source": [
        "mapeamento_colunas = {\n",
        "    \"Senior Citizen\": \"Senior_Citizen\",\n",
        "    \"Tenure Months\": \"Tenure_Months\",\n",
        "    \"Phone Service\": \"Phone_Service\",\n",
        "    \"Multiple Lines\": \"Multiple_Lines\",\n",
        "    \"Internet Service\": \"Internet_Service\",\n",
        "    \"Online Security\": \"Online_Security\",\n",
        "    \"Online Backup\": \"Online_Backup\",\n",
        "    \"Device Protection\": \"Device_Protection\",\n",
        "    \"Tech Support\": \"Tech_Support\",\n",
        "    \"Streaming TV\": \"Streaming_TV\",\n",
        "    \"Streaming Movies\": \"Streaming_Movies\",\n",
        "    \"Paperless Billing\": \"Paperless_Billing\",\n",
        "    \"Payment Method\": \"Payment_Method\",\n",
        "    \"Monthly Charges\": \"Monthly_Charges\",\n",
        "    \"Paperless Billing\": \"Paperless_Billing\",\n",
        "    \"Churn Label\": \"Churn\",\n",
        "}"
      ],
      "metadata": {
        "id": "A26oiY9dTiEw"
      },
      "execution_count": null,
      "outputs": []
    },
    {
      "cell_type": "code",
      "source": [
        "df_telco_customer = df_telco_customer\n",
        "for antigo, novo in mapeamento_colunas.items():\n",
        "    df_telco_customer = df_telco_customer.withColumnRenamed(antigo, novo)"
      ],
      "metadata": {
        "id": "0icqf3nOTlwi"
      },
      "execution_count": null,
      "outputs": []
    },
    {
      "cell_type": "code",
      "source": [
        "df_telco_customer.show()"
      ],
      "metadata": {
        "id": "gd-u4ORETswG",
        "colab": {
          "base_uri": "https://localhost:8080/"
        },
        "outputId": "a5133f8c-34b9-4ff7-a92d-cfbd30d6a9b9"
      },
      "execution_count": null,
      "outputs": [
        {
          "output_type": "stream",
          "name": "stdout",
          "text": [
            "+---+---------------+------+--------------+-------+----------+-------------+-------------+----------------+----------------+-------------------+-------------------+-------------------+-------------------+-------------------+-------------------+--------------+-----------------+--------------------+---------------+-----+-----------+\n",
            "| id|           City|Gender|Senior_Citizen|Partner|Dependents|Tenure_Months|Phone_Service|  Multiple_Lines|Internet_Service|    Online_Security|      Online_Backup|  Device_Protection|       Tech_Support|       Streaming_TV|   Streaming_Movies|      Contract|Paperless_Billing|      Payment_Method|Monthly_Charges|Churn|Churn Value|\n",
            "+---+---------------+------+--------------+-------+----------+-------------+-------------+----------------+----------------+-------------------+-------------------+-------------------+-------------------+-------------------+-------------------+--------------+-----------------+--------------------+---------------+-----+-----------+\n",
            "|  0|    Los Angeles|  Male|            No|     No|        No|            2|          Yes|              No|             DSL|                Yes|                Yes|                 No|                 No|                 No|                 No|Month-to-month|              Yes|        Mailed check|          53,85|  Yes|          1|\n",
            "|  1|    Los Angeles|Female|            No|     No|       Yes|            2|          Yes|              No|     Fiber optic|                 No|                 No|                 No|                 No|                 No|                 No|Month-to-month|              Yes|    Electronic check|           70,7|  Yes|          1|\n",
            "|  2|    Los Angeles|Female|            No|     No|       Yes|            8|          Yes|             Yes|     Fiber optic|                 No|                 No|                Yes|                 No|                Yes|                Yes|Month-to-month|              Yes|    Electronic check|          99,65|  Yes|          1|\n",
            "|  3|    Los Angeles|Female|            No|    Yes|       Yes|           28|          Yes|             Yes|     Fiber optic|                 No|                 No|                Yes|                Yes|                Yes|                Yes|Month-to-month|              Yes|    Electronic check|          104,8|  Yes|          1|\n",
            "|  4|    Los Angeles|  Male|            No|     No|       Yes|           49|          Yes|             Yes|     Fiber optic|                 No|                Yes|                Yes|                 No|                Yes|                Yes|Month-to-month|              Yes|Bank transfer (au...|          103,7|  Yes|          1|\n",
            "|  5|    Los Angeles|Female|            No|    Yes|        No|           10|          Yes|              No|             DSL|                 No|                 No|                Yes|                Yes|                 No|                 No|Month-to-month|               No|Credit card (auto...|           55,2|  Yes|          1|\n",
            "|  6|    Los Angeles|  Male|           Yes|     No|        No|            1|           No|No phone service|             DSL|                 No|                 No|                Yes|                 No|                 No|                Yes|Month-to-month|              Yes|    Electronic check|          39,65|  Yes|          1|\n",
            "|  7|    Los Angeles|  Male|            No|     No|        No|            1|          Yes|              No|              No|No internet service|No internet service|No internet service|No internet service|No internet service|No internet service|Month-to-month|               No|        Mailed check|          20,15|  Yes|          1|\n",
            "|  8|    Los Angeles|  Male|            No|    Yes|       Yes|           47|          Yes|             Yes|     Fiber optic|                 No|                Yes|                 No|                 No|                Yes|                Yes|Month-to-month|              Yes|    Electronic check|          99,35|  Yes|          1|\n",
            "|  9|    Los Angeles|  Male|            No|    Yes|        No|            1|           No|No phone service|             DSL|                 No|                Yes|                 No|                 No|                 No|                 No|Month-to-month|               No|    Electronic check|           30,2|  Yes|          1|\n",
            "| 10|    Los Angeles|Female|            No|     No|        No|           17|          Yes|              No|             DSL|                 No|                 No|                 No|                 No|                Yes|                Yes|Month-to-month|              Yes|        Mailed check|           64,7|  Yes|          1|\n",
            "| 11|    Los Angeles|  Male|            No|     No|       Yes|            5|          Yes|              No|     Fiber optic|                 No|                 No|                 No|                 No|                 No|                 No|Month-to-month|              Yes|    Electronic check|           69,7|  Yes|          1|\n",
            "| 12|    Los Angeles|  Male|            No|     No|       Yes|           34|          Yes|             Yes|     Fiber optic|                 No|                Yes|                Yes|                 No|                Yes|                Yes|Month-to-month|              Yes|    Electronic check|         106,35|  Yes|          1|\n",
            "| 13|    Los Angeles|Female|            No|     No|       Yes|           11|          Yes|             Yes|     Fiber optic|                 No|                 No|                Yes|                 No|                Yes|                Yes|Month-to-month|              Yes|Bank transfer (au...|          97,85|  Yes|          1|\n",
            "| 14|    Los Angeles|Female|            No|     No|       Yes|            2|          Yes|              No|     Fiber optic|                 No|                 No|                 No|                 No|                Yes|                 No|Month-to-month|              Yes|    Electronic check|          80,65|  Yes|          1|\n",
            "| 15|    Los Angeles|Female|            No|     No|       Yes|           15|          Yes|              No|     Fiber optic|                Yes|                Yes|                 No|                 No|                Yes|                Yes|Month-to-month|              Yes|Credit card (auto...|           99,1|  Yes|          1|\n",
            "| 16|    Los Angeles|Female|           Yes|    Yes|       Yes|            8|          Yes|             Yes|     Fiber optic|                 No|                Yes|                 No|                 No|                 No|                 No|Month-to-month|              Yes|Credit card (auto...|          80,65|  Yes|          1|\n",
            "| 17|    Los Angeles|  Male|           Yes|     No|       Yes|           18|          Yes|             Yes|     Fiber optic|                 No|                 No|                 No|                 No|                Yes|                Yes|Month-to-month|              Yes|    Electronic check|          95,45|  Yes|          1|\n",
            "| 18|  Beverly Hills|Female|            No|     No|       Yes|            9|          Yes|             Yes|     Fiber optic|                 No|                 No|                 No|                 No|                Yes|                Yes|Month-to-month|               No|    Electronic check|           94,4|  Yes|          1|\n",
            "| 19|Huntington Park|Female|            No|     No|       Yes|            1|          Yes|              No|     Fiber optic|                 No|                 No|                 No|                 No|                Yes|                 No|Month-to-month|              Yes|    Electronic check|          79,35|  Yes|          1|\n",
            "+---+---------------+------+--------------+-------+----------+-------------+-------------+----------------+----------------+-------------------+-------------------+-------------------+-------------------+-------------------+-------------------+--------------+-----------------+--------------------+---------------+-----+-----------+\n",
            "only showing top 20 rows\n",
            "\n"
          ]
        }
      ]
    },
    {
      "cell_type": "code",
      "source": [
        "colunasBinarias = [\n",
        "    'Churn',\n",
        "    'Senior_Citizen',\n",
        "    'Partner',\n",
        "    'Dependents',\n",
        "    'Phone_Service',\n",
        "    'Multiple_Lines',\n",
        "    'Online_Security',\n",
        "    'Online_Backup',\n",
        "    'Device_Protection',\n",
        "    'Tech_Support',\n",
        "    'Streaming_TV',\n",
        "    'Streaming_Movies',\n",
        "    'Paperless_Billing'\n",
        "]"
      ],
      "metadata": {
        "id": "7j1lz0tXTvoe"
      },
      "execution_count": null,
      "outputs": []
    },
    {
      "cell_type": "code",
      "source": [
        "colunas = [f.when(f.col(c)=='Yes', 1).otherwise(0).alias(c) for c in colunasBinarias]"
      ],
      "metadata": {
        "id": "5yZnKNadTyyM"
      },
      "execution_count": null,
      "outputs": []
    },
    {
      "cell_type": "code",
      "source": [
        "for coluna in reversed(df_telco_customer.columns):\n",
        "  if coluna not in colunasBinarias:\n",
        "    colunas.insert(0, coluna)\n",
        "colunas"
      ],
      "metadata": {
        "id": "Sq6dVyI2T21a",
        "colab": {
          "base_uri": "https://localhost:8080/"
        },
        "outputId": "bc9b11c4-36bc-4848-a56b-34e1b426667a"
      },
      "execution_count": null,
      "outputs": [
        {
          "output_type": "execute_result",
          "data": {
            "text/plain": [
              "['id',\n",
              " 'City',\n",
              " 'Gender',\n",
              " 'Tenure_Months',\n",
              " 'Internet_Service',\n",
              " 'Contract',\n",
              " 'Payment_Method',\n",
              " 'Monthly_Charges',\n",
              " 'Churn Value',\n",
              " Column<'CASE WHEN (Churn = Yes) THEN 1 ELSE 0 END AS Churn'>,\n",
              " Column<'CASE WHEN (Senior_Citizen = Yes) THEN 1 ELSE 0 END AS Senior_Citizen'>,\n",
              " Column<'CASE WHEN (Partner = Yes) THEN 1 ELSE 0 END AS Partner'>,\n",
              " Column<'CASE WHEN (Dependents = Yes) THEN 1 ELSE 0 END AS Dependents'>,\n",
              " Column<'CASE WHEN (Phone_Service = Yes) THEN 1 ELSE 0 END AS Phone_Service'>,\n",
              " Column<'CASE WHEN (Multiple_Lines = Yes) THEN 1 ELSE 0 END AS Multiple_Lines'>,\n",
              " Column<'CASE WHEN (Online_Security = Yes) THEN 1 ELSE 0 END AS Online_Security'>,\n",
              " Column<'CASE WHEN (Online_Backup = Yes) THEN 1 ELSE 0 END AS Online_Backup'>,\n",
              " Column<'CASE WHEN (Device_Protection = Yes) THEN 1 ELSE 0 END AS Device_Protection'>,\n",
              " Column<'CASE WHEN (Tech_Support = Yes) THEN 1 ELSE 0 END AS Tech_Support'>,\n",
              " Column<'CASE WHEN (Streaming_TV = Yes) THEN 1 ELSE 0 END AS Streaming_TV'>,\n",
              " Column<'CASE WHEN (Streaming_Movies = Yes) THEN 1 ELSE 0 END AS Streaming_Movies'>,\n",
              " Column<'CASE WHEN (Paperless_Billing = Yes) THEN 1 ELSE 0 END AS Paperless_Billing'>]"
            ]
          },
          "metadata": {},
          "execution_count": 15
        }
      ]
    },
    {
      "cell_type": "code",
      "source": [
        "df_telco_customer = df_telco_customer.select(colunas)"
      ],
      "metadata": {
        "id": "j3eeMd6dT9S1"
      },
      "execution_count": null,
      "outputs": []
    },
    {
      "cell_type": "code",
      "source": [
        "df_telco_customer.select(['Internet_Service', 'Contract', 'Payment_Method']).show()"
      ],
      "metadata": {
        "id": "jLbEHAyQUJnL",
        "colab": {
          "base_uri": "https://localhost:8080/"
        },
        "outputId": "665f2818-936b-452d-c597-0f09f091b180"
      },
      "execution_count": null,
      "outputs": [
        {
          "output_type": "stream",
          "name": "stdout",
          "text": [
            "+----------------+--------------+--------------------+\n",
            "|Internet_Service|      Contract|      Payment_Method|\n",
            "+----------------+--------------+--------------------+\n",
            "|             DSL|Month-to-month|        Mailed check|\n",
            "|     Fiber optic|Month-to-month|    Electronic check|\n",
            "|     Fiber optic|Month-to-month|    Electronic check|\n",
            "|     Fiber optic|Month-to-month|    Electronic check|\n",
            "|     Fiber optic|Month-to-month|Bank transfer (au...|\n",
            "|             DSL|Month-to-month|Credit card (auto...|\n",
            "|             DSL|Month-to-month|    Electronic check|\n",
            "|              No|Month-to-month|        Mailed check|\n",
            "|     Fiber optic|Month-to-month|    Electronic check|\n",
            "|             DSL|Month-to-month|    Electronic check|\n",
            "|             DSL|Month-to-month|        Mailed check|\n",
            "|     Fiber optic|Month-to-month|    Electronic check|\n",
            "|     Fiber optic|Month-to-month|    Electronic check|\n",
            "|     Fiber optic|Month-to-month|Bank transfer (au...|\n",
            "|     Fiber optic|Month-to-month|    Electronic check|\n",
            "|     Fiber optic|Month-to-month|Credit card (auto...|\n",
            "|     Fiber optic|Month-to-month|Credit card (auto...|\n",
            "|     Fiber optic|Month-to-month|    Electronic check|\n",
            "|     Fiber optic|Month-to-month|    Electronic check|\n",
            "|     Fiber optic|Month-to-month|    Electronic check|\n",
            "+----------------+--------------+--------------------+\n",
            "only showing top 20 rows\n",
            "\n"
          ]
        }
      ]
    },
    {
      "cell_type": "code",
      "source": [
        "Internet_Service = df_telco_customer.groupBy('id').pivot('Internet_Service').agg(f.lit(1)).na.fill(0)\n",
        "Contract = df_telco_customer.groupBy('id').pivot('Contract').agg(f.lit(1)).na.fill(0)\n",
        "Payment_Method = df_telco_customer.groupBy('id').pivot('Payment_Method').agg(f.lit(1)).na.fill(0)"
      ],
      "metadata": {
        "id": "U-SfFJg3UOcR"
      },
      "execution_count": null,
      "outputs": []
    },
    {
      "cell_type": "code",
      "source": [
        "df_telco_customer\\\n",
        "    .join(Internet_Service, 'id', how='inner')\\\n",
        "    .join(Contract, 'id', how='inner')\\\n",
        "    .join(Payment_Method, 'id', how='inner')\\\n",
        "    .select(\n",
        "        '*',\n",
        "        f.col('DSL').alias('DSL_Internet'),\n",
        "        f.col('Fiber optic').alias('Fiber_optic_Internet'),\n",
        "        f.col('No').alias('No_Internet'),\n",
        "        f.col('Month-to-month').alias('Month_to_month_Contract'),\n",
        "        f.col('One Year').alias('One_Year_Contract'),\n",
        "        f.col('Two Year').alias('Two_Year_Contract'),\n",
        "        f.col('Bank Transfer (automatic)').alias('Bank_Transfer_Automatic_Payment_Method'),\n",
        "        f.col('Credit card (automatic)').alias('Credit_Card_Automatic_Payment_Method'),\n",
        "        f.col('Electronic check').alias('Eletronic_Check_Payment_Method'),\n",
        "        f.col('Mailed check').alias('Mailed_Check_Payment_Method')\n",
        "    )\\\n",
        "    .drop(\n",
        "        'City','Gender','Internet_Service', 'Contract', 'Payment_Method', 'DSL',\n",
        "        'Fiber optic', 'No', 'Month-to-month', 'One Year', 'Two Year',\n",
        "        'Bank Transfer (automatic)', 'Credit card (automatic)', 'Electronic check', 'Mailed check', 'Churn Value'\n",
        "    )\\\n",
        "    .show()"
      ],
      "metadata": {
        "colab": {
          "base_uri": "https://localhost:8080/"
        },
        "id": "GB7SHQAoN2BX",
        "outputId": "bd4f0fa1-f853-4039-f665-826833bb2c02"
      },
      "execution_count": null,
      "outputs": [
        {
          "output_type": "stream",
          "name": "stdout",
          "text": [
            "+----+-------------+---------------+-----+--------------+-------+----------+-------------+--------------+---------------+-------------+-----------------+------------+------------+----------------+-----------------+------------+--------------------+-----------+-----------------------+-----------------+-----------------+--------------------------------------+------------------------------------+------------------------------+---------------------------+\n",
            "|  id|Tenure_Months|Monthly_Charges|Churn|Senior_Citizen|Partner|Dependents|Phone_Service|Multiple_Lines|Online_Security|Online_Backup|Device_Protection|Tech_Support|Streaming_TV|Streaming_Movies|Paperless_Billing|DSL_Internet|Fiber_optic_Internet|No_Internet|Month_to_month_Contract|One_Year_Contract|Two_Year_Contract|Bank_Transfer_Automatic_Payment_Method|Credit_Card_Automatic_Payment_Method|Eletronic_Check_Payment_Method|Mailed_Check_Payment_Method|\n",
            "+----+-------------+---------------+-----+--------------+-------+----------+-------------+--------------+---------------+-------------+-----------------+------------+------------+----------------+-----------------+------------+--------------------+-----------+-----------------------+-----------------+-----------------+--------------------------------------+------------------------------------+------------------------------+---------------------------+\n",
            "|1806|            7|           86,8|    1|             0|      0|         0|            1|             1|              0|            0|                0|           0|           0|               1|                1|           0|                   1|          0|                      1|                0|                0|                                     0|                                   0|                             1|                          0|\n",
            "|1697|            6|          69,25|    1|             0|      0|         0|            1|             0|              0|            0|                0|           0|           0|               0|                1|           0|                   1|          0|                      1|                0|                0|                                     0|                                   0|                             0|                          1|\n",
            "|2250|           56|         105,45|    0|             0|      0|         0|            1|             1|              0|            1|                0|           1|           1|               1|                1|           0|                   1|          0|                      1|                0|                0|                                     1|                                   0|                             0|                          0|\n",
            "|3764|           38|          20,05|    0|             0|      0|         0|            1|             0|              0|            0|                0|           0|           0|               0|                0|           0|                   0|          1|                      0|                1|                0|                                     0|                                   0|                             0|                          1|\n",
            "|1950|           72|         104,15|    0|             0|      1|         0|            1|             1|              1|            1|                0|           0|           1|               1|                1|           0|                   1|          0|                      0|                1|                0|                                     0|                                   0|                             1|                          0|\n",
            "|5385|           58|          91,55|    0|             0|      1|         1|            1|             0|              0|            1|                1|           0|           1|               0|                1|           0|                   1|          0|                      1|                0|                0|                                     0|                                   0|                             1|                          0|\n",
            "|2214|            2|             20|    0|             0|      1|         0|            1|             0|              0|            0|                0|           0|           0|               0|                0|           0|                   0|          1|                      1|                0|                0|                                     0|                                   0|                             0|                          1|\n",
            "|2529|            1|          20,05|    0|             0|      0|         0|            1|             0|              0|            0|                0|           0|           0|               0|                1|           0|                   0|          1|                      1|                0|                0|                                     0|                                   0|                             0|                          1|\n",
            "|4590|           41|          98,05|    0|             0|      0|         0|            1|             1|              0|            0|                1|           0|           1|               1|                0|           0|                   1|          0|                      1|                0|                0|                                     1|                                   0|                             0|                          0|\n",
            "|3506|           33|           39,1|    0|             0|      0|         0|            0|             0|              0|            1|                0|           0|           1|               0|                1|           1|                   0|          0|                      0|                1|                0|                                     0|                                   0|                             1|                          0|\n",
            "|2453|            3|           40,3|    0|             0|      1|         1|            0|             0|              0|            1|                0|           0|           0|               1|                0|           1|                   0|          0|                      1|                0|                0|                                     0|                                   0|                             0|                          1|\n",
            "|3091|           47|           25,4|    0|             0|      1|         0|            1|             1|              0|            0|                0|           0|           0|               0|                0|           0|                   0|          1|                      1|                0|                0|                                     0|                                   0|                             1|                          0|\n",
            "|2040|           24|           50,6|    0|             0|      0|         0|            0|             0|              1|            0|                0|           0|           1|               1|                1|           1|                   0|          0|                      0|                1|                0|                                     0|                                   0|                             0|                          1|\n",
            "|5409|            2|          19,35|    0|             0|      0|         0|            1|             0|              0|            0|                0|           0|           0|               0|                0|           0|                   0|          1|                      1|                0|                0|                                     0|                                   0|                             0|                          1|\n",
            "|6721|           64|          81,25|    0|             0|      0|         0|            1|             1|              1|            1|                1|           1|           1|               0|                0|           1|                   0|          0|                      0|                1|                0|                                     0|                                   0|                             1|                          0|\n",
            "|2927|           40|          50,25|    0|             0|      0|         0|            1|             0|              0|            0|                1|           0|           0|               0|                1|           1|                   0|          0|                      0|                1|                0|                                     0|                                   0|                             0|                          1|\n",
            "|  29|           27|          78,05|    1|             1|      0|         1|            1|             1|              0|            0|                1|           0|           0|               0|                1|           0|                   1|          0|                      1|                0|                0|                                     0|                                   0|                             1|                          0|\n",
            "| 964|            1|           69,1|    1|             0|      0|         0|            1|             0|              0|            0|                0|           0|           0|               0|                1|           0|                   1|          0|                      1|                0|                0|                                     0|                                   0|                             1|                          0|\n",
            "|1677|            1|          49,25|    1|             1|      1|         1|            1|             0|              0|            0|                0|           1|           0|               0|                1|           1|                   0|          0|                      1|                0|                0|                                     0|                                   1|                             0|                          0|\n",
            "|4894|           72|          94,45|    0|             0|      1|         0|            1|             1|              1|            1|                0|           0|           0|               1|                1|           0|                   1|          0|                      0|                0|                1|                                     0|                                   1|                             0|                          0|\n",
            "+----+-------------+---------------+-----+--------------+-------+----------+-------------+--------------+---------------+-------------+-----------------+------------+------------+----------------+-----------------+------------+--------------------+-----------+-----------------------+-----------------+-----------------+--------------------------------------+------------------------------------+------------------------------+---------------------------+\n",
            "only showing top 20 rows\n",
            "\n"
          ]
        }
      ]
    },
    {
      "cell_type": "code",
      "source": [
        "df_telco_customer = df_telco_customer\\\n",
        "    .join(Internet_Service, 'id', how='inner')\\\n",
        "    .join(Contract, 'id', how='inner')\\\n",
        "    .join(Payment_Method, 'id', how='inner')\\\n",
        "    .select(\n",
        "        '*',\n",
        "        f.col('DSL').alias('DSL_Internet'),\n",
        "        f.col('Fiber optic').alias('Fiber_optic_Internet'),\n",
        "        f.col('No').alias('No_Internet'),\n",
        "        f.col('Month-to-month').alias('Month_to_month_Contract'),\n",
        "        f.col('One Year').alias('One_Year_Contract'),\n",
        "        f.col('Two Year').alias('Two_Year_Contract'),\n",
        "        f.col('Bank Transfer (automatic)').alias('Bank_Transfer_Automatic_Payment_Method'),\n",
        "        f.col('Credit card (automatic)').alias('Credit_Card_Automatic_Payment_Method'),\n",
        "        f.col('Electronic check').alias('Eletronic_Check_Payment_Method'),\n",
        "        f.col('Mailed check').alias('Mailed_Check_Payment_Method')\n",
        "    )\\\n",
        "    .drop(\n",
        "        'City','Gender','Internet_Service', 'Contract', 'Payment_Method', 'DSL',\n",
        "        'Fiber optic', 'No', 'Month-to-month', 'One Year', 'Two Year',\n",
        "        'Bank Transfer (automatic)', 'Credit card (automatic)', 'Electronic check', 'Mailed check', 'Churn Value'\n",
        "    )"
      ],
      "metadata": {
        "id": "kSIxieNNUVYR"
      },
      "execution_count": null,
      "outputs": []
    },
    {
      "cell_type": "code",
      "source": [
        "df_telco_customer.printSchema()"
      ],
      "metadata": {
        "colab": {
          "base_uri": "https://localhost:8080/"
        },
        "id": "SrJglVhOJx4o",
        "outputId": "a0ae5ab7-3e76-49ef-d876-d1cd6315d4f5"
      },
      "execution_count": null,
      "outputs": [
        {
          "output_type": "stream",
          "name": "stdout",
          "text": [
            "root\n",
            " |-- id: long (nullable = true)\n",
            " |-- Tenure_Months: long (nullable = true)\n",
            " |-- Monthly_Charges: string (nullable = true)\n",
            " |-- Churn: integer (nullable = false)\n",
            " |-- Senior_Citizen: integer (nullable = false)\n",
            " |-- Partner: integer (nullable = false)\n",
            " |-- Dependents: integer (nullable = false)\n",
            " |-- Phone_Service: integer (nullable = false)\n",
            " |-- Multiple_Lines: integer (nullable = false)\n",
            " |-- Online_Security: integer (nullable = false)\n",
            " |-- Online_Backup: integer (nullable = false)\n",
            " |-- Device_Protection: integer (nullable = false)\n",
            " |-- Tech_Support: integer (nullable = false)\n",
            " |-- Streaming_TV: integer (nullable = false)\n",
            " |-- Streaming_Movies: integer (nullable = false)\n",
            " |-- Paperless_Billing: integer (nullable = false)\n",
            " |-- DSL_Internet: integer (nullable = true)\n",
            " |-- Fiber_optic_Internet: integer (nullable = true)\n",
            " |-- No_Internet: integer (nullable = true)\n",
            " |-- Month_to_month_Contract: integer (nullable = true)\n",
            " |-- One_Year_Contract: integer (nullable = true)\n",
            " |-- Two_Year_Contract: integer (nullable = true)\n",
            " |-- Bank_Transfer_Automatic_Payment_Method: integer (nullable = true)\n",
            " |-- Credit_Card_Automatic_Payment_Method: integer (nullable = true)\n",
            " |-- Eletronic_Check_Payment_Method: integer (nullable = true)\n",
            " |-- Mailed_Check_Payment_Method: integer (nullable = true)\n",
            "\n"
          ]
        }
      ]
    },
    {
      "cell_type": "code",
      "source": [
        "df_telco_customer = df_telco_customer.withColumn(\"Monthly_Charges\", f.regexp_replace(f.col(\"Monthly_Charges\"), \",\", \".\"))"
      ],
      "metadata": {
        "id": "SEjyDSpBPxVh"
      },
      "execution_count": null,
      "outputs": []
    },
    {
      "cell_type": "code",
      "source": [
        "df_telco_customer = df_telco_customer.withColumn(\"Monthly_Charges\", f.col(\"Monthly_Charges\").cast(\"double\"))"
      ],
      "metadata": {
        "id": "9ATlc7gOO8-c"
      },
      "execution_count": null,
      "outputs": []
    },
    {
      "cell_type": "code",
      "source": [
        "df_telco_customer.show()"
      ],
      "metadata": {
        "colab": {
          "base_uri": "https://localhost:8080/"
        },
        "id": "3FCiaiqlPW7T",
        "outputId": "0a2dd6d9-a0cb-46b5-e0c7-14707a4122f2"
      },
      "execution_count": null,
      "outputs": [
        {
          "output_type": "stream",
          "name": "stdout",
          "text": [
            "+----+-------------+---------------+-----+--------------+-------+----------+-------------+--------------+---------------+-------------+-----------------+------------+------------+----------------+-----------------+------------+--------------------+-----------+-----------------------+-----------------+-----------------+--------------------------------------+------------------------------------+------------------------------+---------------------------+\n",
            "|  id|Tenure_Months|Monthly_Charges|Churn|Senior_Citizen|Partner|Dependents|Phone_Service|Multiple_Lines|Online_Security|Online_Backup|Device_Protection|Tech_Support|Streaming_TV|Streaming_Movies|Paperless_Billing|DSL_Internet|Fiber_optic_Internet|No_Internet|Month_to_month_Contract|One_Year_Contract|Two_Year_Contract|Bank_Transfer_Automatic_Payment_Method|Credit_Card_Automatic_Payment_Method|Eletronic_Check_Payment_Method|Mailed_Check_Payment_Method|\n",
            "+----+-------------+---------------+-----+--------------+-------+----------+-------------+--------------+---------------+-------------+-----------------+------------+------------+----------------+-----------------+------------+--------------------+-----------+-----------------------+-----------------+-----------------+--------------------------------------+------------------------------------+------------------------------+---------------------------+\n",
            "|  26|           37|           76.5|    1|             1|      1|         1|            1|             1|              0|            0|                0|           0|           0|               0|                1|           0|                   1|          0|                      1|                0|                0|                                     0|                                   0|                             1|                          0|\n",
            "|  29|           27|          78.05|    1|             1|      0|         1|            1|             1|              0|            0|                1|           0|           0|               0|                1|           0|                   1|          0|                      1|                0|                0|                                     0|                                   0|                             1|                          0|\n",
            "| 474|           31|          86.55|    1|             0|      0|         0|            1|             1|              0|            0|                0|           0|           1|               0|                1|           0|                   1|          0|                      1|                0|                0|                                     0|                                   1|                             0|                          0|\n",
            "| 964|            1|           69.1|    1|             0|      0|         0|            1|             0|              0|            0|                0|           0|           0|               0|                1|           0|                   1|          0|                      1|                0|                0|                                     0|                                   0|                             1|                          0|\n",
            "|1677|            1|          49.25|    1|             1|      1|         1|            1|             0|              0|            0|                0|           1|           0|               0|                1|           1|                   0|          0|                      1|                0|                0|                                     0|                                   1|                             0|                          0|\n",
            "|1697|            6|          69.25|    1|             0|      0|         0|            1|             0|              0|            0|                0|           0|           0|               0|                1|           0|                   1|          0|                      1|                0|                0|                                     0|                                   0|                             0|                          1|\n",
            "|1806|            7|           86.8|    1|             0|      0|         0|            1|             1|              0|            0|                0|           0|           0|               1|                1|           0|                   1|          0|                      1|                0|                0|                                     0|                                   0|                             1|                          0|\n",
            "|1950|           72|         104.15|    0|             0|      1|         0|            1|             1|              1|            1|                0|           0|           1|               1|                1|           0|                   1|          0|                      0|                1|                0|                                     0|                                   0|                             1|                          0|\n",
            "|2040|           24|           50.6|    0|             0|      0|         0|            0|             0|              1|            0|                0|           0|           1|               1|                1|           1|                   0|          0|                      0|                1|                0|                                     0|                                   0|                             0|                          1|\n",
            "|2214|            2|           20.0|    0|             0|      1|         0|            1|             0|              0|            0|                0|           0|           0|               0|                0|           0|                   0|          1|                      1|                0|                0|                                     0|                                   0|                             0|                          1|\n",
            "|2250|           56|         105.45|    0|             0|      0|         0|            1|             1|              0|            1|                0|           1|           1|               1|                1|           0|                   1|          0|                      1|                0|                0|                                     1|                                   0|                             0|                          0|\n",
            "|2453|            3|           40.3|    0|             0|      1|         1|            0|             0|              0|            1|                0|           0|           0|               1|                0|           1|                   0|          0|                      1|                0|                0|                                     0|                                   0|                             0|                          1|\n",
            "|2509|           68|           20.5|    0|             0|      0|         0|            1|             0|              0|            0|                0|           0|           0|               0|                0|           0|                   0|          1|                      0|                0|                1|                                     0|                                   1|                             0|                          0|\n",
            "|2529|            1|          20.05|    0|             0|      0|         0|            1|             0|              0|            0|                0|           0|           0|               0|                1|           0|                   0|          1|                      1|                0|                0|                                     0|                                   0|                             0|                          1|\n",
            "|2927|           40|          50.25|    0|             0|      0|         0|            1|             0|              0|            0|                1|           0|           0|               0|                1|           1|                   0|          0|                      0|                1|                0|                                     0|                                   0|                             0|                          1|\n",
            "|3091|           47|           25.4|    0|             0|      1|         0|            1|             1|              0|            0|                0|           0|           0|               0|                0|           0|                   0|          1|                      1|                0|                0|                                     0|                                   0|                             1|                          0|\n",
            "|3506|           33|           39.1|    0|             0|      0|         0|            0|             0|              0|            1|                0|           0|           1|               0|                1|           1|                   0|          0|                      0|                1|                0|                                     0|                                   0|                             1|                          0|\n",
            "|3764|           38|          20.05|    0|             0|      0|         0|            1|             0|              0|            0|                0|           0|           0|               0|                0|           0|                   0|          1|                      0|                1|                0|                                     0|                                   0|                             0|                          1|\n",
            "|4590|           41|          98.05|    0|             0|      0|         0|            1|             1|              0|            0|                1|           0|           1|               1|                0|           0|                   1|          0|                      1|                0|                0|                                     1|                                   0|                             0|                          0|\n",
            "|4823|            2|          54.35|    0|             0|      0|         0|            1|             1|              0|            0|                0|           1|           0|               0|                1|           1|                   0|          0|                      1|                0|                0|                                     0|                                   0|                             0|                          1|\n",
            "+----+-------------+---------------+-----+--------------+-------+----------+-------------+--------------+---------------+-------------+-----------------+------------+------------+----------------+-----------------+------------+--------------------+-----------+-----------------------+-----------------+-----------------+--------------------------------------+------------------------------------+------------------------------+---------------------------+\n",
            "only showing top 20 rows\n",
            "\n"
          ]
        }
      ]
    },
    {
      "cell_type": "code",
      "source": [
        "df_telco_customer = df_telco_customer.withColumnRenamed('Churn', 'label')"
      ],
      "metadata": {
        "id": "YyEzpHb_My4c"
      },
      "execution_count": null,
      "outputs": []
    },
    {
      "cell_type": "code",
      "source": [
        "X = df_telco_customer.columns\n",
        "X.remove('label')\n",
        "X.remove('id')\n",
        "X"
      ],
      "metadata": {
        "colab": {
          "base_uri": "https://localhost:8080/"
        },
        "id": "UwOErAciNOLn",
        "outputId": "a789757e-b5b8-42e3-aba7-9848675c93ce"
      },
      "execution_count": null,
      "outputs": [
        {
          "output_type": "execute_result",
          "data": {
            "text/plain": [
              "['Tenure_Months',\n",
              " 'Monthly_Charges',\n",
              " 'Senior_Citizen',\n",
              " 'Partner',\n",
              " 'Dependents',\n",
              " 'Phone_Service',\n",
              " 'Multiple_Lines',\n",
              " 'Online_Security',\n",
              " 'Online_Backup',\n",
              " 'Device_Protection',\n",
              " 'Tech_Support',\n",
              " 'Streaming_TV',\n",
              " 'Streaming_Movies',\n",
              " 'Paperless_Billing',\n",
              " 'DSL_Internet',\n",
              " 'Fiber_optic_Internet',\n",
              " 'No_Internet',\n",
              " 'Month_to_month_Contract',\n",
              " 'One_Year_Contract',\n",
              " 'Two_Year_Contract',\n",
              " 'Bank_Transfer_Automatic_Payment_Method',\n",
              " 'Credit_Card_Automatic_Payment_Method',\n",
              " 'Eletronic_Check_Payment_Method',\n",
              " 'Mailed_Check_Payment_Method']"
            ]
          },
          "metadata": {},
          "execution_count": 26
        }
      ]
    },
    {
      "cell_type": "code",
      "source": [
        "assembler = VectorAssembler(inputCols=X, outputCol='features')"
      ],
      "metadata": {
        "id": "ekyIzjmRNRze"
      },
      "execution_count": null,
      "outputs": []
    },
    {
      "cell_type": "code",
      "source": [
        "df_telco_customer_prep = assembler.transform(df_telco_customer).select('features', 'label')"
      ],
      "metadata": {
        "id": "BomL6LNcNUjy"
      },
      "execution_count": null,
      "outputs": []
    },
    {
      "cell_type": "code",
      "source": [
        "df_telco_customer_prep.show(10, truncate=False)"
      ],
      "metadata": {
        "colab": {
          "base_uri": "https://localhost:8080/"
        },
        "id": "gE20IYsuNZy-",
        "outputId": "d6462440-450b-4066-884b-aadc988c4cea"
      },
      "execution_count": null,
      "outputs": [
        {
          "output_type": "stream",
          "name": "stdout",
          "text": [
            "+------------------------------------------------------------------------------------------------+-----+\n",
            "|features                                                                                        |label|\n",
            "+------------------------------------------------------------------------------------------------+-----+\n",
            "|(24,[0,1,5,6,12,13,15,17,22],[7.0,86.8,1.0,1.0,1.0,1.0,1.0,1.0,1.0])                            |1    |\n",
            "|(24,[0,1,5,13,15,17,23],[6.0,69.25,1.0,1.0,1.0,1.0,1.0])                                        |1    |\n",
            "|(24,[0,1,5,6,8,10,11,12,13,15,17,20],[56.0,105.45,1.0,1.0,1.0,1.0,1.0,1.0,1.0,1.0,1.0,1.0])     |0    |\n",
            "|(24,[0,1,5,16,18,23],[38.0,20.05,1.0,1.0,1.0,1.0])                                              |0    |\n",
            "|(24,[0,1,3,5,6,7,8,11,12,13,15,18,22],[72.0,104.15,1.0,1.0,1.0,1.0,1.0,1.0,1.0,1.0,1.0,1.0,1.0])|0    |\n",
            "|(24,[0,1,3,4,5,8,9,11,13,15,17,22],[58.0,91.55,1.0,1.0,1.0,1.0,1.0,1.0,1.0,1.0,1.0,1.0])        |0    |\n",
            "|(24,[0,1,3,5,16,17,23],[2.0,20.0,1.0,1.0,1.0,1.0,1.0])                                          |0    |\n",
            "|(24,[0,1,5,13,16,17,23],[1.0,20.05,1.0,1.0,1.0,1.0,1.0])                                        |0    |\n",
            "|(24,[0,1,5,6,9,11,12,15,17,20],[41.0,98.05,1.0,1.0,1.0,1.0,1.0,1.0,1.0,1.0])                    |0    |\n",
            "|(24,[0,1,8,11,13,14,18,22],[33.0,39.1,1.0,1.0,1.0,1.0,1.0,1.0])                                 |0    |\n",
            "+------------------------------------------------------------------------------------------------+-----+\n",
            "only showing top 10 rows\n",
            "\n"
          ]
        }
      ]
    },
    {
      "cell_type": "markdown",
      "source": [
        "#"
      ],
      "metadata": {
        "id": "pU_jGFrC7uxp"
      }
    },
    {
      "cell_type": "markdown",
      "source": [
        "## **5 - O Modelo**"
      ],
      "metadata": {
        "id": "gMxJEl0s72o5"
      }
    },
    {
      "cell_type": "markdown",
      "source": [
        "####5.1 - Logistic Regression"
      ],
      "metadata": {
        "id": "M2g-JN6B77ok"
      }
    },
    {
      "cell_type": "code",
      "source": [
        "SEED = 101"
      ],
      "metadata": {
        "id": "BRuVR_G67-NG"
      },
      "execution_count": null,
      "outputs": []
    },
    {
      "cell_type": "code",
      "source": [
        "treino, teste = df_telco_customer_prep.randomSplit([0.7, 0.3], seed=SEED)"
      ],
      "metadata": {
        "id": "v5t0Z2_k8Gho"
      },
      "execution_count": null,
      "outputs": []
    },
    {
      "cell_type": "code",
      "source": [
        "treino.count()"
      ],
      "metadata": {
        "colab": {
          "base_uri": "https://localhost:8080/"
        },
        "id": "wLlxeENn8LdG",
        "outputId": "fcbe6fa3-7fa8-4e08-c718-af2201255070"
      },
      "execution_count": null,
      "outputs": [
        {
          "output_type": "execute_result",
          "data": {
            "text/plain": [
              "4933"
            ]
          },
          "metadata": {},
          "execution_count": 34
        }
      ]
    },
    {
      "cell_type": "code",
      "source": [
        "teste.count()"
      ],
      "metadata": {
        "colab": {
          "base_uri": "https://localhost:8080/"
        },
        "id": "rya5Pa1f8NEE",
        "outputId": "6080ec0f-2fbe-4a0b-e9a2-96cbf7756d5c"
      },
      "execution_count": null,
      "outputs": [
        {
          "output_type": "execute_result",
          "data": {
            "text/plain": [
              "2110"
            ]
          },
          "metadata": {},
          "execution_count": 35
        }
      ]
    },
    {
      "cell_type": "code",
      "source": [
        "lr = LogisticRegression()"
      ],
      "metadata": {
        "id": "XkvlVNaL8OYx"
      },
      "execution_count": null,
      "outputs": []
    },
    {
      "cell_type": "code",
      "source": [
        "modelo_lr = lr.fit(treino)"
      ],
      "metadata": {
        "id": "PZ7PcQ2b8XP6"
      },
      "execution_count": null,
      "outputs": []
    },
    {
      "cell_type": "code",
      "source": [
        "previsoes_lr_treino = modelo_lr.transform(treino)"
      ],
      "metadata": {
        "id": "c1IBYqn-hPVu"
      },
      "execution_count": null,
      "outputs": []
    },
    {
      "cell_type": "code",
      "source": [
        "previsoes_lr_treino.show()"
      ],
      "metadata": {
        "colab": {
          "base_uri": "https://localhost:8080/"
        },
        "id": "v1nam7YxkrQ_",
        "outputId": "b38fad2d-794b-4519-ee9b-704fcef74300"
      },
      "execution_count": null,
      "outputs": [
        {
          "output_type": "stream",
          "name": "stdout",
          "text": [
            "+--------------------+-----+--------------------+--------------------+----------+\n",
            "|            features|label|       rawPrediction|         probability|prediction|\n",
            "+--------------------+-----+--------------------+--------------------+----------+\n",
            "|(24,[0,1,2,3,4,5,...|    0|[3.98932155894434...|[0.98182420585288...|       0.0|\n",
            "|(24,[0,1,2,3,4,5,...|    0|[4.54074189490850...|[0.98944706132766...|       0.0|\n",
            "|(24,[0,1,2,3,4,5,...|    0|[2.23771520734126...|[0.90358559365632...|       0.0|\n",
            "|(24,[0,1,2,3,4,5,...|    0|[2.89983587923312...|[0.94783832324999...|       0.0|\n",
            "|(24,[0,1,2,3,4,5,...|    0|[2.63382316221721...|[0.93300691218296...|       0.0|\n",
            "|(24,[0,1,2,3,4,5,...|    0|[2.45019294192513...|[0.92057555914102...|       0.0|\n",
            "|(24,[0,1,2,3,4,5,...|    0|[2.44258682908855...|[0.92001764704036...|       0.0|\n",
            "|(24,[0,1,2,3,4,5,...|    0|[0.61305853089605...|[0.64863817823310...|       0.0|\n",
            "|(24,[0,1,2,3,4,5,...|    0|[1.21869920596758...|[0.77183455282993...|       0.0|\n",
            "|(24,[0,1,2,3,4,5,...|    0|[2.62364010899503...|[0.93236760691364...|       0.0|\n",
            "|(24,[0,1,2,3,4,5,...|    1|[0.79945506029150...|[0.68985790117393...|       0.0|\n",
            "|(24,[0,1,2,3,4,5,...|    0|[0.61128431754224...|[0.64823371657994...|       0.0|\n",
            "|(24,[0,1,2,3,4,5,...|    0|[2.08439001809759...|[0.88937668758164...|       0.0|\n",
            "|(24,[0,1,2,3,4,5,...|    0|[0.60323715093300...|[0.64639656565601...|       0.0|\n",
            "|(24,[0,1,2,3,4,5,...|    0|[1.06375915720236...|[0.74340826949450...|       0.0|\n",
            "|(24,[0,1,2,3,4,5,...|    0|[0.78076676009896...|[0.68584534476241...|       0.0|\n",
            "|(24,[0,1,2,3,4,5,...|    0|[4.46037316983265...|[0.98857401275736...|       0.0|\n",
            "|(24,[0,1,2,3,4,5,...|    0|[5.14999938865448...|[0.99423403093640...|       0.0|\n",
            "|(24,[0,1,2,3,4,5,...|    0|[2.98637355518413...|[0.95195471927420...|       0.0|\n",
            "|(24,[0,1,2,3,4,5,...|    1|[0.52580268477157...|[0.62850362393257...|       0.0|\n",
            "+--------------------+-----+--------------------+--------------------+----------+\n",
            "only showing top 20 rows\n",
            "\n"
          ]
        }
      ]
    },
    {
      "cell_type": "code",
      "source": [
        "previsoes_lr_teste = modelo_lr.transform(teste)"
      ],
      "metadata": {
        "id": "ImLz0_PG8Yqu"
      },
      "execution_count": null,
      "outputs": []
    },
    {
      "cell_type": "code",
      "source": [
        "previsoes_lr_teste.show()"
      ],
      "metadata": {
        "colab": {
          "base_uri": "https://localhost:8080/"
        },
        "id": "ou-u9XX08aoh",
        "outputId": "27dbbac6-f4b6-4e35-cb4a-b29ca9807ba0"
      },
      "execution_count": null,
      "outputs": [
        {
          "output_type": "stream",
          "name": "stdout",
          "text": [
            "+--------------------+-----+--------------------+--------------------+----------+\n",
            "|            features|label|       rawPrediction|         probability|prediction|\n",
            "+--------------------+-----+--------------------+--------------------+----------+\n",
            "|(24,[0,1,2,3,4,5,...|    0|[4.38788377844788...|[0.98772553507378...|       0.0|\n",
            "|(24,[0,1,2,3,4,5,...|    0|[1.24839175694337...|[0.77702134245321...|       0.0|\n",
            "|(24,[0,1,2,3,4,5,...|    0|[3.31839913848362...|[0.96505464390407...|       0.0|\n",
            "|(24,[0,1,2,3,4,5,...|    0|[1.14907624045026...|[0.75934214804849...|       0.0|\n",
            "|(24,[0,1,2,3,4,5,...|    0|[-0.1128200273567...|[0.47182487208380...|       1.0|\n",
            "|(24,[0,1,2,3,4,5,...|    0|[2.50010352227022...|[0.92414907695599...|       0.0|\n",
            "|(24,[0,1,2,3,4,5,...|    1|[1.37683146730308...|[0.79848163788978...|       0.0|\n",
            "|(24,[0,1,2,3,4,5,...|    0|[5.46487055994682...|[0.99578495290917...|       0.0|\n",
            "|(24,[0,1,2,3,4,5,...|    1|[1.87974620407581...|[0.86758197221545...|       0.0|\n",
            "|(24,[0,1,2,3,4,5,...|    1|[1.58122320849538...|[0.82937768437569...|       0.0|\n",
            "|(24,[0,1,2,3,4,5,...|    0|[5.47112111783252...|[0.99581110711842...|       0.0|\n",
            "|(24,[0,1,2,3,4,8,...|    0|[3.70918791120927...|[0.97608836386912...|       0.0|\n",
            "|(24,[0,1,2,3,5,6,...|    0|[4.35321499586365...|[0.98729803183261...|       0.0|\n",
            "|(24,[0,1,2,3,5,6,...|    0|[2.04018016961556...|[0.88495161270173...|       0.0|\n",
            "|(24,[0,1,2,3,5,6,...|    0|[2.33839489564902...|[0.91200736080640...|       0.0|\n",
            "|(24,[0,1,2,3,5,6,...|    0|[3.52862807837724...|[0.97149144038139...|       0.0|\n",
            "|(24,[0,1,2,3,5,6,...|    0|[3.87336112464363...|[0.97963497630775...|       0.0|\n",
            "|(24,[0,1,2,3,5,6,...|    0|[2.70937042041522...|[0.93757731193408...|       0.0|\n",
            "|(24,[0,1,2,3,5,6,...|    0|[3.27556839944962...|[0.96358108643697...|       0.0|\n",
            "|(24,[0,1,2,3,5,6,...|    0|[0.48169661489759...|[0.61814842555595...|       0.0|\n",
            "+--------------------+-----+--------------------+--------------------+----------+\n",
            "only showing top 20 rows\n",
            "\n"
          ]
        }
      ]
    },
    {
      "cell_type": "code",
      "source": [
        "evaluator = MulticlassClassificationEvaluator()"
      ],
      "metadata": {
        "id": "zm_N_v-Tlc7n"
      },
      "execution_count": null,
      "outputs": []
    },
    {
      "cell_type": "code",
      "source": [
        "def calcular_matriz_confusao(df_transform_modelo, normalize=False):\n",
        "    tp = df_transform_modelo.filter((f.col('label') == 1) & (f.col('prediction') == 1)).count()\n",
        "    tn = df_transform_modelo.filter((f.col('label') == 0) & (f.col('prediction') == 0)).count()\n",
        "    fp = df_transform_modelo.filter((f.col('label') == 0) & (f.col('prediction') == 1)).count()\n",
        "    fn = df_transform_modelo.filter((f.col('label') == 1) & (f.col('prediction') == 0)).count()\n",
        "\n",
        "    valor_p = 1\n",
        "    valor_n = 1\n",
        "\n",
        "    if normalize:\n",
        "        valor_p = tp + fn\n",
        "        valor_n = fp + tn\n",
        "\n",
        "    return tp, tn, fp, fn, valor_p, valor_n\n",
        "\n",
        "def mostrar_matriz_confusao(tp, tn, fp, fn, valor_p, valor_n):\n",
        "    print(' ' * 20, 'Previsto')\n",
        "    print(' ' * 15, 'Churn', ' ' * 5, 'Não-Churn')\n",
        "    print(' ' * 4, 'Churn', ' ' * 6, int(tp / valor_p), ' ' * 7, int(fn / valor_p))\n",
        "    print('Real')\n",
        "    print(' ' * 4, 'Não-Churn', ' ' * 2, int(fp / valor_n), ' ' * 7, int(tn / valor_n))\n",
        "\n",
        "def calcular_e_mostrar_metricas(df, evaluator, name):\n",
        "    print(f\"{name}\")\n",
        "    print(\"=\" * 40)\n",
        "\n",
        "    print(\"Matriz de Confusão\")\n",
        "    print(\"-\" * 40)\n",
        "    tp, tn, fp, fn, valor_p, valor_n = calcular_matriz_confusao(df, normalize=False)\n",
        "    mostrar_matriz_confusao(tp, tn, fp, fn, valor_p, valor_n)\n",
        "    print(\"-\" * 40)\n",
        "\n",
        "    print(\"Métricas\")\n",
        "    print(\"-\" * 40)\n",
        "    print(\"Acurácia: %f\" % evaluator.evaluate(df, {evaluator.metricName: \"accuracy\"}))\n",
        "    print(\"Precisão: %f\" % evaluator.evaluate(df, {evaluator.metricName: \"precisionByLabel\", evaluator.metricLabel: 1}))\n",
        "    print(\"Recall: %f\" % evaluator.evaluate(df, {evaluator.metricName: \"recallByLabel\", evaluator.metricLabel: 1}))\n",
        "    print(\"F1: %f\" % evaluator.evaluate(df, {evaluator.metricName: \"fMeasureByLabel\", evaluator.metricLabel: 1}))\n",
        "    print(\"\")"
      ],
      "metadata": {
        "id": "xLQWSEkViPc0"
      },
      "execution_count": null,
      "outputs": []
    },
    {
      "cell_type": "code",
      "source": [
        "calcular_e_mostrar_metricas(previsoes_lr_teste, evaluator, \"Logistic Regression - Classificação - Dados de Teste\")"
      ],
      "metadata": {
        "colab": {
          "base_uri": "https://localhost:8080/"
        },
        "id": "bHzGr9AXlOJl",
        "outputId": "88fe24f5-4c18-4a1a-8ffc-84c304ac44bf"
      },
      "execution_count": null,
      "outputs": [
        {
          "output_type": "stream",
          "name": "stdout",
          "text": [
            "Logistic Regression - Classificação - Dados de Teste\n",
            "========================================\n",
            "Matriz de Confusão\n",
            "----------------------------------------\n",
            "                     Previsto\n",
            "                Churn       Não-Churn\n",
            "     Churn        304         239\n",
            "Real\n",
            "     Não-Churn    157         1410\n",
            "----------------------------------------\n",
            "Métricas\n",
            "----------------------------------------\n",
            "Acurácia: 0.812322\n",
            "Precisão: 0.659436\n",
            "Recall: 0.559853\n",
            "F1: 0.605578\n",
            "\n"
          ]
        }
      ]
    },
    {
      "cell_type": "markdown",
      "source": [
        "####5.2 - Decision Tree"
      ],
      "metadata": {
        "id": "1-VHHss-aZQj"
      }
    },
    {
      "cell_type": "code",
      "source": [
        "dtc = DecisionTreeClassifier(seed=SEED)"
      ],
      "metadata": {
        "id": "VA9o8h9xaZ4t"
      },
      "execution_count": null,
      "outputs": []
    },
    {
      "cell_type": "code",
      "source": [
        "modelo_dtc = dtc.fit(treino)"
      ],
      "metadata": {
        "id": "4wOyRfA9c0U3"
      },
      "execution_count": null,
      "outputs": []
    },
    {
      "cell_type": "code",
      "source": [
        "previsoes_dtc_treino = modelo_dtc.transform(treino)"
      ],
      "metadata": {
        "id": "Ppm-t7MAc2AX"
      },
      "execution_count": null,
      "outputs": []
    },
    {
      "cell_type": "code",
      "source": [
        "previsoes_dtc_treino.show()"
      ],
      "metadata": {
        "colab": {
          "base_uri": "https://localhost:8080/"
        },
        "id": "H7khOte-c3fd",
        "outputId": "a0766006-e657-4118-b5ef-09ac01bc2fee"
      },
      "execution_count": null,
      "outputs": [
        {
          "output_type": "stream",
          "name": "stdout",
          "text": [
            "+--------------------+-----+--------------+--------------------+----------+\n",
            "|            features|label| rawPrediction|         probability|prediction|\n",
            "+--------------------+-----+--------------+--------------------+----------+\n",
            "|(24,[0,1,2,3,4,5,...|    0|[2049.0,144.0]|[0.93433652530779...|       0.0|\n",
            "|(24,[0,1,2,3,4,5,...|    0|[2049.0,144.0]|[0.93433652530779...|       0.0|\n",
            "|(24,[0,1,2,3,4,5,...|    0| [479.0,329.0]|[0.59282178217821...|       0.0|\n",
            "|(24,[0,1,2,3,4,5,...|    0| [479.0,329.0]|[0.59282178217821...|       0.0|\n",
            "|(24,[0,1,2,3,4,5,...|    0| [479.0,329.0]|[0.59282178217821...|       0.0|\n",
            "|(24,[0,1,2,3,4,5,...|    0| [479.0,329.0]|[0.59282178217821...|       0.0|\n",
            "|(24,[0,1,2,3,4,5,...|    0| [479.0,329.0]|[0.59282178217821...|       0.0|\n",
            "|(24,[0,1,2,3,4,5,...|    0| [479.0,329.0]|[0.59282178217821...|       0.0|\n",
            "|(24,[0,1,2,3,4,5,...|    0| [479.0,329.0]|[0.59282178217821...|       0.0|\n",
            "|(24,[0,1,2,3,4,5,...|    0|[2049.0,144.0]|[0.93433652530779...|       0.0|\n",
            "|(24,[0,1,2,3,4,5,...|    1| [198.0,349.0]|[0.36197440585009...|       1.0|\n",
            "|(24,[0,1,2,3,4,5,...|    0| [479.0,329.0]|[0.59282178217821...|       0.0|\n",
            "|(24,[0,1,2,3,4,5,...|    0| [479.0,329.0]|[0.59282178217821...|       0.0|\n",
            "|(24,[0,1,2,3,4,5,...|    0| [198.0,349.0]|[0.36197440585009...|       1.0|\n",
            "|(24,[0,1,2,3,4,5,...|    0| [479.0,329.0]|[0.59282178217821...|       0.0|\n",
            "|(24,[0,1,2,3,4,5,...|    0| [198.0,349.0]|[0.36197440585009...|       1.0|\n",
            "|(24,[0,1,2,3,4,5,...|    0|[2049.0,144.0]|[0.93433652530779...|       0.0|\n",
            "|(24,[0,1,2,3,4,5,...|    0|[2049.0,144.0]|[0.93433652530779...|       0.0|\n",
            "|(24,[0,1,2,3,4,5,...|    0| [479.0,329.0]|[0.59282178217821...|       0.0|\n",
            "|(24,[0,1,2,3,4,5,...|    1| [479.0,329.0]|[0.59282178217821...|       0.0|\n",
            "+--------------------+-----+--------------+--------------------+----------+\n",
            "only showing top 20 rows\n",
            "\n"
          ]
        }
      ]
    },
    {
      "cell_type": "code",
      "source": [
        "previsoes_dtc_teste = modelo_dtc.transform(teste)"
      ],
      "metadata": {
        "id": "nk61UYVHe4Pu"
      },
      "execution_count": null,
      "outputs": []
    },
    {
      "cell_type": "code",
      "source": [
        "previsoes_dtc_teste.show()"
      ],
      "metadata": {
        "colab": {
          "base_uri": "https://localhost:8080/"
        },
        "id": "YxV0mEAze8ir",
        "outputId": "ee9f7e08-1882-481f-ea3e-b05085acaa77"
      },
      "execution_count": null,
      "outputs": [
        {
          "output_type": "stream",
          "name": "stdout",
          "text": [
            "+--------------------+-----+--------------+--------------------+----------+\n",
            "|            features|label| rawPrediction|         probability|prediction|\n",
            "+--------------------+-----+--------------+--------------------+----------+\n",
            "|(24,[0,1,2,3,4,5,...|    0|[2049.0,144.0]|[0.93433652530779...|       0.0|\n",
            "|(24,[0,1,2,3,4,5,...|    0| [479.0,329.0]|[0.59282178217821...|       0.0|\n",
            "|(24,[0,1,2,3,4,5,...|    0|[2049.0,144.0]|[0.93433652530779...|       0.0|\n",
            "|(24,[0,1,2,3,4,5,...|    0| [479.0,329.0]|[0.59282178217821...|       0.0|\n",
            "|(24,[0,1,2,3,4,5,...|    0| [198.0,349.0]|[0.36197440585009...|       1.0|\n",
            "|(24,[0,1,2,3,4,5,...|    0|[2049.0,144.0]|[0.93433652530779...|       0.0|\n",
            "|(24,[0,1,2,3,4,5,...|    1| [479.0,329.0]|[0.59282178217821...|       0.0|\n",
            "|(24,[0,1,2,3,4,5,...|    0|[2049.0,144.0]|[0.93433652530779...|       0.0|\n",
            "|(24,[0,1,2,3,4,5,...|    1| [112.0,139.0]|[0.44621513944223...|       1.0|\n",
            "|(24,[0,1,2,3,4,5,...|    1| [641.0,165.0]|[0.79528535980148...|       0.0|\n",
            "|(24,[0,1,2,3,4,5,...|    0|[2049.0,144.0]|[0.93433652530779...|       0.0|\n",
            "|(24,[0,1,2,3,4,8,...|    0|[2049.0,144.0]|[0.93433652530779...|       0.0|\n",
            "|(24,[0,1,2,3,5,6,...|    0|[2049.0,144.0]|[0.93433652530779...|       0.0|\n",
            "|(24,[0,1,2,3,5,6,...|    0|[2049.0,144.0]|[0.93433652530779...|       0.0|\n",
            "|(24,[0,1,2,3,5,6,...|    0|[2049.0,144.0]|[0.93433652530779...|       0.0|\n",
            "|(24,[0,1,2,3,5,6,...|    0|[2049.0,144.0]|[0.93433652530779...|       0.0|\n",
            "|(24,[0,1,2,3,5,6,...|    0|[2049.0,144.0]|[0.93433652530779...|       0.0|\n",
            "|(24,[0,1,2,3,5,6,...|    0|[2049.0,144.0]|[0.93433652530779...|       0.0|\n",
            "|(24,[0,1,2,3,5,6,...|    0|[2049.0,144.0]|[0.93433652530779...|       0.0|\n",
            "|(24,[0,1,2,3,5,6,...|    0| [479.0,329.0]|[0.59282178217821...|       0.0|\n",
            "+--------------------+-----+--------------+--------------------+----------+\n",
            "only showing top 20 rows\n",
            "\n"
          ]
        }
      ]
    },
    {
      "cell_type": "code",
      "source": [
        "calcular_e_mostrar_metricas(previsoes_dtc_teste, evaluator, \"Decision Tree - Classificação - Dados de Teste\")"
      ],
      "metadata": {
        "colab": {
          "base_uri": "https://localhost:8080/"
        },
        "id": "_AgRQW46fDNU",
        "outputId": "20b9f8b3-2a8d-461e-bea0-4db5b001ac5c"
      },
      "execution_count": null,
      "outputs": [
        {
          "output_type": "stream",
          "name": "stdout",
          "text": [
            "Decision Tree - Classificação - Dados de Teste\n",
            "========================================\n",
            "Matriz de Confusão\n",
            "----------------------------------------\n",
            "                     Previsto\n",
            "                Churn       Não-Churn\n",
            "     Churn        247         296\n",
            "Real\n",
            "     Não-Churn    132         1435\n",
            "----------------------------------------\n",
            "Métricas\n",
            "----------------------------------------\n",
            "Acurácia: 0.797156\n",
            "Precisão: 0.651715\n",
            "Recall: 0.454880\n",
            "F1: 0.535792\n",
            "\n"
          ]
        }
      ]
    },
    {
      "cell_type": "markdown",
      "source": [
        "####5.3 - Random Forest"
      ],
      "metadata": {
        "id": "E3SXjHkpm-0-"
      }
    },
    {
      "cell_type": "code",
      "source": [
        "rfc = RandomForestClassifier(seed=SEED)"
      ],
      "metadata": {
        "id": "CZ1046NZm7k3"
      },
      "execution_count": null,
      "outputs": []
    },
    {
      "cell_type": "code",
      "source": [
        "modelo_rfc = rfc.fit(treino)"
      ],
      "metadata": {
        "id": "hzs1PzgpnKNg"
      },
      "execution_count": null,
      "outputs": []
    },
    {
      "cell_type": "code",
      "source": [
        "previsoes_rfc_treino = modelo_rfc.transform(treino)"
      ],
      "metadata": {
        "id": "aC7BFlk0nape"
      },
      "execution_count": null,
      "outputs": []
    },
    {
      "cell_type": "code",
      "source": [
        "previsoes_rfc_treino.show()"
      ],
      "metadata": {
        "colab": {
          "base_uri": "https://localhost:8080/"
        },
        "id": "tBVDA0-ZnfT4",
        "outputId": "a4fae1e3-4d7c-465f-e4e2-c6d35f407248"
      },
      "execution_count": null,
      "outputs": [
        {
          "output_type": "stream",
          "name": "stdout",
          "text": [
            "+--------------------+-----+--------------------+--------------------+----------+\n",
            "|            features|label|       rawPrediction|         probability|prediction|\n",
            "+--------------------+-----+--------------------+--------------------+----------+\n",
            "|(24,[0,1,2,3,4,5,...|    0|[16.5537499148215...|[0.82768749574107...|       0.0|\n",
            "|(24,[0,1,2,3,4,5,...|    0|[17.2253865305002...|[0.86126932652501...|       0.0|\n",
            "|(24,[0,1,2,3,4,5,...|    0|[14.7644725722485...|[0.73822362861242...|       0.0|\n",
            "|(24,[0,1,2,3,4,5,...|    0|[14.4889273752075...|[0.72444636876037...|       0.0|\n",
            "|(24,[0,1,2,3,4,5,...|    0|[14.4889273752075...|[0.72444636876037...|       0.0|\n",
            "|(24,[0,1,2,3,4,5,...|    0|[14.2902278934322...|[0.71451139467161...|       0.0|\n",
            "|(24,[0,1,2,3,4,5,...|    0|[13.7252706999949...|[0.68626353499974...|       0.0|\n",
            "|(24,[0,1,2,3,4,5,...|    0|[13.8731448519949...|[0.69365724259974...|       0.0|\n",
            "|(24,[0,1,2,3,4,5,...|    0|[14.3600700421280...|[0.71800350210640...|       0.0|\n",
            "|(24,[0,1,2,3,4,5,...|    0|[16.4511095276979...|[0.82255547638489...|       0.0|\n",
            "|(24,[0,1,2,3,4,5,...|    1|[10.8570518980876...|[0.54285259490438...|       0.0|\n",
            "|(24,[0,1,2,3,4,5,...|    0|[13.8731448519949...|[0.69365724259974...|       0.0|\n",
            "|(24,[0,1,2,3,4,5,...|    0|[14.1547106520529...|[0.70773553260264...|       0.0|\n",
            "|(24,[0,1,2,3,4,5,...|    0|[11.4064235516694...|[0.57032117758347...|       0.0|\n",
            "|(24,[0,1,2,3,4,5,...|    0|[14.0696134151245...|[0.70348067075622...|       0.0|\n",
            "|(24,[0,1,2,3,4,5,...|    0|[11.4064235516694...|[0.57032117758347...|       0.0|\n",
            "|(24,[0,1,2,3,4,5,...|    0|[16.5897801303803...|[0.82948900651901...|       0.0|\n",
            "|(24,[0,1,2,3,4,5,...|    0|[17.9461342802048...|[0.89730671401024...|       0.0|\n",
            "|(24,[0,1,2,3,4,5,...|    0|[15.2278033400443...|[0.76139016700221...|       0.0|\n",
            "|(24,[0,1,2,3,4,5,...|    1|[13.5407262684441...|[0.67703631342220...|       0.0|\n",
            "+--------------------+-----+--------------------+--------------------+----------+\n",
            "only showing top 20 rows\n",
            "\n"
          ]
        }
      ]
    },
    {
      "cell_type": "code",
      "source": [
        "previsoes_rfc_teste = modelo_rfc.transform(teste)"
      ],
      "metadata": {
        "id": "m35laHRPngu5"
      },
      "execution_count": null,
      "outputs": []
    },
    {
      "cell_type": "code",
      "source": [
        "previsoes_rfc_teste.show()"
      ],
      "metadata": {
        "colab": {
          "base_uri": "https://localhost:8080/"
        },
        "id": "TLSPTMgdnk2O",
        "outputId": "89354eb8-fb3c-4ae7-c43a-c1131a114c07"
      },
      "execution_count": null,
      "outputs": [
        {
          "output_type": "stream",
          "name": "stdout",
          "text": [
            "+--------------------+-----+--------------------+--------------------+----------+\n",
            "|            features|label|       rawPrediction|         probability|prediction|\n",
            "+--------------------+-----+--------------------+--------------------+----------+\n",
            "|(24,[0,1,2,3,4,5,...|    0|[16.6229511797121...|[0.83114755898560...|       0.0|\n",
            "|(24,[0,1,2,3,4,5,...|    0|[14.1565087916566...|[0.70782543958283...|       0.0|\n",
            "|(24,[0,1,2,3,4,5,...|    0|[16.9816032755346...|[0.84908016377673...|       0.0|\n",
            "|(24,[0,1,2,3,4,5,...|    0|[14.1547106520529...|[0.70773553260264...|       0.0|\n",
            "|(24,[0,1,2,3,4,5,...|    0|[11.9423881215163...|[0.59711940607581...|       0.0|\n",
            "|(24,[0,1,2,3,4,5,...|    0|[16.9816032755346...|[0.84908016377673...|       0.0|\n",
            "|(24,[0,1,2,3,4,5,...|    1|[13.3331069013308...|[0.66665534506654...|       0.0|\n",
            "|(24,[0,1,2,3,4,5,...|    0|[18.4196659814633...|[0.92098329907316...|       0.0|\n",
            "|(24,[0,1,2,3,4,5,...|    1|[14.1688467057517...|[0.70844233528758...|       0.0|\n",
            "|(24,[0,1,2,3,4,5,...|    1|[12.1336719734398...|[0.60668359867199...|       0.0|\n",
            "|(24,[0,1,2,3,4,5,...|    0|[17.9594645756074...|[0.89797322878037...|       0.0|\n",
            "|(24,[0,1,2,3,4,8,...|    0|[17.0732432593853...|[0.85366216296926...|       0.0|\n",
            "|(24,[0,1,2,3,5,6,...|    0|[18.0971487685327...|[0.90485743842663...|       0.0|\n",
            "|(24,[0,1,2,3,5,6,...|    0|[15.5834394767486...|[0.77917197383743...|       0.0|\n",
            "|(24,[0,1,2,3,5,6,...|    0|[15.5834394767486...|[0.77917197383743...|       0.0|\n",
            "|(24,[0,1,2,3,5,6,...|    0|[17.7331681224568...|[0.88665840612284...|       0.0|\n",
            "|(24,[0,1,2,3,5,6,...|    0|[17.7788205437087...|[0.88894102718543...|       0.0|\n",
            "|(24,[0,1,2,3,5,6,...|    0|[17.5658543859607...|[0.87829271929803...|       0.0|\n",
            "|(24,[0,1,2,3,5,6,...|    0|[17.4148398976327...|[0.87074199488163...|       0.0|\n",
            "|(24,[0,1,2,3,5,6,...|    0|[12.9590077859362...|[0.64795038929680...|       0.0|\n",
            "+--------------------+-----+--------------------+--------------------+----------+\n",
            "only showing top 20 rows\n",
            "\n"
          ]
        }
      ]
    },
    {
      "cell_type": "code",
      "source": [
        "calcular_e_mostrar_metricas(previsoes_rfc_teste, evaluator, \"Random Forest - Classificação - Dados de Teste\")"
      ],
      "metadata": {
        "colab": {
          "base_uri": "https://localhost:8080/"
        },
        "id": "gIa9tBvDnmb8",
        "outputId": "30709833-03d8-46be-dab5-1a1cf9dd0503"
      },
      "execution_count": null,
      "outputs": [
        {
          "output_type": "stream",
          "name": "stdout",
          "text": [
            "Random Forest - Classificação - Dados de Teste\n",
            "========================================\n",
            "Matriz de Confusão\n",
            "----------------------------------------\n",
            "                     Previsto\n",
            "                Churn       Não-Churn\n",
            "     Churn        191         352\n",
            "Real\n",
            "     Não-Churn    66         1501\n",
            "----------------------------------------\n",
            "Métricas\n",
            "----------------------------------------\n",
            "Acurácia: 0.801896\n",
            "Precisão: 0.743191\n",
            "Recall: 0.351750\n",
            "F1: 0.477500\n",
            "\n"
          ]
        }
      ]
    },
    {
      "cell_type": "markdown",
      "source": [
        "####5.4 - Comparação Entre Modelos"
      ],
      "metadata": {
        "id": "W11swHkboa6V"
      }
    },
    {
      "cell_type": "code",
      "source": [
        "calcular_e_mostrar_metricas(previsoes_lr_teste, evaluator, \"Logistic Regression - Classificação - Dados de Teste\")\n",
        "calcular_e_mostrar_metricas(previsoes_dtc_teste, evaluator, \"Decision Tree - Classificação - Dados de Teste\")\n",
        "calcular_e_mostrar_metricas(previsoes_rfc_teste, evaluator, \"Random Forest - Classificação - Dados de Teste\")"
      ],
      "metadata": {
        "colab": {
          "base_uri": "https://localhost:8080/"
        },
        "id": "GClMLwAAoZhB",
        "outputId": "8274a9de-d232-496c-b1f0-e08c3e4a29d0"
      },
      "execution_count": null,
      "outputs": [
        {
          "output_type": "stream",
          "name": "stdout",
          "text": [
            "Logistic Regression - Classificação - Dados de Teste\n",
            "========================================\n",
            "Matriz de Confusão\n",
            "----------------------------------------\n",
            "                     Previsto\n",
            "                Churn       Não-Churn\n",
            "     Churn        304         239\n",
            "Real\n",
            "     Não-Churn    157         1410\n",
            "----------------------------------------\n",
            "Métricas\n",
            "----------------------------------------\n",
            "Acurácia: 0.812322\n",
            "Precisão: 0.659436\n",
            "Recall: 0.559853\n",
            "F1: 0.605578\n",
            "\n",
            "Decision Tree - Classificação - Dados de Teste\n",
            "========================================\n",
            "Matriz de Confusão\n",
            "----------------------------------------\n",
            "                     Previsto\n",
            "                Churn       Não-Churn\n",
            "     Churn        247         296\n",
            "Real\n",
            "     Não-Churn    132         1435\n",
            "----------------------------------------\n",
            "Métricas\n",
            "----------------------------------------\n",
            "Acurácia: 0.797156\n",
            "Precisão: 0.651715\n",
            "Recall: 0.454880\n",
            "F1: 0.535792\n",
            "\n",
            "Random Forest - Classificação - Dados de Teste\n",
            "========================================\n",
            "Matriz de Confusão\n",
            "----------------------------------------\n",
            "                     Previsto\n",
            "                Churn       Não-Churn\n",
            "     Churn        191         352\n",
            "Real\n",
            "     Não-Churn    66         1501\n",
            "----------------------------------------\n",
            "Métricas\n",
            "----------------------------------------\n",
            "Acurácia: 0.801896\n",
            "Precisão: 0.743191\n",
            "Recall: 0.351750\n",
            "F1: 0.477500\n",
            "\n"
          ]
        }
      ]
    },
    {
      "cell_type": "markdown",
      "source": [
        "## **6 - Cross Validation**"
      ],
      "metadata": {
        "id": "f-IavuIKrwX7"
      }
    },
    {
      "cell_type": "markdown",
      "source": [
        "####6.1 - Logistic Regression"
      ],
      "metadata": {
        "id": "T4afDqGezmc7"
      }
    },
    {
      "cell_type": "code",
      "source": [
        "grid = ParamGridBuilder() \\\n",
        "    .addGrid(lr.regParam, [0.1, 0.01]) \\\n",
        "    .addGrid(lr.elasticNetParam, [0.0, 1.0])\\\n",
        "    .build()"
      ],
      "metadata": {
        "id": "jR6fLMQmzpt5"
      },
      "execution_count": null,
      "outputs": []
    },
    {
      "cell_type": "code",
      "source": [
        "lr_cv = CrossValidator(\n",
        "    estimator=lr,\n",
        "    estimatorParamMaps=grid,\n",
        "    evaluator=evaluator,\n",
        "    numFolds=3,\n",
        "    seed=SEED\n",
        ")"
      ],
      "metadata": {
        "id": "C4X2VjD5z7XQ"
      },
      "execution_count": null,
      "outputs": []
    },
    {
      "cell_type": "code",
      "source": [
        "modelo_lr_cv = lr_cv.fit(treino)"
      ],
      "metadata": {
        "id": "ZlHbaOZD0bsL"
      },
      "execution_count": null,
      "outputs": []
    },
    {
      "cell_type": "code",
      "source": [
        "previsoes_lr_cv_treino = modelo_lr_cv.transform(treino)"
      ],
      "metadata": {
        "id": "jO3grz8Fz_EV"
      },
      "execution_count": null,
      "outputs": []
    },
    {
      "cell_type": "code",
      "source": [
        "previsoes_lr_cv_treino.show()"
      ],
      "metadata": {
        "colab": {
          "base_uri": "https://localhost:8080/"
        },
        "id": "KjT4gFmX0jUG",
        "outputId": "40e7a039-0dca-439c-c023-c731570c547b"
      },
      "execution_count": null,
      "outputs": [
        {
          "output_type": "stream",
          "name": "stdout",
          "text": [
            "+--------------------+-----+--------------------+--------------------+----------+\n",
            "|            features|label|       rawPrediction|         probability|prediction|\n",
            "+--------------------+-----+--------------------+--------------------+----------+\n",
            "|(24,[0,1,2,3,4,5,...|    0|[3.70880859835361...|[0.97607950915752...|       0.0|\n",
            "|(24,[0,1,2,3,4,5,...|    0|[4.16896782137127...|[0.98476740327382...|       0.0|\n",
            "|(24,[0,1,2,3,4,5,...|    0|[2.01025685055531...|[0.88186978234246...|       0.0|\n",
            "|(24,[0,1,2,3,4,5,...|    0|[2.42263411974844...|[0.91853706452067...|       0.0|\n",
            "|(24,[0,1,2,3,4,5,...|    0|[2.14053861758083...|[0.89478133086809...|       0.0|\n",
            "|(24,[0,1,2,3,4,5,...|    0|[2.07684521488388...|[0.88863220252344...|       0.0|\n",
            "|(24,[0,1,2,3,4,5,...|    0|[2.06798699131160...|[0.88775252571353...|       0.0|\n",
            "|(24,[0,1,2,3,4,5,...|    0|[0.46045459097512...|[0.61312201221248...|       0.0|\n",
            "|(24,[0,1,2,3,4,5,...|    0|[0.96033322709205...|[0.72318851777909...|       0.0|\n",
            "|(24,[0,1,2,3,4,5,...|    0|[2.42848689749122...|[0.91897393730238...|       0.0|\n",
            "|(24,[0,1,2,3,4,5,...|    1|[0.74768635629246...|[0.67867435894204...|       0.0|\n",
            "|(24,[0,1,2,3,4,5,...|    0|[0.20941613711638...|[0.55216353696568...|       0.0|\n",
            "|(24,[0,1,2,3,4,5,...|    0|[1.86665952104496...|[0.86607128284445...|       0.0|\n",
            "|(24,[0,1,2,3,4,5,...|    0|[0.70510824115578...|[0.66931936033479...|       0.0|\n",
            "|(24,[0,1,2,3,4,5,...|    0|[0.94234130932860...|[0.71957234829361...|       0.0|\n",
            "|(24,[0,1,2,3,4,5,...|    0|[0.70844313658705...|[0.67005705868862...|       0.0|\n",
            "|(24,[0,1,2,3,4,5,...|    0|[3.92021827465947...|[0.98054907893000...|       0.0|\n",
            "|(24,[0,1,2,3,4,5,...|    0|[4.77959190920873...|[0.99167053671388...|       0.0|\n",
            "|(24,[0,1,2,3,4,5,...|    0|[2.60113003908608...|[0.93093427164946...|       0.0|\n",
            "|(24,[0,1,2,3,4,5,...|    1|[0.49816852442800...|[0.62202883121087...|       0.0|\n",
            "+--------------------+-----+--------------------+--------------------+----------+\n",
            "only showing top 20 rows\n",
            "\n"
          ]
        }
      ]
    },
    {
      "cell_type": "code",
      "source": [
        "previsoes_lr_cv_teste = modelo_lr_cv.transform(teste)"
      ],
      "metadata": {
        "id": "K9KkSJBW0lMH"
      },
      "execution_count": null,
      "outputs": []
    },
    {
      "cell_type": "code",
      "source": [
        "previsoes_lr_cv_teste.show()"
      ],
      "metadata": {
        "colab": {
          "base_uri": "https://localhost:8080/"
        },
        "id": "a99C8KvE0odX",
        "outputId": "781608b9-14cf-4c92-dc87-91735aeaefdb"
      },
      "execution_count": null,
      "outputs": [
        {
          "output_type": "stream",
          "name": "stdout",
          "text": [
            "+--------------------+-----+--------------------+--------------------+----------+\n",
            "|            features|label|       rawPrediction|         probability|prediction|\n",
            "+--------------------+-----+--------------------+--------------------+----------+\n",
            "|(24,[0,1,2,3,4,5,...|    0|[3.94351018671286...|[0.98098837894532...|       0.0|\n",
            "|(24,[0,1,2,3,4,5,...|    0|[1.06657952212202...|[0.74394589147831...|       0.0|\n",
            "|(24,[0,1,2,3,4,5,...|    0|[2.95996777301383...|[0.95073248441853...|       0.0|\n",
            "|(24,[0,1,2,3,4,5,...|    0|[0.90109875936910...|[0.71117524566699...|       0.0|\n",
            "|(24,[0,1,2,3,4,5,...|    0|[-0.2122602862493...|[0.44713326957966...|       1.0|\n",
            "|(24,[0,1,2,3,4,5,...|    0|[2.24406450726567...|[0.90413732056625...|       0.0|\n",
            "|(24,[0,1,2,3,4,5,...|    1|[1.01197390757411...|[0.73340626840436...|       0.0|\n",
            "|(24,[0,1,2,3,4,5,...|    0|[4.94617135211274...|[0.99293962259372...|       0.0|\n",
            "|(24,[0,1,2,3,4,5,...|    1|[1.80407713577258...|[0.85864451780018...|       0.0|\n",
            "|(24,[0,1,2,3,4,5,...|    1|[1.33137647439565...|[0.79106822864170...|       0.0|\n",
            "|(24,[0,1,2,3,4,5,...|    0|[4.98894076682918...|[0.99323322411539...|       0.0|\n",
            "|(24,[0,1,2,3,4,8,...|    0|[3.47722553857185...|[0.97003277393707...|       0.0|\n",
            "|(24,[0,1,2,3,5,6,...|    0|[4.17510252666535...|[0.98485915417142...|       0.0|\n",
            "|(24,[0,1,2,3,5,6,...|    0|[2.03545564885102...|[0.88446972306269...|       0.0|\n",
            "|(24,[0,1,2,3,5,6,...|    0|[2.40477553559842...|[0.91719073783511...|       0.0|\n",
            "|(24,[0,1,2,3,5,6,...|    0|[3.39676876762394...|[0.96760339856009...|       0.0|\n",
            "|(24,[0,1,2,3,5,6,...|    0|[3.65314391290090...|[0.97474480725883...|       0.0|\n",
            "|(24,[0,1,2,3,5,6,...|    0|[2.65692889613953...|[0.93443676717524...|       0.0|\n",
            "|(24,[0,1,2,3,5,6,...|    0|[2.84755948957336...|[0.94519239250858...|       0.0|\n",
            "|(24,[0,1,2,3,5,6,...|    0|[0.56282495808259...|[0.63710592877424...|       0.0|\n",
            "+--------------------+-----+--------------------+--------------------+----------+\n",
            "only showing top 20 rows\n",
            "\n"
          ]
        }
      ]
    },
    {
      "cell_type": "code",
      "source": [
        "calcular_e_mostrar_metricas(previsoes_lr_cv_teste, evaluator, \"Logistic Regression - Cross Validator - Dados de Teste\")"
      ],
      "metadata": {
        "colab": {
          "base_uri": "https://localhost:8080/"
        },
        "id": "tErfrFCo0vPd",
        "outputId": "4d78a444-e8b7-46b8-fda6-87b3e86d0eea"
      },
      "execution_count": null,
      "outputs": [
        {
          "output_type": "stream",
          "name": "stdout",
          "text": [
            "Logistic Regression - Cross Validator - Dados de Teste\n",
            "========================================\n",
            "Matriz de Confusão\n",
            "----------------------------------------\n",
            "                     Previsto\n",
            "                Churn       Não-Churn\n",
            "     Churn        303         240\n",
            "Real\n",
            "     Não-Churn    151         1416\n",
            "----------------------------------------\n",
            "Métricas\n",
            "----------------------------------------\n",
            "Acurácia: 0.814692\n",
            "Precisão: 0.667401\n",
            "Recall: 0.558011\n",
            "F1: 0.607823\n",
            "\n"
          ]
        }
      ]
    },
    {
      "cell_type": "markdown",
      "source": [
        "####6.2 - Decision Tree"
      ],
      "metadata": {
        "id": "_2sfwd6Xr1cU"
      }
    },
    {
      "cell_type": "code",
      "source": [
        "grid = ParamGridBuilder()\\\n",
        "        .addGrid(dtc.maxDepth, [2, 5, 10])\\\n",
        "        .addGrid(dtc.maxBins, [10, 32, 45])\\\n",
        "        .build()"
      ],
      "metadata": {
        "id": "kC84Hul5r9Du"
      },
      "execution_count": null,
      "outputs": []
    },
    {
      "cell_type": "code",
      "source": [
        "dtc_cv = CrossValidator(\n",
        "    estimator=dtc,\n",
        "    estimatorParamMaps=grid,\n",
        "    evaluator=evaluator,\n",
        "    numFolds=3,\n",
        "    seed=SEED\n",
        ")"
      ],
      "metadata": {
        "id": "FWSn0TJgsJEq"
      },
      "execution_count": null,
      "outputs": []
    },
    {
      "cell_type": "code",
      "source": [
        "modelo_dtc_cv = dtc_cv.fit(treino)"
      ],
      "metadata": {
        "id": "Cbu9tKL3sMUI"
      },
      "execution_count": null,
      "outputs": []
    },
    {
      "cell_type": "code",
      "source": [
        "previsoes_dtc_cv_treino = modelo_dtc_cv.transform(treino)"
      ],
      "metadata": {
        "id": "HJvyIQzBsRrI"
      },
      "execution_count": null,
      "outputs": []
    },
    {
      "cell_type": "code",
      "source": [
        "previsoes_dtc_cv_treino.show()"
      ],
      "metadata": {
        "colab": {
          "base_uri": "https://localhost:8080/"
        },
        "id": "orUy_2QZsalm",
        "outputId": "7b955efa-9987-4b95-a8cb-9d4e58b97562"
      },
      "execution_count": null,
      "outputs": [
        {
          "output_type": "stream",
          "name": "stdout",
          "text": [
            "+--------------------+-----+--------------+--------------------+----------+\n",
            "|            features|label| rawPrediction|         probability|prediction|\n",
            "+--------------------+-----+--------------+--------------------+----------+\n",
            "|(24,[0,1,2,3,4,5,...|    0|[2049.0,144.0]|[0.93433652530779...|       0.0|\n",
            "|(24,[0,1,2,3,4,5,...|    0|[2049.0,144.0]|[0.93433652530779...|       0.0|\n",
            "|(24,[0,1,2,3,4,5,...|    0|  [106.0,10.0]|[0.91379310344827...|       0.0|\n",
            "|(24,[0,1,2,3,4,5,...|    0|  [106.0,10.0]|[0.91379310344827...|       0.0|\n",
            "|(24,[0,1,2,3,4,5,...|    0|  [106.0,10.0]|[0.91379310344827...|       0.0|\n",
            "|(24,[0,1,2,3,4,5,...|    0|  [106.0,10.0]|[0.91379310344827...|       0.0|\n",
            "|(24,[0,1,2,3,4,5,...|    0|  [106.0,10.0]|[0.91379310344827...|       0.0|\n",
            "|(24,[0,1,2,3,4,5,...|    0|  [106.0,10.0]|[0.91379310344827...|       0.0|\n",
            "|(24,[0,1,2,3,4,5,...|    0|  [106.0,10.0]|[0.91379310344827...|       0.0|\n",
            "|(24,[0,1,2,3,4,5,...|    0|[2049.0,144.0]|[0.93433652530779...|       0.0|\n",
            "|(24,[0,1,2,3,4,5,...|    1| [187.0,336.0]|[0.35755258126195...|       1.0|\n",
            "|(24,[0,1,2,3,4,5,...|    0|  [106.0,10.0]|[0.91379310344827...|       0.0|\n",
            "|(24,[0,1,2,3,4,5,...|    0|  [106.0,10.0]|[0.91379310344827...|       0.0|\n",
            "|(24,[0,1,2,3,4,5,...|    0| [187.0,336.0]|[0.35755258126195...|       1.0|\n",
            "|(24,[0,1,2,3,4,5,...|    0|  [106.0,10.0]|[0.91379310344827...|       0.0|\n",
            "|(24,[0,1,2,3,4,5,...|    0| [187.0,336.0]|[0.35755258126195...|       1.0|\n",
            "|(24,[0,1,2,3,4,5,...|    0|[2049.0,144.0]|[0.93433652530779...|       0.0|\n",
            "|(24,[0,1,2,3,4,5,...|    0|[2049.0,144.0]|[0.93433652530779...|       0.0|\n",
            "|(24,[0,1,2,3,4,5,...|    0|  [106.0,10.0]|[0.91379310344827...|       0.0|\n",
            "|(24,[0,1,2,3,4,5,...|    1|  [106.0,10.0]|[0.91379310344827...|       0.0|\n",
            "+--------------------+-----+--------------+--------------------+----------+\n",
            "only showing top 20 rows\n",
            "\n"
          ]
        }
      ]
    },
    {
      "cell_type": "code",
      "source": [
        "previsoes_dtc_cv_teste = modelo_dtc_cv.transform(teste)"
      ],
      "metadata": {
        "id": "e0Gp089msfKb"
      },
      "execution_count": null,
      "outputs": []
    },
    {
      "cell_type": "code",
      "source": [
        "previsoes_dtc_cv_teste.show()"
      ],
      "metadata": {
        "colab": {
          "base_uri": "https://localhost:8080/"
        },
        "id": "RVCykS4ysioj",
        "outputId": "42bc24b1-8a3e-420d-9c83-05095533df0c"
      },
      "execution_count": null,
      "outputs": [
        {
          "output_type": "stream",
          "name": "stdout",
          "text": [
            "+--------------------+-----+--------------+--------------------+----------+\n",
            "|            features|label| rawPrediction|         probability|prediction|\n",
            "+--------------------+-----+--------------+--------------------+----------+\n",
            "|(24,[0,1,2,3,4,5,...|    0|[2049.0,144.0]|[0.93433652530779...|       0.0|\n",
            "|(24,[0,1,2,3,4,5,...|    0|  [106.0,10.0]|[0.91379310344827...|       0.0|\n",
            "|(24,[0,1,2,3,4,5,...|    0|[2049.0,144.0]|[0.93433652530779...|       0.0|\n",
            "|(24,[0,1,2,3,4,5,...|    0|  [106.0,10.0]|[0.91379310344827...|       0.0|\n",
            "|(24,[0,1,2,3,4,5,...|    0|  [106.0,10.0]|[0.91379310344827...|       0.0|\n",
            "|(24,[0,1,2,3,4,5,...|    0|[2049.0,144.0]|[0.93433652530779...|       0.0|\n",
            "|(24,[0,1,2,3,4,5,...|    1|  [106.0,10.0]|[0.91379310344827...|       0.0|\n",
            "|(24,[0,1,2,3,4,5,...|    0|[2049.0,144.0]|[0.93433652530779...|       0.0|\n",
            "|(24,[0,1,2,3,4,5,...|    1| [112.0,139.0]|[0.44621513944223...|       1.0|\n",
            "|(24,[0,1,2,3,4,5,...|    1| [641.0,165.0]|[0.79528535980148...|       0.0|\n",
            "|(24,[0,1,2,3,4,5,...|    0|[2049.0,144.0]|[0.93433652530779...|       0.0|\n",
            "|(24,[0,1,2,3,4,8,...|    0|[2049.0,144.0]|[0.93433652530779...|       0.0|\n",
            "|(24,[0,1,2,3,5,6,...|    0|[2049.0,144.0]|[0.93433652530779...|       0.0|\n",
            "|(24,[0,1,2,3,5,6,...|    0|[2049.0,144.0]|[0.93433652530779...|       0.0|\n",
            "|(24,[0,1,2,3,5,6,...|    0|[2049.0,144.0]|[0.93433652530779...|       0.0|\n",
            "|(24,[0,1,2,3,5,6,...|    0|[2049.0,144.0]|[0.93433652530779...|       0.0|\n",
            "|(24,[0,1,2,3,5,6,...|    0|[2049.0,144.0]|[0.93433652530779...|       0.0|\n",
            "|(24,[0,1,2,3,5,6,...|    0|[2049.0,144.0]|[0.93433652530779...|       0.0|\n",
            "|(24,[0,1,2,3,5,6,...|    0|[2049.0,144.0]|[0.93433652530779...|       0.0|\n",
            "|(24,[0,1,2,3,5,6,...|    0| [298.0,299.0]|[0.49916247906197...|       1.0|\n",
            "+--------------------+-----+--------------+--------------------+----------+\n",
            "only showing top 20 rows\n",
            "\n"
          ]
        }
      ]
    },
    {
      "cell_type": "code",
      "source": [
        "calcular_e_mostrar_metricas(previsoes_dtc_cv_teste, evaluator, \"Decision Tree - Cross Validator - Dados de Teste\")"
      ],
      "metadata": {
        "colab": {
          "base_uri": "https://localhost:8080/"
        },
        "id": "0IpgHidwskM5",
        "outputId": "c6e203a9-b61e-4f8e-ed88-be9834cbb0cc"
      },
      "execution_count": null,
      "outputs": [
        {
          "output_type": "stream",
          "name": "stdout",
          "text": [
            "Decision Tree - Cross Validator - Dados de Teste\n",
            "========================================\n",
            "Matriz de Confusão\n",
            "----------------------------------------\n",
            "                     Previsto\n",
            "                Churn       Não-Churn\n",
            "     Churn        372         171\n",
            "Real\n",
            "     Não-Churn    257         1310\n",
            "----------------------------------------\n",
            "Métricas\n",
            "----------------------------------------\n",
            "Acurácia: 0.797156\n",
            "Precisão: 0.591415\n",
            "Recall: 0.685083\n",
            "F1: 0.634812\n",
            "\n"
          ]
        }
      ]
    },
    {
      "cell_type": "markdown",
      "source": [
        "####6.3 - Random Forest"
      ],
      "metadata": {
        "id": "w6mUZtmntMKT"
      }
    },
    {
      "cell_type": "code",
      "source": [
        "grid = ParamGridBuilder()\\\n",
        "        .addGrid(rfc.maxDepth, [2, 5, 10])\\\n",
        "        .addGrid(rfc.maxBins, [10, 32, 45])\\\n",
        "        .addGrid(rfc.numTrees, [10, 20, 50])\\\n",
        "        .build()"
      ],
      "metadata": {
        "id": "rxzvTGqLtTr1"
      },
      "execution_count": null,
      "outputs": []
    },
    {
      "cell_type": "code",
      "source": [
        "rfc_cv = CrossValidator(\n",
        "    estimator=rfc,\n",
        "    estimatorParamMaps=grid,\n",
        "    evaluator=evaluator,\n",
        "    numFolds=3,\n",
        "    seed=SEED\n",
        ")"
      ],
      "metadata": {
        "id": "_Q74RbaHtVUk"
      },
      "execution_count": null,
      "outputs": []
    },
    {
      "cell_type": "code",
      "source": [
        "modelo_rfc_cv = rfc_cv.fit(treino)"
      ],
      "metadata": {
        "id": "ylpNQMAdtXMI"
      },
      "execution_count": null,
      "outputs": []
    },
    {
      "cell_type": "code",
      "source": [
        "previsoes_rfc_cv_treino = modelo_rfc_cv.transform(treino)"
      ],
      "metadata": {
        "id": "ik6d86ZytZEu"
      },
      "execution_count": null,
      "outputs": []
    },
    {
      "cell_type": "code",
      "source": [
        "previsoes_rfc_cv_treino.show()"
      ],
      "metadata": {
        "colab": {
          "base_uri": "https://localhost:8080/"
        },
        "id": "vKAwPiZmtfC0",
        "outputId": "48c2c3a5-1d85-4d27-eaf5-f6e6d5490fb3"
      },
      "execution_count": null,
      "outputs": [
        {
          "output_type": "stream",
          "name": "stdout",
          "text": [
            "+--------------------+-----+--------------------+--------------------+----------+\n",
            "|            features|label|       rawPrediction|         probability|prediction|\n",
            "+--------------------+-----+--------------------+--------------------+----------+\n",
            "|(24,[0,1,2,3,4,5,...|    0|[49.3310596390511...|[0.98662119278102...|       0.0|\n",
            "|(24,[0,1,2,3,4,5,...|    0|[49.0624112046916...|[0.98124822409383...|       0.0|\n",
            "|(24,[0,1,2,3,4,5,...|    0|[46.3208984843093...|[0.92641796968618...|       0.0|\n",
            "|(24,[0,1,2,3,4,5,...|    0|[44.7583402238563...|[0.89516680447712...|       0.0|\n",
            "|(24,[0,1,2,3,4,5,...|    0|[44.8518217498639...|[0.89703643499727...|       0.0|\n",
            "|(24,[0,1,2,3,4,5,...|    0|[44.9546113318160...|[0.89909222663632...|       0.0|\n",
            "|(24,[0,1,2,3,4,5,...|    0|[44.1870173705582...|[0.88374034741116...|       0.0|\n",
            "|(24,[0,1,2,3,4,5,...|    0|[42.1889068103646...|[0.84377813620729...|       0.0|\n",
            "|(24,[0,1,2,3,4,5,...|    0|[43.7603548068126...|[0.87520709613625...|       0.0|\n",
            "|(24,[0,1,2,3,4,5,...|    0|[46.4224040713207...|[0.92844808142641...|       0.0|\n",
            "|(24,[0,1,2,3,4,5,...|    1|[21.4406100043678...|[0.42881220008735...|       1.0|\n",
            "|(24,[0,1,2,3,4,5,...|    0|[40.908475979231,...|[0.81816951958462...|       0.0|\n",
            "|(24,[0,1,2,3,4,5,...|    0|[44.8757783128003...|[0.89751556625600...|       0.0|\n",
            "|(24,[0,1,2,3,4,5,...|    0|[37.5590771888956...|[0.75118154377791...|       0.0|\n",
            "|(24,[0,1,2,3,4,5,...|    0|[42.1935286488460...|[0.84387057297692...|       0.0|\n",
            "|(24,[0,1,2,3,4,5,...|    0|[37.0197509237629...|[0.74039501847525...|       0.0|\n",
            "|(24,[0,1,2,3,4,5,...|    0|[49.4327562670802...|[0.98865512534160...|       0.0|\n",
            "|(24,[0,1,2,3,4,5,...|    0|[47.7103151898883...|[0.95420630379776...|       0.0|\n",
            "|(24,[0,1,2,3,4,5,...|    0|[45.4273151096873...|[0.90854630219374...|       0.0|\n",
            "|(24,[0,1,2,3,4,5,...|    1|[35.7523820749066...|[0.71504764149813...|       0.0|\n",
            "+--------------------+-----+--------------------+--------------------+----------+\n",
            "only showing top 20 rows\n",
            "\n"
          ]
        }
      ]
    },
    {
      "cell_type": "code",
      "source": [
        "previsoes_rfc_cv_teste = modelo_rfc_cv.transform(teste)"
      ],
      "metadata": {
        "id": "OZtdM0KZtfdf"
      },
      "execution_count": null,
      "outputs": []
    },
    {
      "cell_type": "code",
      "source": [
        "previsoes_rfc_cv_teste.show()"
      ],
      "metadata": {
        "colab": {
          "base_uri": "https://localhost:8080/"
        },
        "id": "VOLtL5oTtkhE",
        "outputId": "e4823257-0866-4a17-c065-9bba5190ad3f"
      },
      "execution_count": null,
      "outputs": [
        {
          "output_type": "stream",
          "name": "stdout",
          "text": [
            "+--------------------+-----+--------------------+--------------------+----------+\n",
            "|            features|label|       rawPrediction|         probability|prediction|\n",
            "+--------------------+-----+--------------------+--------------------+----------+\n",
            "|(24,[0,1,2,3,4,5,...|    0|[46.1187011729974...|[0.92237402345994...|       0.0|\n",
            "|(24,[0,1,2,3,4,5,...|    0|[33.9143647949554...|[0.67828729589910...|       0.0|\n",
            "|(24,[0,1,2,3,4,5,...|    0|[42.3345657356742...|[0.84669131471348...|       0.0|\n",
            "|(24,[0,1,2,3,4,5,...|    0|[44.2666867509088...|[0.88533373501817...|       0.0|\n",
            "|(24,[0,1,2,3,4,5,...|    0|[30.0119816655229...|[0.60023963331045...|       0.0|\n",
            "|(24,[0,1,2,3,4,5,...|    0|[45.3452529136484...|[0.90690505827296...|       0.0|\n",
            "|(24,[0,1,2,3,4,5,...|    1|[37.1262424872318...|[0.74252484974463...|       0.0|\n",
            "|(24,[0,1,2,3,4,5,...|    0|[49.8525009198480...|[0.99705001839696...|       0.0|\n",
            "|(24,[0,1,2,3,4,5,...|    1|[29.1292784428995...|[0.58258556885799...|       0.0|\n",
            "|(24,[0,1,2,3,4,5,...|    1|[31.1807490357622...|[0.62361498071524...|       0.0|\n",
            "|(24,[0,1,2,3,4,5,...|    0|[49.6307392961126...|[0.99261478592225...|       0.0|\n",
            "|(24,[0,1,2,3,4,8,...|    0|[43.9014167350602...|[0.87802833470120...|       0.0|\n",
            "|(24,[0,1,2,3,5,6,...|    0|[48.3815394250528...|[0.96763078850105...|       0.0|\n",
            "|(24,[0,1,2,3,5,6,...|    0|[39.9245185231644...|[0.79849037046328...|       0.0|\n",
            "|(24,[0,1,2,3,5,6,...|    0|[38.3327973011241...|[0.76665594602248...|       0.0|\n",
            "|(24,[0,1,2,3,5,6,...|    0|[48.3242425118094...|[0.96648485023619...|       0.0|\n",
            "|(24,[0,1,2,3,5,6,...|    0|[46.1767889471946...|[0.92353577894389...|       0.0|\n",
            "|(24,[0,1,2,3,5,6,...|    0|[43.4419211442524...|[0.86883842288504...|       0.0|\n",
            "|(24,[0,1,2,3,5,6,...|    0|[45.2302385200909...|[0.90460477040181...|       0.0|\n",
            "|(24,[0,1,2,3,5,6,...|    0|[27.5368615158052...|[0.55073723031610...|       0.0|\n",
            "+--------------------+-----+--------------------+--------------------+----------+\n",
            "only showing top 20 rows\n",
            "\n"
          ]
        }
      ]
    },
    {
      "cell_type": "code",
      "source": [
        "calcular_e_mostrar_metricas(previsoes_rfc_cv_teste, evaluator, \"Random Forest - Cross Validator - Dados de Teste\")"
      ],
      "metadata": {
        "colab": {
          "base_uri": "https://localhost:8080/"
        },
        "id": "EQXN-jKGtmI_",
        "outputId": "546a04d2-f9df-4e36-9be5-c0ec65a21a13"
      },
      "execution_count": null,
      "outputs": [
        {
          "output_type": "stream",
          "name": "stdout",
          "text": [
            "Random Forest - Cross Validator - Dados de Teste\n",
            "========================================\n",
            "Matriz de Confusão\n",
            "----------------------------------------\n",
            "                     Previsto\n",
            "                Churn       Não-Churn\n",
            "     Churn        291         252\n",
            "Real\n",
            "     Não-Churn    150         1417\n",
            "----------------------------------------\n",
            "Métricas\n",
            "----------------------------------------\n",
            "Acurácia: 0.809479\n",
            "Precisão: 0.659864\n",
            "Recall: 0.535912\n",
            "F1: 0.591463\n",
            "\n"
          ]
        }
      ]
    },
    {
      "cell_type": "markdown",
      "source": [
        "####6.4 - Comparação Entre Modelos Após o Tuning"
      ],
      "metadata": {
        "id": "mAN-uCMmwVRF"
      }
    },
    {
      "cell_type": "code",
      "source": [
        "calcular_e_mostrar_metricas(previsoes_lr_cv_teste, evaluator, \"Logistic Regression - Cross Validator - Dados de Teste\")\n",
        "calcular_e_mostrar_metricas(previsoes_dtc_cv_teste, evaluator, \"Decision Tree - Cross Validator - Dados de Teste\")\n",
        "calcular_e_mostrar_metricas(previsoes_rfc_cv_teste, evaluator, \"Random Forest - Cross Validator - Dados de Teste\")"
      ],
      "metadata": {
        "colab": {
          "base_uri": "https://localhost:8080/"
        },
        "id": "lZN0KWCRt-Yv",
        "outputId": "51be3caa-a6ab-4ac6-a61a-50b6178de36f"
      },
      "execution_count": null,
      "outputs": [
        {
          "output_type": "stream",
          "name": "stdout",
          "text": [
            "Logistic Regression - Cross Validator - Dados de Teste\n",
            "========================================\n",
            "Matriz de Confusão\n",
            "----------------------------------------\n",
            "                     Previsto\n",
            "                Churn       Não-Churn\n",
            "     Churn        303         240\n",
            "Real\n",
            "     Não-Churn    151         1416\n",
            "----------------------------------------\n",
            "Métricas\n",
            "----------------------------------------\n",
            "Acurácia: 0.814692\n",
            "Precisão: 0.667401\n",
            "Recall: 0.558011\n",
            "F1: 0.607823\n",
            "\n",
            "Decision Tree - Cross Validator - Dados de Teste\n",
            "========================================\n",
            "Matriz de Confusão\n",
            "----------------------------------------\n",
            "                     Previsto\n",
            "                Churn       Não-Churn\n",
            "     Churn        372         171\n",
            "Real\n",
            "     Não-Churn    257         1310\n",
            "----------------------------------------\n",
            "Métricas\n",
            "----------------------------------------\n",
            "Acurácia: 0.797156\n",
            "Precisão: 0.591415\n",
            "Recall: 0.685083\n",
            "F1: 0.634812\n",
            "\n",
            "Random Forest - Cross Validator - Dados de Teste\n",
            "========================================\n",
            "Matriz de Confusão\n",
            "----------------------------------------\n",
            "                     Previsto\n",
            "                Churn       Não-Churn\n",
            "     Churn        291         252\n",
            "Real\n",
            "     Não-Churn    150         1417\n",
            "----------------------------------------\n",
            "Métricas\n",
            "----------------------------------------\n",
            "Acurácia: 0.809479\n",
            "Precisão: 0.659864\n",
            "Recall: 0.535912\n",
            "F1: 0.591463\n",
            "\n"
          ]
        }
      ]
    },
    {
      "cell_type": "markdown",
      "source": [
        "## **7 - Refinamento do Modelo Escolhido**"
      ],
      "metadata": {
        "id": "pSv3LLR9jNjZ"
      }
    },
    {
      "cell_type": "code",
      "source": [
        "total_churn = treino.filter(\"label == 1\").count()\n",
        "total_no_churn = treino.filter(\"label == 0\").count()"
      ],
      "metadata": {
        "id": "kp9j8qvhjXiX"
      },
      "execution_count": null,
      "outputs": []
    },
    {
      "cell_type": "code",
      "source": [
        "treino.count()"
      ],
      "metadata": {
        "colab": {
          "base_uri": "https://localhost:8080/"
        },
        "id": "VCgvec2imgRh",
        "outputId": "036cb8c4-4f7c-4585-ff9b-c78ab6ad392a"
      },
      "execution_count": null,
      "outputs": [
        {
          "output_type": "execute_result",
          "data": {
            "text/plain": [
              "4933"
            ]
          },
          "metadata": {},
          "execution_count": 89
        }
      ]
    },
    {
      "cell_type": "code",
      "source": [
        "total_churn"
      ],
      "metadata": {
        "colab": {
          "base_uri": "https://localhost:8080/"
        },
        "id": "nQ9cLr39mSfI",
        "outputId": "2896a417-d3b9-4cbf-aa3b-0810ae65c494"
      },
      "execution_count": null,
      "outputs": [
        {
          "output_type": "execute_result",
          "data": {
            "text/plain": [
              "1326"
            ]
          },
          "metadata": {},
          "execution_count": 86
        }
      ]
    },
    {
      "cell_type": "code",
      "source": [
        "total_no_churn"
      ],
      "metadata": {
        "colab": {
          "base_uri": "https://localhost:8080/"
        },
        "id": "vQ2pTAPcmUE9",
        "outputId": "bc306612-72d8-4ee0-b04f-99ffa966aec1"
      },
      "execution_count": null,
      "outputs": [
        {
          "output_type": "execute_result",
          "data": {
            "text/plain": [
              "3607"
            ]
          },
          "metadata": {},
          "execution_count": 87
        }
      ]
    },
    {
      "cell_type": "code",
      "source": [
        "weight_churn = total_no_churn / total_churn\n",
        "weight_no_churn = 1.0"
      ],
      "metadata": {
        "id": "WMPmKFUEjYIt"
      },
      "execution_count": null,
      "outputs": []
    },
    {
      "cell_type": "code",
      "source": [
        "treino = treino.withColumn(\"weight\", f.when(treino[\"label\"] == 1, weight_churn).otherwise(weight_no_churn))"
      ],
      "metadata": {
        "id": "KE0HrtTojn7H"
      },
      "execution_count": null,
      "outputs": []
    },
    {
      "cell_type": "code",
      "source": [
        "rfc_weights = RandomForestClassifier(seed=SEED, weightCol=\"weight\")"
      ],
      "metadata": {
        "id": "7eyAoDVijrMV"
      },
      "execution_count": null,
      "outputs": []
    },
    {
      "cell_type": "code",
      "source": [
        "grid = ParamGridBuilder()\\\n",
        "        .addGrid(rfc_weights.maxDepth, [2, 5, 10])\\\n",
        "        .addGrid(rfc_weights.maxBins, [10, 32, 45])\\\n",
        "        .addGrid(rfc_weights.numTrees, [10, 20, 50])\\\n",
        "        .build()"
      ],
      "metadata": {
        "id": "CiGnpIG-k0fz"
      },
      "execution_count": null,
      "outputs": []
    },
    {
      "cell_type": "code",
      "source": [
        "rfc_cv_weights = CrossValidator(\n",
        "    estimator=rfc_weights,\n",
        "    estimatorParamMaps=grid,\n",
        "    evaluator=evaluator,\n",
        "    numFolds=3,\n",
        "    seed=SEED)"
      ],
      "metadata": {
        "id": "M18U5PCKkoi7"
      },
      "execution_count": null,
      "outputs": []
    },
    {
      "cell_type": "code",
      "source": [
        "modelo_rfc_cv_weights = rfc_cv_weights.fit(treino)"
      ],
      "metadata": {
        "id": "FTtHPUGXkC6o"
      },
      "execution_count": null,
      "outputs": []
    },
    {
      "cell_type": "code",
      "source": [
        "previsoes_rfc_cv_weights_teste = modelo_rfc_cv_weights.transform(teste)"
      ],
      "metadata": {
        "id": "EbR45GoAkETc"
      },
      "execution_count": null,
      "outputs": []
    },
    {
      "cell_type": "code",
      "source": [
        "calcular_e_mostrar_metricas(previsoes_rfc_cv_weights_teste, evaluator, \"Random Forest Weights - Cross Validator - Dados de Teste\")"
      ],
      "metadata": {
        "colab": {
          "base_uri": "https://localhost:8080/"
        },
        "id": "uKYYSPwBlEli",
        "outputId": "f295ce93-4fae-4e74-ef1f-b7ceaddb3661"
      },
      "execution_count": null,
      "outputs": [
        {
          "output_type": "stream",
          "name": "stdout",
          "text": [
            "Random Forest Weights - Cross Validator - Dados de Teste\n",
            "========================================\n",
            "Matriz de Confusão\n",
            "----------------------------------------\n",
            "                     Previsto\n",
            "                Churn       Não-Churn\n",
            "     Churn        396         147\n",
            "Real\n",
            "     Não-Churn    323         1244\n",
            "----------------------------------------\n",
            "Métricas\n",
            "----------------------------------------\n",
            "Acurácia: 0.777251\n",
            "Precisão: 0.550765\n",
            "Recall: 0.729282\n",
            "F1: 0.627575\n",
            "\n"
          ]
        }
      ]
    },
    {
      "cell_type": "markdown",
      "source": [
        "## **8 - Cadastro e Teste Para Novos Clientes**"
      ],
      "metadata": {
        "id": "-Byw7mg5KJf8"
      }
    },
    {
      "cell_type": "code",
      "source": [
        "novo_cliente = [{\n",
        "'Tenure_Months': 1,\n",
        " 'Monthly_Charges': 37.5603476145074,\n",
        " 'Senior_Citizen': 0,\n",
        " 'Partner': 0,\n",
        " 'Dependents': 1,\n",
        " 'Phone_Service': 0,\n",
        " 'Multiple_Lines': 0,\n",
        " 'Online_Security': 0,\n",
        " 'Online_Backup': 0,\n",
        " 'Device_Protection': 0,\n",
        " 'Tech_Support': 0,\n",
        " 'Streaming_TV': 0,\n",
        " 'Streaming_Movies': 0,\n",
        " 'Paperless_Billing': 1,\n",
        " 'DSL_Internet': 0,\n",
        " 'Fiber_optic_Internet': 1,\n",
        " 'No_Internet': 0,\n",
        " 'Month_to_month_Contract': 1,\n",
        " 'One_Year_Contract': 0,\n",
        " 'Two_Year_Contract': 0,\n",
        " 'Bank_Transfer_Automatic_Payment_Method': 0,\n",
        " 'Credit_Card_Automatic_Payment_Method': 0,\n",
        " 'Eletronic_Check_Payment_Method': 1,\n",
        " 'Mailed_Check_Payment_Method': 0\n",
        " }]"
      ],
      "metadata": {
        "id": "mcwZo4hjKgfi"
      },
      "execution_count": null,
      "outputs": []
    },
    {
      "cell_type": "code",
      "source": [
        "novo_cliente = spark.createDataFrame(novo_cliente)\n",
        "novo_cliente.show()"
      ],
      "metadata": {
        "colab": {
          "base_uri": "https://localhost:8080/"
        },
        "id": "kecSAedTMAwq",
        "outputId": "19806515-cdc4-4372-c8ef-a69f4190f0bc"
      },
      "execution_count": null,
      "outputs": [
        {
          "output_type": "stream",
          "name": "stdout",
          "text": [
            "+--------------------------------------+------------------------------------+------------+----------+-----------------+------------------------------+--------------------+---------------------------+-----------------------+----------------+--------------+-----------+-----------------+-------------+---------------+-----------------+-------+-------------+--------------+----------------+------------+------------+-------------+-----------------+\n",
            "|Bank_Transfer_Automatic_Payment_Method|Credit_Card_Automatic_Payment_Method|DSL_Internet|Dependents|Device_Protection|Eletronic_Check_Payment_Method|Fiber_optic_Internet|Mailed_Check_Payment_Method|Month_to_month_Contract| Monthly_Charges|Multiple_Lines|No_Internet|One_Year_Contract|Online_Backup|Online_Security|Paperless_Billing|Partner|Phone_Service|Senior_Citizen|Streaming_Movies|Streaming_TV|Tech_Support|Tenure_Months|Two_Year_Contract|\n",
            "+--------------------------------------+------------------------------------+------------+----------+-----------------+------------------------------+--------------------+---------------------------+-----------------------+----------------+--------------+-----------+-----------------+-------------+---------------+-----------------+-------+-------------+--------------+----------------+------------+------------+-------------+-----------------+\n",
            "|                                     0|                                   0|           0|         1|                0|                             1|                   1|                          0|                      1|37.5603476145074|             0|          0|                0|            0|              0|                1|      0|            0|             0|               0|           0|           0|            1|                0|\n",
            "+--------------------------------------+------------------------------------+------------+----------+-----------------+------------------------------+--------------------+---------------------------+-----------------------+----------------+--------------+-----------+-----------------+-------------+---------------+-----------------+-------+-------------+--------------+----------------+------------+------------+-------------+-----------------+\n",
            "\n"
          ]
        }
      ]
    },
    {
      "cell_type": "code",
      "source": [
        "novo_cliente_prep = assembler.transform(novo_cliente).select('features')"
      ],
      "metadata": {
        "id": "Poa2jMrVMH3s"
      },
      "execution_count": null,
      "outputs": []
    },
    {
      "cell_type": "code",
      "source": [
        "modelo_rfc_cv.transform(novo_cliente_prep).show()"
      ],
      "metadata": {
        "colab": {
          "base_uri": "https://localhost:8080/"
        },
        "id": "L-B3Prj4MLav",
        "outputId": "773ef19a-b30f-48c4-c19c-0e98442eb501"
      },
      "execution_count": null,
      "outputs": [
        {
          "output_type": "stream",
          "name": "stdout",
          "text": [
            "+--------------------+--------------------+--------------------+----------+\n",
            "|            features|       rawPrediction|         probability|prediction|\n",
            "+--------------------+--------------------+--------------------+----------+\n",
            "|(24,[0,1,4,13,15,...|[2.63854937240155...|[0.26385493724015...|       1.0|\n",
            "+--------------------+--------------------+--------------------+----------+\n",
            "\n"
          ]
        }
      ]
    },
    {
      "cell_type": "code",
      "source": [
        "novo_cliente_2 = [{\n",
        "'Tenure_Months': 50,\n",
        " 'Monthly_Charges': 40.94549860978567,\n",
        " 'Senior_Citizen': 0,\n",
        " 'Partner': 0,\n",
        " 'Dependents': 1,\n",
        " 'Phone_Service': 0,\n",
        " 'Multiple_Lines': 0,\n",
        " 'Online_Security': 0,\n",
        " 'Online_Backup': 0,\n",
        " 'Device_Protection': 0,\n",
        " 'Tech_Support': 0,\n",
        " 'Streaming_TV': 1,\n",
        " 'Streaming_Movies': 1,\n",
        " 'Paperless_Billing': 1,\n",
        " 'DSL_Internet': 1,\n",
        " 'Fiber_optic_Internet': 0,\n",
        " 'No_Internet': 0,\n",
        " 'Month_to_month_Contract': 0,\n",
        " 'One_Year_Contract': 0,\n",
        " 'Two_Year_Contract': 1,\n",
        " 'Bank_Transfer_Automatic_Payment_Method': 0,\n",
        " 'Credit_Card_Automatic_Payment_Method': 1,\n",
        " 'Eletronic_Check_Payment_Method': 0,\n",
        " 'Mailed_Check_Payment_Method': 0\n",
        " }]"
      ],
      "metadata": {
        "id": "0j1O4FN7M1kE"
      },
      "execution_count": null,
      "outputs": []
    },
    {
      "cell_type": "code",
      "source": [
        "novo_cliente_2 = spark.createDataFrame(novo_cliente_2)\n",
        "novo_cliente_2.show()"
      ],
      "metadata": {
        "colab": {
          "base_uri": "https://localhost:8080/"
        },
        "id": "1-UiAWNePDsh",
        "outputId": "8c0c1ea5-f447-4822-9a66-f32d520953b7"
      },
      "execution_count": null,
      "outputs": [
        {
          "output_type": "stream",
          "name": "stdout",
          "text": [
            "+--------------------------------------+------------------------------------+------------+----------+-----------------+------------------------------+--------------------+---------------------------+-----------------------+-----------------+--------------+-----------+-----------------+-------------+---------------+-----------------+-------+-------------+--------------+----------------+------------+------------+-------------+-----------------+\n",
            "|Bank_Transfer_Automatic_Payment_Method|Credit_Card_Automatic_Payment_Method|DSL_Internet|Dependents|Device_Protection|Eletronic_Check_Payment_Method|Fiber_optic_Internet|Mailed_Check_Payment_Method|Month_to_month_Contract|  Monthly_Charges|Multiple_Lines|No_Internet|One_Year_Contract|Online_Backup|Online_Security|Paperless_Billing|Partner|Phone_Service|Senior_Citizen|Streaming_Movies|Streaming_TV|Tech_Support|Tenure_Months|Two_Year_Contract|\n",
            "+--------------------------------------+------------------------------------+------------+----------+-----------------+------------------------------+--------------------+---------------------------+-----------------------+-----------------+--------------+-----------+-----------------+-------------+---------------+-----------------+-------+-------------+--------------+----------------+------------+------------+-------------+-----------------+\n",
            "|                                     0|                                   1|           1|         1|                0|                             0|                   0|                          0|                      0|40.94549860978567|             0|          0|                0|            0|              0|                1|      0|            0|             0|               1|           1|           0|           50|                1|\n",
            "+--------------------------------------+------------------------------------+------------+----------+-----------------+------------------------------+--------------------+---------------------------+-----------------------+-----------------+--------------+-----------+-----------------+-------------+---------------+-----------------+-------+-------------+--------------+----------------+------------+------------+-------------+-----------------+\n",
            "\n"
          ]
        }
      ]
    },
    {
      "cell_type": "code",
      "source": [
        "novo_cliente_2_prep = assembler.transform(novo_cliente_2).select('features')"
      ],
      "metadata": {
        "id": "qvQufjiHORCE"
      },
      "execution_count": null,
      "outputs": []
    },
    {
      "cell_type": "code",
      "source": [
        "modelo_rfc_cv.transform(novo_cliente_2_prep).show()"
      ],
      "metadata": {
        "colab": {
          "base_uri": "https://localhost:8080/"
        },
        "id": "eBYP4FKuOa8X",
        "outputId": "64dc7f2a-7c1f-40cc-c447-2d458bd07262"
      },
      "execution_count": null,
      "outputs": [
        {
          "output_type": "stream",
          "name": "stdout",
          "text": [
            "+--------------------+-------------+-----------+----------+\n",
            "|            features|rawPrediction|probability|prediction|\n",
            "+--------------------+-------------+-----------+----------+\n",
            "|(24,[0,1,4,11,12,...|    [9.0,1.0]|  [0.9,0.1]|       0.0|\n",
            "+--------------------+-------------+-----------+----------+\n",
            "\n"
          ]
        }
      ]
    },
    {
      "cell_type": "code",
      "source": [],
      "metadata": {
        "id": "qHcM6tKlUNUw"
      },
      "execution_count": null,
      "outputs": []
    }
  ]
}